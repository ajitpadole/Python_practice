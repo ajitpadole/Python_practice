{
  "cells": [
    {
      "cell_type": "markdown",
      "metadata": {
        "id": "view-in-github",
        "colab_type": "text"
      },
      "source": [
        "<a href=\"https://colab.research.google.com/github/ajitpadole/Python_practice/blob/main/YOUTUBE_PYTHON_PRCTICE_(1).ipynb\" target=\"_parent\"><img src=\"https://colab.research.google.com/assets/colab-badge.svg\" alt=\"Open In Colab\"/></a>"
      ]
    },
    {
      "cell_type": "code",
      "execution_count": null,
      "id": "f4ef64ed",
      "metadata": {
        "id": "f4ef64ed",
        "outputId": "47b9a3c4-4270-4022-bacd-ea0b1a9446a4"
      },
      "outputs": [
        {
          "name": "stdout",
          "output_type": "stream",
          "text": [
            "Enter first Number10\n",
            "Enter Second Number20\n",
            "the addition of 1 and 2 number 30\n"
          ]
        }
      ],
      "source": [
        "# Add two numbers\n",
        "num1 = int(input(\"Enter first Number\"))\n",
        "num2 = int(input(\"Enter Second Number\"))\n",
        "add = num1 + num2\n",
        "print(\"the addition of 1 and 2 number\",add)"
      ]
    },
    {
      "cell_type": "code",
      "execution_count": null,
      "id": "346e6363",
      "metadata": {
        "id": "346e6363"
      },
      "outputs": [],
      "source": [
        "# calculate squree root program in python\n",
        "def sq_root(num):\n",
        "    if num > 1:\n",
        "        return (num ** (1/2))\n"
      ]
    },
    {
      "cell_type": "code",
      "execution_count": null,
      "id": "5081e799",
      "metadata": {
        "id": "5081e799",
        "outputId": "78cc6609-487d-4be2-c78a-6bfd660e8a4d"
      },
      "outputs": [
        {
          "name": "stdout",
          "output_type": "stream",
          "text": [
            "Enter number for squree root 63\n",
            "7.937253933193772\n"
          ]
        }
      ],
      "source": [
        "num = int(input(\"Enter number for squree root \"))\n",
        "print(sq_root(num))"
      ]
    },
    {
      "cell_type": "code",
      "execution_count": null,
      "id": "43592f15",
      "metadata": {
        "id": "43592f15",
        "outputId": "2e2d2453-005e-458c-e4c4-2e87ba88fafd"
      },
      "outputs": [
        {
          "name": "stdout",
          "output_type": "stream",
          "text": [
            "2\n",
            "5.0\n"
          ]
        }
      ],
      "source": [
        "import math\n",
        "\n",
        "a = int(input())\n",
        "sqrot = math.sqrt(b)\n",
        "print(sqrot)"
      ]
    },
    {
      "cell_type": "code",
      "execution_count": null,
      "id": "8be1b8e7",
      "metadata": {
        "id": "8be1b8e7"
      },
      "outputs": [],
      "source": [
        "# calculate area of traingle\n",
        "def area_traingle(b,h):\n",
        "    print((0.5)* (b)*(h))\n",
        "    "
      ]
    },
    {
      "cell_type": "code",
      "execution_count": null,
      "id": "57b401d4",
      "metadata": {
        "id": "57b401d4",
        "outputId": "040b5cf4-87c3-4051-87a9-2b24673c10ef"
      },
      "outputs": [
        {
          "name": "stdout",
          "output_type": "stream",
          "text": [
            "15\n",
            "42\n",
            "315.0\n",
            "None\n"
          ]
        }
      ],
      "source": [
        "b = int(input())\n",
        "h = int(input())\n",
        "area=area_traingle(b,h)\n",
        "print(area)"
      ]
    },
    {
      "cell_type": "code",
      "execution_count": null,
      "id": "5c46eadb",
      "metadata": {
        "id": "5c46eadb",
        "outputId": "39397532-bdf7-4279-ef55-1ab2be2675d7"
      },
      "outputs": [
        {
          "name": "stdout",
          "output_type": "stream",
          "text": [
            "5\n",
            "2\n"
          ]
        }
      ],
      "source": [
        "# swap two variable \n",
        "\n",
        "a = 2\n",
        "b = 5\n",
        "# swap wusing 3 rd variable\n",
        "c=a\n",
        "a=b\n",
        "b=c\n",
        "print(a)\n",
        "print(b)"
      ]
    },
    {
      "cell_type": "code",
      "execution_count": null,
      "id": "abca2523",
      "metadata": {
        "id": "abca2523",
        "outputId": "cd9bb43f-4d9a-4902-b6a1-263c8fcb3110"
      },
      "outputs": [
        {
          "name": "stdout",
          "output_type": "stream",
          "text": [
            "6\n",
            "5\n"
          ]
        }
      ],
      "source": [
        "# swap two variable without 3rd variable \n",
        "a=5\n",
        "b=6\n",
        "a,b = b,a\n",
        "print(a)\n",
        "print(b)"
      ]
    },
    {
      "cell_type": "code",
      "execution_count": null,
      "id": "ee01a9bd",
      "metadata": {
        "id": "ee01a9bd",
        "outputId": "8054a33f-d013-4c5e-c5f7-dc63d18d41ab"
      },
      "outputs": [
        {
          "name": "stdout",
          "output_type": "stream",
          "text": [
            "15\n",
            "9.3\n",
            "None\n"
          ]
        }
      ],
      "source": [
        "# kilometer to mails \n",
        "def km_mils(num):\n",
        "    print(0.62*num)\n",
        "num = int(input())\n",
        "print(km_mils(num))"
      ]
    },
    {
      "cell_type": "code",
      "execution_count": null,
      "id": "f9b9a7ff",
      "metadata": {
        "id": "f9b9a7ff",
        "outputId": "c36b2823-d6e3-47eb-849c-2a335aff464f"
      },
      "outputs": [
        {
          "name": "stdout",
          "output_type": "stream",
          "text": [
            "0\n",
            "Zero\n"
          ]
        }
      ],
      "source": [
        "# number is positive nigative or zero\n",
        "def p_n_z(num):\n",
        "    if num > 0:\n",
        "        return \"positive\"\n",
        "    elif num == 0:\n",
        "        return \"Zero\"\n",
        "    else:\n",
        "        return \"negative\"\n",
        "num = int(input())\n",
        "print(p_n_z(num))"
      ]
    },
    {
      "cell_type": "code",
      "execution_count": null,
      "id": "eb209802",
      "metadata": {
        "id": "eb209802",
        "outputId": "0762d390-3d58-4f01-ebe6-4bba49625dea"
      },
      "outputs": [
        {
          "name": "stdout",
          "output_type": "stream",
          "text": [
            "25\n",
            "the number is odd\n"
          ]
        }
      ],
      "source": [
        "# odd or even\n",
        "def is_odd(num):\n",
        "    if num % 2 == 0:\n",
        "        return \"the number is even\"\n",
        "    else:\n",
        "        return \"the number is odd\"\n",
        "num = int(input())\n",
        "print(is_odd(num))"
      ]
    },
    {
      "cell_type": "code",
      "execution_count": null,
      "id": "c5986970",
      "metadata": {
        "id": "c5986970",
        "outputId": "273d0427-401b-4d8c-bbfc-dbed836bca0c"
      },
      "outputs": [
        {
          "name": "stdout",
          "output_type": "stream",
          "text": [
            "2020\n",
            "the year is leap year\n"
          ]
        }
      ],
      "source": [
        "# check leap year \n",
        "\n",
        "year = int(input())\n",
        "\n",
        "if ((year % 100 ==0 )and(year%400 == 0)):\n",
        "    print(\"the year is leap year\")\n",
        "elif (year%4 ==0 )and (year%100!=0):\n",
        "    print(\"the year is leap year\")\n",
        "else:\n",
        "    print(\"the number is not leap year\")"
      ]
    },
    {
      "cell_type": "code",
      "execution_count": null,
      "id": "bdcfa793",
      "metadata": {
        "id": "bdcfa793",
        "outputId": "17104f48-27d6-4c5f-e1c2-402192ed90c8"
      },
      "outputs": [
        {
          "name": "stdout",
          "output_type": "stream",
          "text": [
            "50\n",
            "12\n",
            "35\n",
            "the gatest number amoung three is:  50\n"
          ]
        }
      ],
      "source": [
        "# find largest amoung three number\n",
        "num1 = int(input())\n",
        "num2 = int(input())\n",
        "num3 = int(input())\n",
        "\n",
        "if ((num1>num2)and(num1>num3)):\n",
        "    print(\"the gatest number amoung three is: \",num1)\n",
        "elif ((num2>num3)and(num2>num1)):\n",
        "    print(\"the gatest number amoung three is: \",num2)\n",
        "else:\n",
        "     print(\"the gatest number amoung three is: \",num3)\n",
        "    \n",
        "    "
      ]
    },
    {
      "cell_type": "code",
      "execution_count": null,
      "id": "ac484e6f",
      "metadata": {
        "id": "ac484e6f",
        "outputId": "422b62ad-8982-4744-c985-6c925b58ab67"
      },
      "outputs": [
        {
          "name": "stdout",
          "output_type": "stream",
          "text": [
            "12\n",
            "Not prime\n"
          ]
        }
      ],
      "source": [
        "# cheach prime number\n",
        "num = int(input())\n",
        "if num == 1:\n",
        "    print( \"its not prime number\")\n",
        "if num>1:\n",
        "    for i in range(2,num):\n",
        "        if num % i == 0:\n",
        "            print(\"Not prime\")\n",
        "            break\n",
        "        \n",
        "    else:\n",
        "        print(\"prime\")\n"
      ]
    },
    {
      "cell_type": "code",
      "execution_count": null,
      "id": "0eae5306",
      "metadata": {
        "id": "0eae5306",
        "outputId": "9141fd50-adf6-4cc1-ecc0-0570685cb2d2"
      },
      "outputs": [
        {
          "name": "stdout",
          "output_type": "stream",
          "text": [
            "\n"
          ]
        },
        {
          "ename": "ValueError",
          "evalue": "invalid literal for int() with base 10: ''",
          "output_type": "error",
          "traceback": [
            "\u001b[1;31m---------------------------------------------------------------------------\u001b[0m",
            "\u001b[1;31mValueError\u001b[0m                                Traceback (most recent call last)",
            "\u001b[1;32m~\\AppData\\Local\\Temp\\ipykernel_5952\\3238985635.py\u001b[0m in \u001b[0;36m<module>\u001b[1;34m\u001b[0m\n\u001b[1;32m----> 1\u001b[1;33m \u001b[0mnum\u001b[0m \u001b[1;33m=\u001b[0m \u001b[0mint\u001b[0m\u001b[1;33m(\u001b[0m\u001b[0minput\u001b[0m\u001b[1;33m(\u001b[0m\u001b[1;33m)\u001b[0m\u001b[1;33m)\u001b[0m\u001b[1;33m\u001b[0m\u001b[1;33m\u001b[0m\u001b[0m\n\u001b[0m\u001b[0;32m      2\u001b[0m \u001b[1;32mfor\u001b[0m \u001b[0mi\u001b[0m \u001b[1;32min\u001b[0m \u001b[0mrange\u001b[0m\u001b[1;33m(\u001b[0m\u001b[1;36m2\u001b[0m\u001b[1;33m,\u001b[0m\u001b[0mnum\u001b[0m\u001b[1;33m)\u001b[0m\u001b[1;33m:\u001b[0m\u001b[1;33m\u001b[0m\u001b[1;33m\u001b[0m\u001b[0m\n\u001b[0;32m      3\u001b[0m         \u001b[1;32mif\u001b[0m \u001b[0mnum\u001b[0m \u001b[1;33m%\u001b[0m \u001b[0mi\u001b[0m \u001b[1;33m==\u001b[0m \u001b[1;36m0\u001b[0m\u001b[1;33m:\u001b[0m\u001b[1;33m\u001b[0m\u001b[1;33m\u001b[0m\u001b[0m\n\u001b[0;32m      4\u001b[0m             \u001b[0mprint\u001b[0m\u001b[1;33m(\u001b[0m\u001b[1;34m\"Not prime\"\u001b[0m\u001b[1;33m)\u001b[0m\u001b[1;33m\u001b[0m\u001b[1;33m\u001b[0m\u001b[0m\n\u001b[0;32m      5\u001b[0m             \u001b[1;32mbreak\u001b[0m\u001b[1;33m\u001b[0m\u001b[1;33m\u001b[0m\u001b[0m\n",
            "\u001b[1;31mValueError\u001b[0m: invalid literal for int() with base 10: ''"
          ]
        }
      ],
      "source": [
        "num = int(input())\n",
        "for i in range(2,num):\n",
        "        if num % i == 0:\n",
        "            print(\"Not prime\")\n",
        "            break\n",
        "        \n",
        "else:\n",
        "    print(\"prime\")"
      ]
    },
    {
      "cell_type": "code",
      "execution_count": null,
      "id": "f4e369e3",
      "metadata": {
        "id": "f4e369e3"
      },
      "outputs": [],
      "source": [
        "# prime number in the range\n",
        "def prime_rang(num1,num2):\n",
        "    for num in range(num1,num2+1):\n",
        "        if num >1:\n",
        "            for i in range(2,num):\n",
        "                if num%i ==0:\n",
        "                    break\n",
        "            else :\n",
        "                print(num)\n"
      ]
    },
    {
      "cell_type": "code",
      "execution_count": null,
      "id": "4e335320",
      "metadata": {
        "id": "4e335320",
        "outputId": "ab81a4ee-f293-44a7-9767-a18cbbb61e44"
      },
      "outputs": [
        {
          "name": "stdout",
          "output_type": "stream",
          "text": [
            "17\n",
            "19\n",
            "23\n",
            "29\n",
            "31\n",
            "37\n",
            "41\n",
            "43\n",
            "47\n",
            "53\n",
            "59\n",
            "None\n"
          ]
        }
      ],
      "source": [
        "print(prime_rang(15,60))"
      ]
    },
    {
      "cell_type": "code",
      "execution_count": null,
      "id": "dd1ac685",
      "metadata": {
        "id": "dd1ac685",
        "outputId": "cd81f86d-cd6b-413e-f1d6-4eb9bea330b9"
      },
      "outputs": [
        {
          "name": "stdout",
          "output_type": "stream",
          "text": [
            "The value is 5\n",
            "the factorial is 1\n",
            "the factorial is 2\n",
            "the factorial is 6\n",
            "the factorial is 24\n",
            "the factorial is 120\n"
          ]
        }
      ],
      "source": [
        "# find the factorail of number \n",
        "num = int(input(\"The value is \"))\n",
        "fact = 1\n",
        "\n",
        "for i in range(1,num+1):\n",
        "    fact = i*fact\n",
        "    print(\"the factorial is\",fact)\n"
      ]
    },
    {
      "cell_type": "code",
      "execution_count": null,
      "id": "e99231af",
      "metadata": {
        "id": "e99231af",
        "outputId": "b637df69-cecb-421f-e347-67c33ed8e634"
      },
      "outputs": [
        {
          "name": "stdout",
          "output_type": "stream",
          "text": [
            "The value is 5\n",
            "the factorial is 120\n"
          ]
        }
      ],
      "source": [
        "# find the factorail of number \n",
        "num = int(input(\"The value is \"))\n",
        "fact = 1\n",
        "\n",
        "for i in range(1,num+1):\n",
        "    fact = i*fact\n",
        "print(\"the factorial is\",fact)"
      ]
    },
    {
      "cell_type": "code",
      "execution_count": null,
      "id": "736b6d73",
      "metadata": {
        "id": "736b6d73"
      },
      "outputs": [],
      "source": [
        "def fact(a):\n",
        "    if a== 0:\n",
        "        return 1\n",
        "    else:\n",
        "        return ((a)*fact(a-1))"
      ]
    },
    {
      "cell_type": "code",
      "execution_count": null,
      "id": "7d2701fe",
      "metadata": {
        "id": "7d2701fe",
        "outputId": "677606f4-0ac6-451a-a1c5-c336ab1b8319"
      },
      "outputs": [
        {
          "name": "stdout",
          "output_type": "stream",
          "text": [
            "120\n"
          ]
        }
      ],
      "source": [
        "print(fact(5))"
      ]
    },
    {
      "cell_type": "code",
      "execution_count": null,
      "id": "10cedac0",
      "metadata": {
        "id": "10cedac0",
        "outputId": "df11777c-9f68-435e-e6a0-12699695912c"
      },
      "outputs": [
        {
          "name": "stdout",
          "output_type": "stream",
          "text": [
            "which table required enter here8\n",
            "8\n",
            "16\n",
            "24\n",
            "32\n",
            "40\n",
            "48\n",
            "56\n",
            "64\n",
            "72\n",
            "80\n"
          ]
        }
      ],
      "source": [
        "# multiplication table \n",
        "num = int(input(\"which table required enter here\"))\n",
        "for i in range(1,11):\n",
        "    print(i*num)"
      ]
    },
    {
      "cell_type": "code",
      "execution_count": null,
      "id": "bb37f005",
      "metadata": {
        "id": "bb37f005",
        "outputId": "6f3f3ca9-a618-4e46-bd36-838b94623e24"
      },
      "outputs": [
        {
          "name": "stdout",
          "output_type": "stream",
          "text": [
            " the fibonacci number requred enter here10\n",
            "0\n",
            "1\n",
            "1\n",
            "2\n",
            "3\n",
            "5\n",
            "8\n",
            "13\n",
            "21\n",
            "34\n"
          ]
        }
      ],
      "source": [
        "# febonacci sequence\n",
        "num = int(input(\" the fibonacci number requred enter here \"))\n",
        "a= 0\n",
        "b= 1\n",
        "if num == 1:\n",
        "    print ( \"the number febonacci is 0\")\n",
        "if num > 1:\n",
        "    print(a)\n",
        "    print(b)\n",
        "    for i in range(2,num):\n",
        "        c = a+b\n",
        "        a=b\n",
        "        b=c\n",
        "        print(c)"
      ]
    },
    {
      "cell_type": "code",
      "execution_count": null,
      "id": "988c08e0",
      "metadata": {
        "id": "988c08e0",
        "outputId": "bc9de658-c02b-476a-dc0f-fcbcf7531c10"
      },
      "outputs": [
        {
          "name": "stdout",
          "output_type": "stream",
          "text": [
            "Enter Number  5\n",
            "15\n"
          ]
        }
      ],
      "source": [
        "#sum of natural Number\n",
        "num = int(input(\"Enter Number  \")) # Enter any number\n",
        "if num <0:\n",
        "    print(\"please enter valied positive number\")\n",
        "else:\n",
        "    sum = 0\n",
        "    while num > 0:\n",
        "        sum += num\n",
        "        num -= 1\n",
        "    print(sum)\n",
        "    \n"
      ]
    },
    {
      "cell_type": "code",
      "execution_count": null,
      "id": "dd6a125f",
      "metadata": {
        "id": "dd6a125f",
        "outputId": "30558181-acd7-4f4f-b833-7bfbeeb9e7a3"
      },
      "outputs": [
        {
          "name": "stdout",
          "output_type": "stream",
          "text": [
            "Enter the valied number5\n",
            "[0, 1, 4, 9, 16, 25]\n"
          ]
        }
      ],
      "source": [
        "# desplay the Power of 2\n",
        "num = int(input(\"Enter the valied number\"))\n",
        "result  = list(map(lambda x:x**2,range(num+1)))\n",
        "print(result)"
      ]
    },
    {
      "cell_type": "code",
      "execution_count": null,
      "id": "806a6b9d",
      "metadata": {
        "id": "806a6b9d",
        "outputId": "d53b6abc-b368-4eba-e01c-7dcb800c72d2"
      },
      "outputs": [
        {
          "name": "stdout",
          "output_type": "stream",
          "text": [
            "Enter the valied number5\n",
            "[1, 2, 4, 8, 16, 32]\n"
          ]
        }
      ],
      "source": [
        "# desplay the Power of 2\n",
        "num = int(input(\"Enter the valied number\"))\n",
        "result  = list(map(lambda x:2**x,range(num+1)))\n",
        "print(result)"
      ]
    },
    {
      "cell_type": "code",
      "execution_count": null,
      "id": "e2d26116",
      "metadata": {
        "id": "e2d26116",
        "outputId": "5394d7ef-c1f5-46d3-acc6-5b54a76159f9"
      },
      "outputs": [
        {
          "name": "stdout",
          "output_type": "stream",
          "text": [
            "13\n",
            "13\n",
            "26\n",
            "39\n",
            "52\n",
            "65\n",
            "78\n",
            "91\n"
          ]
        }
      ],
      "source": [
        "# number divided by 13\n",
        "num = int(input())\n",
        "for i in range(1,100):\n",
        "    if i % num == 0:\n",
        "        print(i)"
      ]
    },
    {
      "cell_type": "code",
      "execution_count": null,
      "id": "b7b7548a",
      "metadata": {
        "id": "b7b7548a",
        "outputId": "708a0bcd-7864-4dfa-b757-61a549796466"
      },
      "outputs": [
        {
          "name": "stdout",
          "output_type": "stream",
          "text": [
            "[13, 78, 65]\n"
          ]
        }
      ],
      "source": [
        "# use lambada\n",
        "l=[13,5,4,8,9,78,9,6,5,4,1,23,5,6,65,488,5]\n",
        "result = list(filter(lambda x : x%13==0,l))\n",
        "print(result)"
      ]
    },
    {
      "cell_type": "code",
      "execution_count": null,
      "id": "341dd587",
      "metadata": {
        "id": "341dd587",
        "outputId": "7b850a65-e6cd-4514-8386-73d86e24418a"
      },
      "outputs": [
        {
          "name": "stdout",
          "output_type": "stream",
          "text": [
            "150\n",
            "0b10010110\n",
            "0o226\n",
            "0x96\n"
          ]
        }
      ],
      "source": [
        "# convert bin,oct,hexa\n",
        "num = int(input())\n",
        "binary = bin(num)\n",
        "octaore = oct(num)\n",
        "hexa = hex(num)\n",
        "print(binary)\n",
        "print(octaore)\n",
        "print(hexa)"
      ]
    },
    {
      "cell_type": "code",
      "execution_count": null,
      "id": "116d095c",
      "metadata": {
        "id": "116d095c"
      },
      "outputs": [],
      "source": [
        "#Numpy Intro"
      ]
    },
    {
      "cell_type": "code",
      "execution_count": null,
      "id": "fa6e80e0",
      "metadata": {
        "id": "fa6e80e0",
        "outputId": "3b7b8fdb-a022-47a6-cbe4-46f5afa1beeb"
      },
      "outputs": [
        {
          "name": "stdout",
          "output_type": "stream",
          "text": [
            "[ 0  1  2  3  4  5  6  7  8  9 10 11 12 13 14 15 16 17 18 19]\n"
          ]
        }
      ],
      "source": [
        "import numpy as np\n",
        "\n",
        "# we have a function arange() which makes an array of the specified dimension. Example:\n",
        "myArray = np.arange(20)\n",
        "print(myArray)"
      ]
    },
    {
      "cell_type": "code",
      "execution_count": null,
      "id": "5e31aafa",
      "metadata": {
        "id": "5e31aafa",
        "outputId": "8a8f6a71-0601-49f4-aa06-bb6230f57b19"
      },
      "outputs": [
        {
          "name": "stdout",
          "output_type": "stream",
          "text": [
            "[10 11 12 13 14 15 16 17 18 19]\n"
          ]
        }
      ],
      "source": [
        "# an array from 10 to 20\n",
        "myArray = np.arange(10, 20) # [10 11 12 13 14 15 16 17 18 19]\n",
        "print(myArray)"
      ]
    },
    {
      "cell_type": "code",
      "execution_count": null,
      "id": "89d5b32d",
      "metadata": {
        "id": "89d5b32d",
        "outputId": "2dc08dc5-b24f-4fba-bccd-4181c57833ec"
      },
      "outputs": [
        {
          "name": "stdout",
          "output_type": "stream",
          "text": [
            "[10 12 14 16 18]\n"
          ]
        }
      ],
      "source": [
        "# an array from 10 to 20 with 2 steps\n",
        "myArray = np.arange(10, 20, 2)\n",
        "print(myArray)  "
      ]
    },
    {
      "cell_type": "code",
      "execution_count": null,
      "id": "32fb9cd6",
      "metadata": {
        "id": "32fb9cd6",
        "outputId": "b6f17682-2db7-4973-917c-cc5de21da7cc"
      },
      "outputs": [
        {
          "name": "stdout",
          "output_type": "stream",
          "text": [
            "[[ 0  1  2  3  4]\n",
            " [ 5  6  7  8  9]\n",
            " [10 11 12 13 14]\n",
            " [15 16 17 18 19]]\n"
          ]
        }
      ],
      "source": [
        "# reshape() helps to reshape our NumPy array\n",
        "myArray = np.arange(20)\n",
        "# syntax: reshape(number_of_rows, number_of_columns)\n",
        "myArray = myArray.reshape(4, 5)\n",
        "print(myArray)"
      ]
    },
    {
      "cell_type": "code",
      "execution_count": null,
      "id": "3bc84581",
      "metadata": {
        "id": "3bc84581",
        "outputId": "11ab27eb-6511-4633-fcad-3466c8d875ec"
      },
      "outputs": [
        {
          "name": "stdout",
          "output_type": "stream",
          "text": [
            "(4, 5)\n"
          ]
        }
      ],
      "source": [
        "# shape returns the shape of the array. The length of shape tuple is called as rank (or dimension)\n",
        "print(myArray.shape) "
      ]
    },
    {
      "cell_type": "code",
      "execution_count": null,
      "id": "511ce3d6",
      "metadata": {
        "id": "511ce3d6",
        "outputId": "571b60f5-0aa2-43bb-eb71-a4eac4cec833"
      },
      "outputs": [
        {
          "name": "stdout",
          "output_type": "stream",
          "text": [
            "2\n"
          ]
        }
      ],
      "source": [
        "# ndim returns the dimension (rank) of the array\n",
        "print(myArray.ndim) "
      ]
    },
    {
      "cell_type": "code",
      "execution_count": null,
      "id": "f47ffa13",
      "metadata": {
        "id": "f47ffa13",
        "outputId": "f11d0c77-c8cb-4f6b-b9b8-1cf5a7fa7aee"
      },
      "outputs": [
        {
          "name": "stdout",
          "output_type": "stream",
          "text": [
            "20\n"
          ]
        }
      ],
      "source": [
        "# size returns the total number of elements in the array\n",
        "print(myArray.size)  "
      ]
    },
    {
      "cell_type": "code",
      "execution_count": null,
      "id": "8d80fb11",
      "metadata": {
        "id": "8d80fb11",
        "outputId": "0e3d67ab-2bca-4c6e-a5a0-16805698b573"
      },
      "outputs": [
        {
          "name": "stdout",
          "output_type": "stream",
          "text": [
            "[[0. 0. 0. 0.]\n",
            " [0. 0. 0. 0.]\n",
            " [0. 0. 0. 0.]]\n"
          ]
        }
      ],
      "source": [
        "# zeros creates an array will all zeros\n",
        "myArray = np.zeros((3, 4))\n",
        "print(myArray)"
      ]
    },
    {
      "cell_type": "code",
      "execution_count": null,
      "id": "d55bdb10",
      "metadata": {
        "id": "d55bdb10",
        "outputId": "6c8b5203-9eaf-4898-d531-53f62df24574"
      },
      "outputs": [
        {
          "name": "stdout",
          "output_type": "stream",
          "text": [
            "[[1. 1. 1. 1.]\n",
            " [1. 1. 1. 1.]\n",
            " [1. 1. 1. 1.]]\n"
          ]
        }
      ],
      "source": [
        "# ones creates an array with all ones\n",
        "myArray = np.ones((3, 4))\n",
        "print(myArray)"
      ]
    },
    {
      "cell_type": "code",
      "execution_count": null,
      "id": "65f9260b",
      "metadata": {
        "id": "65f9260b",
        "outputId": "97e8ee5c-d487-4fe4-e1a8-6d742c76f287"
      },
      "outputs": [
        {
          "name": "stdout",
          "output_type": "stream",
          "text": [
            "[[0.12705862 0.77521658 0.82430625 0.27939491]\n",
            " [0.61865471 0.73019916 0.48108739 0.13511539]\n",
            " [0.22358871 0.50419645 0.32795105 0.59384514]]\n"
          ]
        }
      ],
      "source": [
        "# numpy random module helps to initialize array with random values\n",
        "myArray = np.random.rand(3, 4)\n",
        "print(myArray)"
      ]
    },
    {
      "cell_type": "code",
      "execution_count": null,
      "id": "68280ed0",
      "metadata": {
        "id": "68280ed0"
      },
      "outputs": [],
      "source": []
    }
  ],
  "metadata": {
    "kernelspec": {
      "display_name": "Python 3 (ipykernel)",
      "language": "python",
      "name": "python3"
    },
    "language_info": {
      "codemirror_mode": {
        "name": "ipython",
        "version": 3
      },
      "file_extension": ".py",
      "mimetype": "text/x-python",
      "name": "python",
      "nbconvert_exporter": "python",
      "pygments_lexer": "ipython3",
      "version": "3.9.13"
    },
    "colab": {
      "provenance": [],
      "include_colab_link": true
    }
  },
  "nbformat": 4,
  "nbformat_minor": 5
}