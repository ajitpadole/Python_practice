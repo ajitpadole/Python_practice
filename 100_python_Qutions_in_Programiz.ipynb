{
  "cells": [
    {
      "cell_type": "markdown",
      "metadata": {
        "id": "view-in-github",
        "colab_type": "text"
      },
      "source": [
        "<a href=\"https://colab.research.google.com/github/ajitpadole/Python_practice/blob/main/100_python_Qutions_in_Programiz.ipynb\" target=\"_parent\"><img src=\"https://colab.research.google.com/assets/colab-badge.svg\" alt=\"Open In Colab\"/></a>"
      ]
    },
    {
      "cell_type": "code",
      "execution_count": null,
      "id": "114a1c64",
      "metadata": {
        "id": "114a1c64",
        "outputId": "0a07bc4a-38cc-4a06-d349-b5689f3c195d"
      },
      "outputs": [
        {
          "name": "stdout",
          "output_type": "stream",
          "text": [
            "64\n",
            "the number is even\n"
          ]
        }
      ],
      "source": [
        "#odd or even number \n",
        "num = int(input())\n",
        "if num%2==0:\n",
        "    print(\"the number is even\")\n",
        "else:\n",
        "    print(\"the number is odd\")\n",
        "\n",
        "   "
      ]
    },
    {
      "cell_type": "code",
      "execution_count": null,
      "id": "78942368",
      "metadata": {
        "id": "78942368",
        "outputId": "bb919189-9f9a-4099-9c07-79f9ca8ef994"
      },
      "outputs": [
        {
          "name": "stdout",
          "output_type": "stream",
          "text": [
            "45\n",
            "the number is odd\n"
          ]
        }
      ],
      "source": [
        "def is_even(n):\n",
        "    if n%2==0:\n",
        "        print(\"the number is even\")\n",
        "    else:\n",
        "        print(\"the number is odd\")\n",
        "        \n",
        "n = int(input())\n",
        "is_even(n)"
      ]
    },
    {
      "cell_type": "code",
      "execution_count": null,
      "id": "7d1fd97d",
      "metadata": {
        "id": "7d1fd97d",
        "outputId": "15412463-d859-4a4a-ec28-182e228b4c55"
      },
      "outputs": [
        {
          "name": "stdout",
          "output_type": "stream",
          "text": [
            "{1: 2, 2: 4, 3: 3, 4: 2, 5: 1}\n"
          ]
        }
      ],
      "source": [
        "##frequency\n",
        "num=[1,2,3,4,5,1,2,2,2,3,3,4]\n",
        "freq={}\n",
        "for i in num:\n",
        "    if i in freq:\n",
        "        freq[i]+=1\n",
        "    else:\n",
        "        freq[i]=1\n",
        "print(freq)"
      ]
    },
    {
      "cell_type": "code",
      "execution_count": null,
      "id": "9767f870",
      "metadata": {
        "id": "9767f870",
        "outputId": "3ef39433-206a-4b4e-ea17-d410400c380c"
      },
      "outputs": [
        {
          "name": "stdout",
          "output_type": "stream",
          "text": [
            "{3, 4, 5}\n"
          ]
        }
      ],
      "source": [
        "#List Comprihension\n",
        "#common numbers \n",
        "list1=[1,2,3,4,5]\n",
        "list2=[3,4,5,6,7]\n",
        "list1=set(list1)\n",
        "list2=set(list2)\n",
        "print(list1 & list2) "
      ]
    },
    {
      "cell_type": "code",
      "execution_count": null,
      "id": "8e4eaf7e",
      "metadata": {
        "id": "8e4eaf7e",
        "outputId": "02fbc3b3-bc3c-4e76-a63b-d4b03270ee94"
      },
      "outputs": [
        {
          "name": "stdout",
          "output_type": "stream",
          "text": [
            "1\n",
            "the number is natural\n",
            "the number is prime\n"
          ]
        }
      ],
      "source": [
        "#prime\n",
        "\n",
        "def is_prime(num):\n",
        "    for i in range(2,num):\n",
        "        if num %i ==0:\n",
        "            print(\"the number is not prime\")\n",
        "            break\n",
        "    else:\n",
        "        print(\"the number is prime\")\n",
        "num = int(input())\n",
        "if num == 1:\n",
        "    print (\"the number is natural\")\n",
        "is_prime(num)"
      ]
    },
    {
      "cell_type": "code",
      "execution_count": null,
      "id": "50a58d8a",
      "metadata": {
        "id": "50a58d8a",
        "outputId": "a23d8931-19b0-4f4c-f410-923fbc3bd54b"
      },
      "outputs": [
        {
          "name": "stdout",
          "output_type": "stream",
          "text": [
            "3\n"
          ]
        }
      ],
      "source": [
        "# sum of first 2 element from arrey\n",
        "import numpy as np\n",
        "arr = np.array([1,2,5,4,7,8,9,6,3])\n",
        "sum_arr = np.sum(arr[:2])\n",
        "print(sum_arr)"
      ]
    },
    {
      "cell_type": "code",
      "execution_count": null,
      "id": "4b9d402d",
      "metadata": {
        "id": "4b9d402d",
        "outputId": "6acb8946-4ac7-433c-cd81-a74b3ae78f64"
      },
      "outputs": [
        {
          "name": "stdout",
          "output_type": "stream",
          "text": [
            "dict_values(['Mercidise', 15, 'akash', 102563])\n"
          ]
        }
      ],
      "source": [
        "dic= {\"carname\":\"Mercidise\",\"avg\":15,\"name\":\"akash\",\"price\":102563}\n",
        "print(dic.values())\n",
        "        \n",
        "        "
      ]
    },
    {
      "cell_type": "code",
      "execution_count": null,
      "id": "7ba7a2c8",
      "metadata": {
        "id": "7ba7a2c8",
        "outputId": "410c6143-c1bf-4669-e49f-2fcb5afec20f"
      },
      "outputs": [
        {
          "name": "stdout",
          "output_type": "stream",
          "text": [
            "{1, 2, 3, 4, 5, 6, 7}\n"
          ]
        }
      ],
      "source": [
        "#find common ele from a list\n",
        "list1=[1,1,2,2,3,3,3,4,5,6,7,7,7]\n",
        "list1=set(list1)\n",
        "print(list1)"
      ]
    },
    {
      "cell_type": "code",
      "execution_count": null,
      "id": "ea2c8925",
      "metadata": {
        "id": "ea2c8925",
        "outputId": "4671508f-f9a2-415d-abfb-dcb02f55b7c2"
      },
      "outputs": [
        {
          "name": "stdout",
          "output_type": "stream",
          "text": [
            "[1, 2, 3, 5, 6, 7, 8]\n"
          ]
        }
      ],
      "source": [
        "#remove empty list from list\n",
        "list1=[1,2,3,[],5,6,[],7,[],8]\n",
        "list2=[]\n",
        "for i in list1:\n",
        "    if i!=[]:\n",
        "        list2.append(i)\n",
        "print(list2)\n"
      ]
    },
    {
      "cell_type": "code",
      "execution_count": null,
      "id": "5b977a1b",
      "metadata": {
        "id": "5b977a1b",
        "outputId": "8335357c-53b5-4cd7-96e9-fb39773cd3ff"
      },
      "outputs": [
        {
          "name": "stdout",
          "output_type": "stream",
          "text": [
            "[1, 2, 3, 5, 6, 7, 8]\n"
          ]
        }
      ],
      "source": [
        "for i in list1:\n",
        "    if i==[]:\n",
        "        list1.remove(i)\n",
        "print(list1)"
      ]
    },
    {
      "cell_type": "code",
      "execution_count": null,
      "id": "540d6737",
      "metadata": {
        "id": "540d6737",
        "outputId": "181cc638-d98a-435f-e6fa-c1ee4fd08bb0"
      },
      "outputs": [
        {
          "name": "stdout",
          "output_type": "stream",
          "text": [
            "Easy ✅\n"
          ]
        }
      ],
      "source": [
        "#Python Program to Convert Bytes to a String\n",
        "print(b'Easy \\xE2\\x9C\\x85'.decode(\"utf-8\"))"
      ]
    },
    {
      "cell_type": "code",
      "execution_count": null,
      "id": "3ed4cc51",
      "metadata": {
        "id": "3ed4cc51",
        "outputId": "942240ee-1bca-49fe-b02a-db20193c13ea"
      },
      "outputs": [
        {
          "name": "stdout",
          "output_type": "stream",
          "text": [
            "{2, 4, 5, 6, 7, 8, 9, 88}\n"
          ]
        }
      ],
      "source": [
        "#Python Program to Remove Duplicate Element From a List\n",
        "list1 = [5,2,6,6,5,4,7,88,9,9,5,4,8,6]\n",
        "list2 = set(list1)\n",
        "print(list2)"
      ]
    },
    {
      "cell_type": "code",
      "execution_count": null,
      "id": "6c7a7060",
      "metadata": {
        "id": "6c7a7060",
        "outputId": "584e4051-54e1-4172-ebbd-dee47f4a8655"
      },
      "outputs": [
        {
          "name": "stdout",
          "output_type": "stream",
          "text": [
            "[2, 4, 5, 6, 7, 8, 9, 88]\n"
          ]
        }
      ],
      "source": [
        "#Python Program to Remove Duplicate Element From a List\n",
        "list1 = [5,2,6,6,5,4,7,88,9,9,5,4,8,6]\n",
        "list2 = list(set(list1))\n",
        "print(list2)"
      ]
    },
    {
      "cell_type": "code",
      "execution_count": null,
      "id": "9d1129b9",
      "metadata": {
        "id": "9d1129b9",
        "outputId": "20a690a6-b7f1-4fb4-92c3-d9148492197a"
      },
      "outputs": [
        {
          "name": "stdout",
          "output_type": "stream",
          "text": [
            "s\n",
            "2\n"
          ]
        }
      ],
      "source": [
        "#Python Program to Count the Number of Occurrence of a Character in String\n",
        "str1 = \"Ajit is smart boy\"\n",
        "count_element = input()\n",
        "count= 0\n",
        "for i in str1:\n",
        "    if i == count_element :\n",
        "        count +=1\n",
        "print(count)"
      ]
    },
    {
      "cell_type": "code",
      "execution_count": null,
      "id": "059c9d79",
      "metadata": {
        "id": "059c9d79",
        "outputId": "1b20420b-5621-44df-b303-fbe804c905fa"
      },
      "outputs": [
        {
          "name": "stdout",
          "output_type": "stream",
          "text": [
            "o\n",
            "1\n"
          ]
        }
      ],
      "source": [
        "#Example 2: Using method count()\n",
        "my_string = \"Programiz\"\n",
        "my_char = input()\n",
        "\n",
        "print(my_string.count(my_char))"
      ]
    },
    {
      "cell_type": "code",
      "execution_count": null,
      "id": "8155193a",
      "metadata": {
        "id": "8155193a",
        "outputId": "5b7c72f3-ad92-4de1-c5fc-f2c60831655a"
      },
      "outputs": [
        {
          "name": "stdout",
          "output_type": "stream",
          "text": [
            "stop \n"
          ]
        }
      ],
      "source": [
        "###Python Program to Create a Countdown Timer\n",
        "import time\n",
        "\n",
        "def countdown(time_sec):\n",
        "    while time_sec:\n",
        "        mins, secs = divmod(time_sec, 60) #x = divmod(50, 2) print(x) output = (25,0)\n",
        "        timeformat = '{:02d}:{:02d}'.format(mins, secs)\n",
        "        print(timeformat, end='\\r')\n",
        "        time.sleep(1)\n",
        "        time_sec -= 1\n",
        "\n",
        "    print(\"stop \")\n",
        "\n",
        "countdown(10)"
      ]
    },
    {
      "cell_type": "code",
      "execution_count": null,
      "id": "52516874",
      "metadata": {
        "id": "52516874",
        "outputId": "072f84a7-1df0-4ac2-e7ec-0172ffe490a8"
      },
      "outputs": [
        {
          "name": "stdout",
          "output_type": "stream",
          "text": [
            "Profissional data scientest is ajit\n"
          ]
        }
      ],
      "source": [
        "#Python Program to Capitalize the First Character of a String\n",
        "string1 = \"profissional data scientest is ajit\"\n",
        "new = string1.capitalize()\n",
        "print(new)"
      ]
    },
    {
      "cell_type": "code",
      "execution_count": null,
      "id": "f75e69a8",
      "metadata": {
        "id": "f75e69a8",
        "outputId": "d5ef98b2-4293-4c0e-ab18-eb9cacc96964"
      },
      "outputs": [
        {
          "name": "stdout",
          "output_type": "stream",
          "text": [
            "the pace and care its not Anagram\n"
          ]
        }
      ],
      "source": [
        "#\"wrong method\"\n",
        "#Python Program to Check If Two Strings are Anagram\n",
        "str11 = \"pace\"\n",
        "str22 = \"care\"\n",
        "str1 = sorted(str11)\n",
        "str2 = sorted(str22)\n",
        "# check the len\n",
        "if (len(str1)==len(str2)) and  (str1 == str2):\n",
        "    print(\"the\",str11,\"and\",str22,\"its Anagram\")\n",
        "else:\n",
        "    print(\"the\",str11,\"and\",str22,\"its not Anagram\")\n",
        "    "
      ]
    },
    {
      "cell_type": "code",
      "execution_count": null,
      "id": "549535b9",
      "metadata": {
        "id": "549535b9",
        "outputId": "1eb0d94c-ec56-4f94-9f91-3cae5bc1e254"
      },
      "outputs": [
        {
          "name": "stdout",
          "output_type": "stream",
          "text": [
            "race and care are anagram.\n"
          ]
        }
      ],
      "source": [
        "str1 = \"Race\"\n",
        "str2 = \"Care\"\n",
        "\n",
        "# convert both the strings into lowercase\n",
        "str1 = str1.lower()\n",
        "str2 = str2.lower()\n",
        "\n",
        "# check if length is same\n",
        "if(len(str1) == len(str2)):\n",
        "\n",
        "    # sort the strings\n",
        "    sorted_str1 = sorted(str1)\n",
        "    sorted_str2 = sorted(str2)\n",
        "\n",
        "    # if sorted char arrays are same\n",
        "    if(sorted_str1 == sorted_str2):\n",
        "        print(str1 + \" and \" + str2 + \" are anagram.\")\n",
        "    else:\n",
        "        print(str1 + \" and \" + str2 + \" are not anagram.\")\n",
        "\n",
        "else:\n",
        "    print(str1 + \" and \" + str2 + \" are not anagram.\")"
      ]
    },
    {
      "cell_type": "code",
      "execution_count": null,
      "id": "e2369001",
      "metadata": {
        "id": "e2369001",
        "outputId": "c9d8a13a-205f-4a7b-b7d8-cc37d96ef361"
      },
      "outputs": [
        {
          "name": "stdout",
          "output_type": "stream",
          "text": [
            "6\n"
          ]
        }
      ],
      "source": [
        "#Python Program to Count the Number of Digits Present In a Number\n",
        "num = 123456\n",
        "print(len(str(num)))"
      ]
    },
    {
      "cell_type": "code",
      "execution_count": null,
      "id": "67fa0bfc",
      "metadata": {
        "id": "67fa0bfc",
        "outputId": "698804e4-1863-4fa3-e164-72e75e539fe9"
      },
      "outputs": [
        {
          "name": "stdout",
          "output_type": "stream",
          "text": [
            "Enter the Base  3\n",
            "Enter the Exponant4\n",
            "the power of number 81\n"
          ]
        }
      ],
      "source": [
        "#Python Program to Compute the Power of a Number\n",
        "base = int(input(\"Enter the Base  \"))\n",
        "exponant = int(input(\"Enter the Exponant\"))\n",
        "\n",
        "print(\"the power of number\",base**exponant)\n"
      ]
    },
    {
      "cell_type": "code",
      "execution_count": null,
      "id": "009cc06e",
      "metadata": {
        "id": "009cc06e",
        "outputId": "99e3d703-2895-4840-bcf1-a217d3162126"
      },
      "outputs": [
        {
          "name": "stdout",
          "output_type": "stream",
          "text": [
            "99754211\n"
          ]
        }
      ],
      "source": [
        "#Python Program to Reverse a Number\n",
        "a=11245799\n",
        "print(str(a)[::-1])"
      ]
    },
    {
      "cell_type": "code",
      "execution_count": null,
      "id": "9db4d797",
      "metadata": {
        "id": "9db4d797",
        "outputId": "a4abf6a0-3291-42ad-b85c-3131ea4bb7b8"
      },
      "outputs": [
        {
          "data": {
            "text/plain": [
              "9"
            ]
          },
          "execution_count": 28,
          "metadata": {},
          "output_type": "execute_result"
        }
      ],
      "source": [
        "11245799%10"
      ]
    },
    {
      "cell_type": "code",
      "execution_count": null,
      "id": "45dc3e2d",
      "metadata": {
        "id": "45dc3e2d",
        "outputId": "0c4f41c3-445e-453e-83f5-4a23a1de1955"
      },
      "outputs": [
        {
          "name": "stdout",
          "output_type": "stream",
          "text": [
            "Enter a number: 1125688\n",
            "The reverse number is:\n",
            "8865211"
          ]
        }
      ],
      "source": [
        "# Python program to reverse a number using for loop\n",
        "\n",
        "# take inputs\n",
        "num = input(\"Enter a number: \")\n",
        "\n",
        "# calculate reverse of number\n",
        "print('The reverse number is:')\n",
        "for i in reversed(num):\n",
        "   print(i, end='')"
      ]
    },
    {
      "cell_type": "code",
      "execution_count": null,
      "id": "efa16c56",
      "metadata": {
        "id": "efa16c56",
        "outputId": "e0691438-8b39-4c75-cbbf-f93735b49f8b"
      },
      "outputs": [
        {
          "name": "stdout",
          "output_type": "stream",
          "text": [
            "49152\n"
          ]
        }
      ],
      "source": [
        "#Python Program to Check the File Size\n",
        "import os\n",
        "\n",
        "file_stat = os.stat('NPProt.bkp')\n",
        "print(file_stat.st_size)"
      ]
    },
    {
      "cell_type": "code",
      "execution_count": null,
      "id": "c535f2e7",
      "metadata": {
        "id": "c535f2e7",
        "outputId": "714d563f-c28d-4c49-8300-36b592213e48"
      },
      "outputs": [
        {
          "name": "stdout",
          "output_type": "stream",
          "text": [
            "1 a\n",
            "2 b\n",
            "3 c\n",
            "4 d\n",
            "5 e\n"
          ]
        }
      ],
      "source": [
        "#Python Program to Iterate Through Two Lists in Parallel\n",
        "list1 = [1,2,3,4,5]\n",
        "list2 = ['a','b','c','d','e']\n",
        "for i , j in zip(list1,list2):\n",
        "    print(i,j)"
      ]
    },
    {
      "cell_type": "code",
      "execution_count": null,
      "id": "b3830c59",
      "metadata": {
        "id": "b3830c59",
        "outputId": "1380ccb3-598d-4180-aca0-16444f19d094"
      },
      "outputs": [
        {
          "name": "stdout",
          "output_type": "stream",
          "text": [
            "NPProt.bkp\n"
          ]
        },
        {
          "ename": "TypeError",
          "evalue": "not all arguments converted during string formatting",
          "output_type": "error",
          "traceback": [
            "\u001b[1;31m---------------------------------------------------------------------------\u001b[0m",
            "\u001b[1;31mTypeError\u001b[0m                                 Traceback (most recent call last)",
            "\u001b[1;32m~\\AppData\\Local\\Temp\\ipykernel_9316\\1473195931.py\u001b[0m in \u001b[0;36m<module>\u001b[1;34m\u001b[0m\n\u001b[0;32m      4\u001b[0m \u001b[0mfile\u001b[0m \u001b[1;33m=\u001b[0m \u001b[0mpathlib\u001b[0m\u001b[1;33m.\u001b[0m\u001b[0mPath\u001b[0m\u001b[1;33m(\u001b[0m\u001b[1;34m'NPProt.bkp'\u001b[0m\u001b[1;33m)\u001b[0m\u001b[1;33m\u001b[0m\u001b[1;33m\u001b[0m\u001b[0m\n\u001b[0;32m      5\u001b[0m \u001b[0mprint\u001b[0m\u001b[1;33m(\u001b[0m\u001b[0mfile\u001b[0m\u001b[1;33m)\u001b[0m\u001b[1;33m\u001b[0m\u001b[1;33m\u001b[0m\u001b[0m\n\u001b[1;32m----> 6\u001b[1;33m \u001b[0mprint\u001b[0m\u001b[1;33m(\u001b[0m\u001b[1;34m\"modification Date \"\u001b[0m \u001b[1;33m%\u001b[0m\u001b[0mdatetime\u001b[0m\u001b[1;33m.\u001b[0m\u001b[0mdatetime\u001b[0m\u001b[1;33m.\u001b[0m\u001b[0mfromtimestamp\u001b[0m\u001b[1;33m(\u001b[0m\u001b[0mfile\u001b[0m\u001b[1;33m.\u001b[0m\u001b[0mstat\u001b[0m\u001b[1;33m(\u001b[0m\u001b[1;33m)\u001b[0m\u001b[1;33m.\u001b[0m\u001b[0mst_mtime\u001b[0m\u001b[1;33m)\u001b[0m\u001b[1;33m)\u001b[0m\u001b[1;33m\u001b[0m\u001b[1;33m\u001b[0m\u001b[0m\n\u001b[0m\u001b[0;32m      7\u001b[0m \u001b[0mprint\u001b[0m\u001b[1;33m(\u001b[0m\u001b[1;34m\"Last metadata change time or path creation time: %s\"\u001b[0m \u001b[1;33m%\u001b[0m \u001b[0mdatetime\u001b[0m\u001b[1;33m.\u001b[0m\u001b[0mdatetime\u001b[0m\u001b[1;33m.\u001b[0m\u001b[0mfromtimestamp\u001b[0m\u001b[1;33m(\u001b[0m\u001b[0mfile\u001b[0m\u001b[1;33m.\u001b[0m\u001b[0mstat\u001b[0m\u001b[1;33m(\u001b[0m\u001b[1;33m)\u001b[0m\u001b[1;33m.\u001b[0m\u001b[0mst_ctime\u001b[0m\u001b[1;33m)\u001b[0m\u001b[1;33m)\u001b[0m\u001b[1;33m\u001b[0m\u001b[1;33m\u001b[0m\u001b[0m\n",
            "\u001b[1;31mTypeError\u001b[0m: not all arguments converted during string formatting"
          ]
        }
      ],
      "source": [
        "#Python Program to Get File Creation and Modification Date\n",
        "import datetime\n",
        "import pathlib\n",
        "file = pathlib.Path('NPProt.bkp')\n",
        "print(file)\n",
        "print(\"modification Date \" %datetime.datetime.fromtimestamp(file.stat().st_mtime))\n",
        "print(\"Last metadata change time or path creation time: %s\" % datetime.datetime.fromtimestamp(file.stat().st_ctime))"
      ]
    },
    {
      "cell_type": "code",
      "execution_count": null,
      "id": "77dae8d7",
      "metadata": {
        "id": "77dae8d7",
        "outputId": "e5027a3f-f540-492f-bac0-2021d74e6e2a"
      },
      "outputs": [
        {
          "name": "stdout",
          "output_type": "stream",
          "text": [
            "('Ajit', 'Padole')\n",
            "Ajit Padole\n"
          ]
        }
      ],
      "source": [
        "#Python Program to Return Multiple Values From a Function\n",
        "def name():\n",
        "    return \"Ajit\",\"Padole\"\n",
        "\n",
        "# print the tuple with the returned values\n",
        "print(name())\n",
        "\n",
        "# get the individual items\n",
        "name_1, name_2= name()\n",
        "print(name_1, name_2)"
      ]
    },
    {
      "cell_type": "code",
      "execution_count": null,
      "id": "91cf4aa8",
      "metadata": {
        "id": "91cf4aa8",
        "outputId": "987150ec-9c25-4abf-a218-8dd98501e101"
      },
      "outputs": [
        {
          "name": "stdout",
          "output_type": "stream",
          "text": [
            "  palidrom  \n",
            "palidrom\n"
          ]
        }
      ],
      "source": [
        "#Python Program to Trim Whitespace From a String\n",
        "My_string = \"  palidrom  \"\n",
        "print(My_string)\n",
        "print(My_string.strip())  # strip faction use for remove the space "
      ]
    },
    {
      "cell_type": "code",
      "execution_count": null,
      "id": "db8ec626",
      "metadata": {
        "id": "db8ec626",
        "outputId": "1643f3d6-d000-4c8d-c459-06b8ccf8ba9b"
      },
      "outputs": [
        {
          "name": "stdout",
          "output_type": "stream",
          "text": [
            "{1: 'Hindi', 2: 'English', 3: 'Marathi', 4: 'sanskrit'}\n"
          ]
        }
      ],
      "source": [
        "#Python Program to Convert Two Lists Into a Dictionary\n",
        "num = [1,2,3,4]\n",
        "laguage = [\"Hindi\",\"English\",\"Marathi\",\"sanskrit\"]\n",
        "dictionary = dict(zip(num,laguage))\n",
        "print(dictionary)"
      ]
    },
    {
      "cell_type": "code",
      "execution_count": null,
      "id": "7dc19d6f",
      "metadata": {
        "id": "7dc19d6f",
        "outputId": "39f88bdc-f490-48ac-f843-15707e061c0a"
      },
      "outputs": [
        {
          "name": "stdout",
          "output_type": "stream",
          "text": [
            "Vehicle\n"
          ]
        }
      ],
      "source": [
        "#Python Program to Get the Class Name of an Instance\n",
        "class motarcical:\n",
        "    def name(self, name):\n",
        "        return name\n",
        "\n",
        "v = Vehicle()\n",
        "print(v.__class__.__name__)"
      ]
    },
    {
      "cell_type": "code",
      "execution_count": null,
      "id": "58f9b262",
      "metadata": {
        "id": "58f9b262",
        "outputId": "d99efc89-da43-40f9-8d48-12af261af30c"
      },
      "outputs": [
        {
          "name": "stdout",
          "output_type": "stream",
          "text": [
            "{31: 'a', 14: 'c'}\n"
          ]
        }
      ],
      "source": [
        "#Python Program to Delete an Element From a Dictionary\n",
        "my_dict = {31: 'a', 21: 'b', 14: 'c'}\n",
        "del my_dict[21]\n",
        "print(my_dict)"
      ]
    },
    {
      "cell_type": "code",
      "execution_count": null,
      "id": "ff322c54",
      "metadata": {
        "id": "ff322c54",
        "outputId": "49a9170b-0b2f-46f2-c3db-58d4d2ebdf8c"
      },
      "outputs": [
        {
          "name": "stdout",
          "output_type": "stream",
          "text": [
            "{31: 'a', 14: 'c'}\n"
          ]
        }
      ],
      "source": [
        "#Example 2: Using pop()\n",
        "my_dict = {31: 'a', 21: 'b', 14: 'c'}\n",
        "\n",
        "my_dict.pop(21)\n",
        "\n",
        "print(my_dict)"
      ]
    },
    {
      "cell_type": "code",
      "execution_count": null,
      "id": "62ecc3b0",
      "metadata": {
        "id": "62ecc3b0",
        "outputId": "f1449429-0dd0-4d3c-b3e5-a84027202004"
      },
      "outputs": [
        {
          "name": "stdout",
          "output_type": "stream",
          "text": [
            "3\n"
          ]
        }
      ],
      "source": [
        "#Python Program to Count the Occurrence of an Item in a List\n",
        "freq = ['a', 1, 'a', 4, 3, 2, 'a'].count('a')\n",
        "print(freq)"
      ]
    },
    {
      "cell_type": "code",
      "execution_count": null,
      "id": "871256a7",
      "metadata": {
        "id": "871256a7",
        "outputId": "597f05a0-ac01-45dd-8028-c843c59c1588"
      },
      "outputs": [
        {
          "name": "stdout",
          "output_type": "stream",
          "text": [
            "7\n",
            "2\n"
          ]
        }
      ],
      "source": [
        "a= ['a','f','f','r',1,23,5,4,6,7,2,5,7]\n",
        "find = int(input())\n",
        "count = 0\n",
        "for i in a:\n",
        "    if i == find:\n",
        "        count += 1\n",
        "print(count)"
      ]
    },
    {
      "cell_type": "code",
      "execution_count": null,
      "id": "2d1db44a",
      "metadata": {
        "id": "2d1db44a",
        "outputId": "05ef3e1e-ca4c-46f5-c928-24bbe5fe09c8"
      },
      "outputs": [
        {
          "name": "stdout",
          "output_type": "stream",
          "text": [
            "8 has occurred 5 times\n"
          ]
        }
      ],
      "source": [
        "def countX(lst, x):\n",
        "    count = 0\n",
        "    for ele in lst:\n",
        "        if (ele == x):\n",
        "            count = count + 1\n",
        "    return count\n",
        " \n",
        " \n",
        "# Driver Code\n",
        "lst = [8, 6, 8, 10, 8, 20, 10, 8, 8]\n",
        "x = 8\n",
        "print('{} has occurred {} times'.format(x,countX(lst, x)))"
      ]
    },
    {
      "cell_type": "code",
      "execution_count": null,
      "id": "383eb15f",
      "metadata": {
        "id": "383eb15f",
        "outputId": "946927b8-5f4c-4da9-db7a-3c4926dc3a02"
      },
      "outputs": [
        {
          "name": "stdout",
          "output_type": "stream",
          "text": [
            "G\n",
            "2\n"
          ]
        }
      ],
      "source": [
        "# freuency of occurance for syring\n",
        "frq1 = \"GeekFoorGreek\"\n",
        "x = input()\n",
        "def freq_(frq1,x):\n",
        "    frq_count = 0\n",
        "    for i in frq1:\n",
        "        if i == x:\n",
        "            frq_count = frq_count + 1\n",
        "    return frq_count\n",
        "            \n",
        "        \n",
        "print(freq_(frq1,x))"
      ]
    },
    {
      "cell_type": "code",
      "execution_count": null,
      "id": "c2f0ce36",
      "metadata": {
        "id": "c2f0ce36",
        "outputId": "7ae1f66d-9936-432f-eb6e-8397e6be6cdc"
      },
      "outputs": [
        {
          "name": "stdout",
          "output_type": "stream",
          "text": [
            "a\n"
          ]
        }
      ],
      "source": [
        "\n",
        "#Python Program to Randomly Select an Element From the List\n",
        "import random\n",
        "\n",
        "my_list = [1, 'a', 32, 'c', 'd', 31]\n",
        "print(random.choice(my_list))"
      ]
    },
    {
      "cell_type": "code",
      "execution_count": null,
      "id": "7f624c07",
      "metadata": {
        "id": "7f624c07",
        "outputId": "455e8d8a-6db1-445e-db30-e2faa6892752"
      },
      "outputs": [
        {
          "name": "stdout",
          "output_type": "stream",
          "text": [
            "Python\n",
            "is easy to learn.\n",
            "\n",
            "Python is easy to learn.\n"
          ]
        }
      ],
      "source": [
        "#Python Program to Print Output Without a Newline\n",
        "# print each statement on a new line\n",
        "print(\"Python\")\n",
        "print(\"is easy to learn.\")\n",
        "\n",
        "# new line\n",
        "print()\n",
        "\n",
        "# print both the statements on a single line\n",
        "print(\"Python\", end=\" \")\n",
        "print(\"is easy to learn.\")"
      ]
    },
    {
      "cell_type": "code",
      "execution_count": null,
      "id": "a2503963",
      "metadata": {
        "id": "a2503963",
        "outputId": "963ec81f-7ae3-40e6-a655-0e3780dacb7d"
      },
      "outputs": [
        {
          "ename": "ValueError",
          "evalue": "time data 'Mar 12 1998 11.30AM' does not match format '%b %d %Y %I:%M%p'",
          "output_type": "error",
          "traceback": [
            "\u001b[1;31m---------------------------------------------------------------------------\u001b[0m",
            "\u001b[1;31mValueError\u001b[0m                                Traceback (most recent call last)",
            "\u001b[1;32m~\\AppData\\Local\\Temp\\ipykernel_6056\\1843291080.py\u001b[0m in \u001b[0;36m<module>\u001b[1;34m\u001b[0m\n\u001b[0;32m      2\u001b[0m \u001b[1;32mfrom\u001b[0m \u001b[0mdatetime\u001b[0m \u001b[1;32mimport\u001b[0m \u001b[0mdatetime\u001b[0m\u001b[1;33m\u001b[0m\u001b[1;33m\u001b[0m\u001b[0m\n\u001b[0;32m      3\u001b[0m \u001b[0mstring\u001b[0m \u001b[1;33m=\u001b[0m \u001b[1;34m\"Mar 12 1998 11.30AM\"\u001b[0m\u001b[1;33m\u001b[0m\u001b[1;33m\u001b[0m\u001b[0m\n\u001b[1;32m----> 4\u001b[1;33m \u001b[0mdt_format\u001b[0m \u001b[1;33m=\u001b[0m \u001b[0mdatetime\u001b[0m\u001b[1;33m.\u001b[0m\u001b[0mstrptime\u001b[0m\u001b[1;33m(\u001b[0m\u001b[0mstring\u001b[0m\u001b[1;33m,\u001b[0m \u001b[1;34m'%b %d %Y %I:%M%p'\u001b[0m\u001b[1;33m)\u001b[0m\u001b[1;33m\u001b[0m\u001b[1;33m\u001b[0m\u001b[0m\n\u001b[0m\u001b[0;32m      5\u001b[0m \u001b[0mprint\u001b[0m\u001b[1;33m(\u001b[0m\u001b[0mdt_format\u001b[0m\u001b[1;33m)\u001b[0m\u001b[1;33m\u001b[0m\u001b[1;33m\u001b[0m\u001b[0m\n",
            "\u001b[1;32m~\\anaconda3\\lib\\_strptime.py\u001b[0m in \u001b[0;36m_strptime_datetime\u001b[1;34m(cls, data_string, format)\u001b[0m\n\u001b[0;32m    566\u001b[0m     \"\"\"Return a class cls instance based on the input string and the\n\u001b[0;32m    567\u001b[0m     format string.\"\"\"\n\u001b[1;32m--> 568\u001b[1;33m     \u001b[0mtt\u001b[0m\u001b[1;33m,\u001b[0m \u001b[0mfraction\u001b[0m\u001b[1;33m,\u001b[0m \u001b[0mgmtoff_fraction\u001b[0m \u001b[1;33m=\u001b[0m \u001b[0m_strptime\u001b[0m\u001b[1;33m(\u001b[0m\u001b[0mdata_string\u001b[0m\u001b[1;33m,\u001b[0m \u001b[0mformat\u001b[0m\u001b[1;33m)\u001b[0m\u001b[1;33m\u001b[0m\u001b[1;33m\u001b[0m\u001b[0m\n\u001b[0m\u001b[0;32m    569\u001b[0m     \u001b[0mtzname\u001b[0m\u001b[1;33m,\u001b[0m \u001b[0mgmtoff\u001b[0m \u001b[1;33m=\u001b[0m \u001b[0mtt\u001b[0m\u001b[1;33m[\u001b[0m\u001b[1;33m-\u001b[0m\u001b[1;36m2\u001b[0m\u001b[1;33m:\u001b[0m\u001b[1;33m]\u001b[0m\u001b[1;33m\u001b[0m\u001b[1;33m\u001b[0m\u001b[0m\n\u001b[0;32m    570\u001b[0m     \u001b[0margs\u001b[0m \u001b[1;33m=\u001b[0m \u001b[0mtt\u001b[0m\u001b[1;33m[\u001b[0m\u001b[1;33m:\u001b[0m\u001b[1;36m6\u001b[0m\u001b[1;33m]\u001b[0m \u001b[1;33m+\u001b[0m \u001b[1;33m(\u001b[0m\u001b[0mfraction\u001b[0m\u001b[1;33m,\u001b[0m\u001b[1;33m)\u001b[0m\u001b[1;33m\u001b[0m\u001b[1;33m\u001b[0m\u001b[0m\n",
            "\u001b[1;32m~\\anaconda3\\lib\\_strptime.py\u001b[0m in \u001b[0;36m_strptime\u001b[1;34m(data_string, format)\u001b[0m\n\u001b[0;32m    347\u001b[0m     \u001b[0mfound\u001b[0m \u001b[1;33m=\u001b[0m \u001b[0mformat_regex\u001b[0m\u001b[1;33m.\u001b[0m\u001b[0mmatch\u001b[0m\u001b[1;33m(\u001b[0m\u001b[0mdata_string\u001b[0m\u001b[1;33m)\u001b[0m\u001b[1;33m\u001b[0m\u001b[1;33m\u001b[0m\u001b[0m\n\u001b[0;32m    348\u001b[0m     \u001b[1;32mif\u001b[0m \u001b[1;32mnot\u001b[0m \u001b[0mfound\u001b[0m\u001b[1;33m:\u001b[0m\u001b[1;33m\u001b[0m\u001b[1;33m\u001b[0m\u001b[0m\n\u001b[1;32m--> 349\u001b[1;33m         raise ValueError(\"time data %r does not match format %r\" %\n\u001b[0m\u001b[0;32m    350\u001b[0m                          (data_string, format))\n\u001b[0;32m    351\u001b[0m     \u001b[1;32mif\u001b[0m \u001b[0mlen\u001b[0m\u001b[1;33m(\u001b[0m\u001b[0mdata_string\u001b[0m\u001b[1;33m)\u001b[0m \u001b[1;33m!=\u001b[0m \u001b[0mfound\u001b[0m\u001b[1;33m.\u001b[0m\u001b[0mend\u001b[0m\u001b[1;33m(\u001b[0m\u001b[1;33m)\u001b[0m\u001b[1;33m:\u001b[0m\u001b[1;33m\u001b[0m\u001b[1;33m\u001b[0m\u001b[0m\n",
            "\u001b[1;31mValueError\u001b[0m: time data 'Mar 12 1998 11.30AM' does not match format '%b %d %Y %I:%M%p'"
          ]
        }
      ],
      "source": [
        "# Python Program to Convert String to Datetime\n",
        "from datetime import datetime\n",
        "string = \"Mar 12 1998 11.30AM\"\n",
        "dt_format = datetime.strptime(string, '%b %d %Y %I:%M%p')\n",
        "print(dt_format)"
      ]
    },
    {
      "cell_type": "code",
      "execution_count": null,
      "id": "21173e40",
      "metadata": {
        "id": "21173e40",
        "outputId": "9aa212a0-64cb-4429-f855-ddc165be12ac"
      },
      "outputs": [
        {
          "name": "stdout",
          "output_type": "stream",
          "text": [
            "[[1, 2], [3, 4], [5, 6], [7, 8], [9]]\n"
          ]
        }
      ],
      "source": [
        "def split(my_list, chunk_size):\n",
        "\n",
        "  for i in range(0, len(my_list), chunk_size):\n",
        "    yield my_list[i:i + chunk_size]\n",
        "\n",
        "chunk_size = 2\n",
        "my_list = [1,2,3,4,5,6,7,8,9]\n",
        "print(list(split(my_list, chunk_size)))"
      ]
    },
    {
      "cell_type": "code",
      "execution_count": null,
      "id": "826ac57a",
      "metadata": {
        "id": "826ac57a",
        "outputId": "e58628be-8c8d-4adc-ded3-90c890d92f54"
      },
      "outputs": [
        {
          "name": "stdout",
          "output_type": "stream",
          "text": [
            "present\n"
          ]
        }
      ],
      "source": [
        "#Python Program to Check if a Key is Already Present in a Dictionary\n",
        "my_dict = {1: 'a', 2: 'b', 3: 'c'}\n",
        "if 2 in my_dict:\n",
        "    print(\"present\")"
      ]
    },
    {
      "cell_type": "code",
      "execution_count": null,
      "id": "f9803fe4",
      "metadata": {
        "id": "f9803fe4",
        "outputId": "b2904552-92e2-4c11-c673-b142c4cfa193"
      },
      "outputs": [
        {
          "name": "stdout",
          "output_type": "stream",
          "text": [
            "[1, 2, 3, 6, 4, 'f', 'r', 'sd', 5, 6, 8, 79, 'gh', 'r']\n"
          ]
        }
      ],
      "source": [
        "#Python Program to Concatenate Two Lists\n",
        "list1 = [1,2,3,6,4,'f','r','sd']\n",
        "list2 = [5,6,8,79,'gh','r']\n",
        "join_list = list1 + list2\n",
        "print(join_list)"
      ]
    },
    {
      "cell_type": "code",
      "execution_count": null,
      "id": "2c237766",
      "metadata": {
        "id": "2c237766",
        "outputId": "e52bd7d9-c51e-4f02-baca-dc3c9b52a781"
      },
      "outputs": [
        {
          "name": "stdout",
          "output_type": "stream",
          "text": [
            "the list is empty\n"
          ]
        }
      ],
      "source": [
        "#Python Program to Check If a List is Empty\n",
        "my_list = []\n",
        "if not my_list:\n",
        "    print(\"the list is empty\")"
      ]
    },
    {
      "cell_type": "code",
      "execution_count": null,
      "id": "020d1caa",
      "metadata": {
        "id": "020d1caa",
        "outputId": "8d993b8b-c86d-4ba1-b292-a57dd8111239"
      },
      "outputs": [
        {
          "name": "stdout",
          "output_type": "stream",
          "text": [
            "[5, 6, 8]\n"
          ]
        }
      ],
      "source": [
        "#Python Program to Sort a Dictionary by Value\n",
        "dt = {2:6, 9:8, 8:5}\n",
        "sorted_value = sorted(dt.values())\n",
        "print(sorted_value)"
      ]
    },
    {
      "cell_type": "code",
      "execution_count": null,
      "id": "51ea3275",
      "metadata": {
        "id": "51ea3275",
        "outputId": "4004d158-0512-48af-8552-da4e14e1f327"
      },
      "outputs": [
        {
          "name": "stdout",
          "output_type": "stream",
          "text": [
            "a juice\n",
            "b grill\n",
            "c corn\n"
          ]
        }
      ],
      "source": [
        "#Python Program to Iterate Over Dictionaries Using for Loop\n",
        "dt = {'a': 'juice', 'b': 'grill', 'c': 'corn'}\n",
        "\n",
        "for key, value in dt.items():\n",
        "    print(key, value)"
      ]
    },
    {
      "cell_type": "code",
      "execution_count": null,
      "id": "addd8c23",
      "metadata": {
        "id": "addd8c23",
        "outputId": "92704bd1-6e52-41e6-ed45-7846a8183649"
      },
      "outputs": [
        {
          "name": "stdout",
          "output_type": "stream",
          "text": [
            "[1, 2, 3, 4, 5, 6, 7]\n"
          ]
        }
      ],
      "source": [
        "#Python Program to Flatten a Nested List\n",
        "my_list = [[1], [2, 3], [4, 5, 6, 7]]\n",
        "fat = []\n",
        "for sublist in my_list:\n",
        "    for i in sublist:\n",
        "        fat.append(i)\n",
        "print(fat)"
      ]
    },
    {
      "cell_type": "code",
      "execution_count": null,
      "id": "cd0b6236",
      "metadata": {
        "id": "cd0b6236",
        "outputId": "1366018e-9ddb-40ad-d44b-0893aa2fbc65"
      },
      "outputs": [
        {
          "name": "stdout",
          "output_type": "stream",
          "text": [
            "0 21\n",
            "1 44\n",
            "2 35\n",
            "3 11\n"
          ]
        }
      ],
      "source": [
        "#Python Program to Access Index of a List Using for Loop\n",
        "my_list = [21, 44, 35, 11]\n",
        "\n",
        "for index, val in enumerate(my_list):\n",
        "    print(index, val)"
      ]
    },
    {
      "cell_type": "code",
      "execution_count": null,
      "id": "d416f124",
      "metadata": {
        "id": "d416f124",
        "outputId": "4c362a43-41c4-4872-9b5e-b2f54da4992b"
      },
      "outputs": [
        {
          "name": "stdout",
          "output_type": "stream",
          "text": [
            "{1: 'a', 2: 'c', 4: 'd'}\n"
          ]
        }
      ],
      "source": [
        "#Python Program to Merge Two Dictionaries\n",
        "dict_1 = {1: 'a', 2: 'b'}\n",
        "dict_2 = {2: 'c', 4: 'd'}\n",
        "join_dict = (dict_1 | dict_2)\n",
        "print(join_dict)\n",
        "\n"
      ]
    },
    {
      "cell_type": "code",
      "execution_count": null,
      "id": "2e9d84c9",
      "metadata": {
        "id": "2e9d84c9",
        "outputId": "800cc0ca-981a-4d6b-e792-5559b82eed9f"
      },
      "outputs": [
        {
          "name": "stdout",
          "output_type": "stream",
          "text": [
            "Enter number of rows: 5\n",
            "* \n",
            "\n",
            "* * \n",
            "\n",
            "* * * \n",
            "\n",
            "* * * * \n",
            "\n",
            "* * * * * \n",
            "\n"
          ]
        }
      ],
      "source": [
        "rows = int(input(\"Enter number of rows: \"))\n",
        "\n",
        "for i in range(rows):\n",
        "    for j in range(i+1):\n",
        "        print(\"* \", end=\"\")\n",
        "    print(\"\\n\")"
      ]
    },
    {
      "cell_type": "code",
      "execution_count": null,
      "id": "357018c2",
      "metadata": {
        "id": "357018c2",
        "outputId": "2bfb00e0-ca25-42f5-bb00-0c9e5675edcf"
      },
      "outputs": [
        {
          "name": "stdout",
          "output_type": "stream",
          "text": [
            "Enter number of rows: 5\n",
            "\n",
            "\n",
            "\n",
            "\n",
            "* \n",
            "\n",
            "* * \n",
            "\n",
            "* * * \n",
            "\n"
          ]
        }
      ],
      "source": [
        "rows = int(input(\"Enter number of rows: \"))\n",
        "\n",
        "for i in range(rows):\n",
        "    for j in range(i-1):\n",
        "        print(\"* \", end=\"\")\n",
        "    print(\"\\n\")"
      ]
    },
    {
      "cell_type": "code",
      "execution_count": null,
      "id": "b2681c85",
      "metadata": {
        "id": "b2681c85",
        "outputId": "8d7b3e0a-3f20-45d2-81d8-ea2eb343f510"
      },
      "outputs": [
        {
          "name": "stdout",
          "output_type": "stream",
          "text": [
            "Enter number of rows: 5\n",
            "1 \n",
            "\n",
            "1 2 \n",
            "\n",
            "1 2 3 \n",
            "\n",
            "1 2 3 4 \n",
            "\n",
            "1 2 3 4 5 \n",
            "\n"
          ]
        }
      ],
      "source": [
        "rows = int(input(\"Enter number of rows: \"))\n",
        "\n",
        "for i in range(rows):\n",
        "    for j in range(i+1):\n",
        "        print(j+1, end=\" \")\n",
        "    print(\"\\n\")"
      ]
    },
    {
      "cell_type": "code",
      "execution_count": null,
      "id": "28d87805",
      "metadata": {
        "id": "28d87805",
        "outputId": "c530b354-3e93-4243-d105-64b123cae88b"
      },
      "outputs": [
        {
          "name": "stdout",
          "output_type": "stream",
          "text": [
            "Enter number of rows: 5\n",
            "A \n",
            "\n",
            "B B \n",
            "\n",
            "C C C \n",
            "\n",
            "D D D D \n",
            "\n",
            "E E E E E \n",
            "\n"
          ]
        }
      ],
      "source": [
        "rows = int(input(\"Enter number of rows: \"))\n",
        "\n",
        "ascii_value = 65\n",
        "\n",
        "for i in range(rows):\n",
        "    for j in range(i+1):\n",
        "        alphabet = chr(ascii_value)\n",
        "        print(alphabet, end=\" \")\n",
        "    \n",
        "    ascii_value += 1\n",
        "    print(\"\\n\")"
      ]
    },
    {
      "cell_type": "code",
      "execution_count": null,
      "id": "53c53088",
      "metadata": {
        "id": "53c53088",
        "outputId": "5b2822fb-1cef-46d4-9b99-e912de36b1bd"
      },
      "outputs": [
        {
          "name": "stdout",
          "output_type": "stream",
          "text": [
            "18\n"
          ]
        }
      ],
      "source": [
        "# find the number of vowels \n",
        "string = 'Hello, have you tried our tutorial section yet?'\n",
        "vowels= set(\"aeiouAEIOU\")\n",
        "count_vowels = 0\n",
        "for i in string:\n",
        "    if i in vowels:\n",
        "        count_vowels += 1\n",
        "print(count_vowels)"
      ]
    },
    {
      "cell_type": "code",
      "execution_count": null,
      "id": "55516e80",
      "metadata": {
        "id": "55516e80",
        "outputId": "041ea243-305f-4230-f773-188f22896508"
      },
      "outputs": [
        {
          "name": "stdout",
          "output_type": "stream",
          "text": [
            "5\n"
          ]
        }
      ],
      "source": [
        "# method  for count vowels\n",
        "def vowel_count(str):\n",
        "    count = 0\n",
        "    vowel = (\"aeiouAEIOU\")\n",
        "    for i in str:\n",
        "        if i in vowel:\n",
        "            count += 1\n",
        "    print(count)\n",
        "str = \"GeeksforGeeks\"\n",
        "vowel_count(str)\n"
      ]
    },
    {
      "cell_type": "code",
      "execution_count": null,
      "id": "4abc93ff",
      "metadata": {
        "id": "4abc93ff",
        "outputId": "c1eef6b2-56dc-4613-c95c-702df20d2638"
      },
      "outputs": [
        {
          "name": "stdout",
          "output_type": "stream",
          "text": [
            "Union of E and N is {0, 1, 2, 3, 4, 5, 6, 8}\n",
            "Intersection of E and N is {2, 4}\n",
            "Difference of E and N is {0, 8, 6}\n",
            "Symmetric difference of E and N is {0, 1, 3, 5, 6, 8}\n"
          ]
        }
      ],
      "source": [
        "# Program to perform different set operations like in mathematics\n",
        "\n",
        "# define three sets\n",
        "E = {0, 2, 4, 6, 8}\n",
        "N = {1, 2, 3, 4, 5}\n",
        "\n",
        "# set union\n",
        "print(\"Union of E and N is\",E | N)\n",
        "\n",
        "# set intersection\n",
        "print(\"Intersection of E and N is\",E & N)\n",
        "\n",
        "# set difference\n",
        "print(\"Difference of E and N is\",E - N)\n",
        "\n",
        "# set symmetric difference\n",
        "print(\"Symmetric difference of E and N is\",E ^ N)\n"
      ]
    },
    {
      "cell_type": "code",
      "execution_count": null,
      "id": "c1d3fc19",
      "metadata": {
        "id": "c1d3fc19",
        "outputId": "4ba686b0-9b19-4a66-8bfa-b41ff61abe93"
      },
      "outputs": [
        {
          "name": "stdout",
          "output_type": "stream",
          "text": [
            "The sorted words are:\n",
            "an\n",
            "cased\n",
            "example\n",
            "hello\n",
            "is\n",
            "letters\n",
            "this\n",
            "with\n"
          ]
        }
      ],
      "source": [
        "#Python Program to Sort Words in Alphabetic Order\n",
        "# Program to sort alphabetically the words form a string provided by the user\n",
        "\n",
        "my_str = \"Hello this Is an Example With cased letters\"\n",
        "\n",
        "# To take input from the user\n",
        "#my_str = input(\"Enter a string: \")\n",
        "\n",
        "# breakdown the string into a list of words\n",
        "words = [word.lower() for word in my_str.split()]\n",
        "\n",
        "# sort the list\n",
        "words.sort()\n",
        "\n",
        "# display the sorted words\n",
        "\n",
        "print(\"The sorted words are:\")\n",
        "for word in words:\n",
        "   print(word)\n"
      ]
    },
    {
      "cell_type": "code",
      "execution_count": null,
      "id": "75540b39",
      "metadata": {
        "id": "75540b39",
        "outputId": "0d274475-e8ca-443a-ed7a-986c2b43b966"
      },
      "outputs": [
        {
          "name": "stdout",
          "output_type": "stream",
          "text": [
            "Hello he said and went"
          ]
        }
      ],
      "source": [
        "#Python Program to Remove Punctuations From a String\n",
        "# define punctuation\n",
        "punctuations = '''!()-[]{};:'\"\\,<>./?@#$%^&*_~'''\n",
        "my_str = \"Hello!!!, he said ---and went.\"\n",
        "world = \"\"\n",
        "for i in my_str:\n",
        "    if i not in punctuations:\n",
        "        print(i,end='')\n",
        "        \n",
        "        "
      ]
    },
    {
      "cell_type": "code",
      "execution_count": null,
      "id": "b7b8936c",
      "metadata": {
        "id": "b7b8936c",
        "outputId": "5cbafd92-0ac8-48a5-c109-ff257dd52f25"
      },
      "outputs": [
        {
          "name": "stdout",
          "output_type": "stream",
          "text": [
            "The string is not palidrom\n"
          ]
        }
      ],
      "source": [
        "#Python Program to Check Whether a String is Palindrome or Not\n",
        "string = \"room\"\n",
        "def palidrom(string):\n",
        "    if string == string[::-1]:\n",
        "        return \" the string is Palidrom \"\n",
        "    else:\n",
        "        return \"The string is not palidrom\"\n",
        "print(palidrom(string))\n",
        "    "
      ]
    },
    {
      "cell_type": "code",
      "execution_count": null,
      "id": "1147f015",
      "metadata": {
        "id": "1147f015",
        "outputId": "102cc091-1724-408e-b190-42d09eff5db0"
      },
      "outputs": [
        {
          "name": "stdout",
          "output_type": "stream",
          "text": [
            "   November 2014\n",
            "Mo Tu We Th Fr Sa Su\n",
            "                1  2\n",
            " 3  4  5  6  7  8  9\n",
            "10 11 12 13 14 15 16\n",
            "17 18 19 20 21 22 23\n",
            "24 25 26 27 28 29 30\n",
            "\n"
          ]
        }
      ],
      "source": [
        "# Program to display calendar of the given month and year\n",
        "\n",
        "# importing calendar module\n",
        "import calendar\n",
        "\n",
        "yy = 2014  # year\n",
        "mm = 11    # month\n",
        "\n",
        "# To take month and year input from the user\n",
        "# yy = int(input(\"Enter year: \"))\n",
        "# mm = int(input(\"Enter month: \"))\n",
        "\n",
        "# display the calendar\n",
        "print(calendar.month(yy, mm))"
      ]
    },
    {
      "cell_type": "code",
      "execution_count": null,
      "id": "be7a8e1e",
      "metadata": {
        "id": "be7a8e1e",
        "outputId": "a16fd6e0-8019-4c70-f901-ed119fae92b7"
      },
      "outputs": [
        {
          "name": "stdout",
          "output_type": "stream",
          "text": [
            "1\n",
            "5\n",
            "7\n",
            "35\n"
          ]
        }
      ],
      "source": [
        "## Python Program to find the factors of a number\n",
        "num= 35\n",
        "for i in range(1,num+1):\n",
        "    if num % i ==0:\n",
        "        print(i)"
      ]
    },
    {
      "cell_type": "code",
      "execution_count": null,
      "id": "ec7eae94",
      "metadata": {
        "id": "ec7eae94",
        "outputId": "d8103d31-19c6-4542-a08f-f8e997828b21"
      },
      "outputs": [
        {
          "name": "stdout",
          "output_type": "stream",
          "text": [
            "The L.C.M. is 216\n"
          ]
        }
      ],
      "source": [
        "# Python Program to find the L.C.M. of two input number\n",
        "\n",
        "def compute_lcm(x, y):\n",
        "\n",
        "   # choose the greater number\n",
        "   if x > y:\n",
        "       greater = x\n",
        "   else:\n",
        "       greater = y\n",
        "\n",
        "   while(True):\n",
        "       if((greater % x == 0) and (greater % y == 0)):\n",
        "           lcm = greater\n",
        "           break\n",
        "       greater += 1\n",
        "\n",
        "   return lcm\n",
        "\n",
        "num1 = 54\n",
        "num2 = 24\n",
        "\n",
        "print(\"The L.C.M. is\", compute_lcm(num1, num2))"
      ]
    },
    {
      "cell_type": "code",
      "execution_count": null,
      "id": "cc856dc1",
      "metadata": {
        "id": "cc856dc1",
        "outputId": "f2f05cbc-8496-44a6-adf4-47d3b8222156"
      },
      "outputs": [
        {
          "name": "stdout",
          "output_type": "stream",
          "text": [
            "The H.C.F. is 6\n"
          ]
        }
      ],
      "source": [
        "# Python program to find H.C.F of two numbers\n",
        "\n",
        "# define a function\n",
        "def compute_hcf(x, y):\n",
        "\n",
        "# choose the smaller number\n",
        "    if x > y:\n",
        "        smaller = y\n",
        "    else:\n",
        "        smaller = x\n",
        "    for i in range(1, smaller+1):\n",
        "        if((x % i == 0) and (y % i == 0)):\n",
        "            hcf = i \n",
        "    return hcf\n",
        "\n",
        "num1 = 54 \n",
        "num2 = 24\n",
        "\n",
        "print(\"The H.C.F. is\", compute_hcf(num1, num2))"
      ]
    },
    {
      "cell_type": "code",
      "execution_count": null,
      "id": "1a99d537",
      "metadata": {
        "id": "1a99d537",
        "outputId": "38267636-92f8-4fae-a53b-bafbf4deaea9"
      },
      "outputs": [
        {
          "name": "stdout",
          "output_type": "stream",
          "text": [
            "The ASCII value of 'p' is 112\n"
          ]
        }
      ],
      "source": [
        "#Python Program to Find ASCII Value of Character\n",
        "# Program to find the ASCII value of the given character\n",
        "\n",
        "c = 'p'\n",
        "print(\"The ASCII value of '\" + c + \"' is\", ord(c))\n"
      ]
    },
    {
      "cell_type": "code",
      "execution_count": null,
      "id": "2275cad9",
      "metadata": {
        "id": "2275cad9",
        "outputId": "a7be9e98-f802-4833-bf73-7aa4e66b7058"
      },
      "outputs": [
        {
          "name": "stdout",
          "output_type": "stream",
          "text": [
            "The decimal value of 344 is:\n",
            "0b101011000 in binary.\n",
            "0o530 in octal.\n",
            "0x158 in hexadecimal.\n"
          ]
        }
      ],
      "source": [
        "# Python program to convert decimal into other number systems\n",
        "dec = 344\n",
        "\n",
        "print(\"The decimal value of\", dec, \"is:\")\n",
        "print(bin(dec), \"in binary.\")\n",
        "print(oct(dec), \"in octal.\")\n",
        "print(hex(dec), \"in hexadecimal.\")"
      ]
    },
    {
      "cell_type": "code",
      "execution_count": null,
      "id": "70e05442",
      "metadata": {
        "id": "70e05442",
        "outputId": "111b4049-45de-427a-f181-f0044cd56070"
      },
      "outputs": [
        {
          "name": "stdout",
          "output_type": "stream",
          "text": [
            "[65, 39, 221]\n"
          ]
        }
      ],
      "source": [
        "#Python Program to Find Numbers Divisible by Another Number\n",
        "# Take a list of numbers\n",
        "my_list = [12, 65, 54, 39, 102, 339, 221]\n",
        "\n",
        "result = list(filter(lambda x : (x%13 ==0),my_list))\n",
        "print(result)\n",
        "    "
      ]
    },
    {
      "cell_type": "code",
      "execution_count": null,
      "id": "8dfd0896",
      "metadata": {
        "id": "8dfd0896",
        "outputId": "84d32f0c-acde-490e-b704-92759d59c7ea"
      },
      "outputs": [
        {
          "name": "stdout",
          "output_type": "stream",
          "text": [
            "The sum of natural number 136\n"
          ]
        }
      ],
      "source": [
        "# sum of natural number\n",
        "num = 16 \n",
        "count = 0\n",
        "for i in range(1,num+1):\n",
        "    count = count + i\n",
        "print(\"The sum of natural number\",count)\n",
        "    \n",
        "        "
      ]
    },
    {
      "cell_type": "code",
      "execution_count": null,
      "id": "3c23a29d",
      "metadata": {
        "id": "3c23a29d",
        "outputId": "77692a6b-4464-4c1c-f442-7d65c5c7ea5d"
      },
      "outputs": [
        {
          "name": "stdout",
          "output_type": "stream",
          "text": [
            "The sum is 136\n"
          ]
        }
      ],
      "source": [
        "# Sum of natural numbers up to num\n",
        "\n",
        "num = 16\n",
        "\n",
        "if num < 0:\n",
        "   print(\"Enter a positive number\")\n",
        "else:\n",
        "    \n",
        "    sum = 0\n",
        "   # use while loop to iterate until zero\n",
        "    while(num > 0):\n",
        "        sum += num\n",
        "        num -= 1\n",
        "    print(\"The sum is\", sum)\n"
      ]
    },
    {
      "cell_type": "code",
      "execution_count": null,
      "id": "d4168728",
      "metadata": {
        "id": "d4168728"
      },
      "outputs": [],
      "source": [
        "#armstrong number\n",
        "num = 153\n",
        "sum1 = 0\n",
        "while num > 0:\n",
        "    sum1 += num\n",
        "    num % 10 ==0\n",
        "    \n",
        "print(sum1)"
      ]
    },
    {
      "cell_type": "code",
      "execution_count": null,
      "id": "c35f8cfe",
      "metadata": {
        "id": "c35f8cfe",
        "outputId": "8669a685-2f08-4ec9-ed7d-d597e8030797"
      },
      "outputs": [
        {
          "name": "stdout",
          "output_type": "stream",
          "text": [
            "3\n"
          ]
        }
      ],
      "source": [
        "# Program to generate a random number between 0 and 9\n",
        "\n",
        "# importing the random module\n",
        "import random\n",
        "\n",
        "print(random.randint(0,9))"
      ]
    },
    {
      "cell_type": "code",
      "execution_count": null,
      "id": "ea568e8c",
      "metadata": {
        "id": "ea568e8c",
        "outputId": "8f58d420-17cf-4578-ccca-07bce4baf8d9"
      },
      "outputs": [
        {
          "name": "stdout",
          "output_type": "stream",
          "text": [
            "2\n"
          ]
        }
      ],
      "source": [
        "# function which devide two number\n",
        "def Dievide_two_num(a,b):\n",
        "    return a//b\n",
        "print(Dievide_two_num(10,5))\n"
      ]
    },
    {
      "cell_type": "code",
      "execution_count": null,
      "id": "451d7c4b",
      "metadata": {
        "id": "451d7c4b",
        "outputId": "1e7c2e3d-39e2-45a9-dcd1-003f8075c655"
      },
      "outputs": [
        {
          "data": {
            "text/html": [
              "<div>\n",
              "<style scoped>\n",
              "    .dataframe tbody tr th:only-of-type {\n",
              "        vertical-align: middle;\n",
              "    }\n",
              "\n",
              "    .dataframe tbody tr th {\n",
              "        vertical-align: top;\n",
              "    }\n",
              "\n",
              "    .dataframe thead th {\n",
              "        text-align: right;\n",
              "    }\n",
              "</style>\n",
              "<table border=\"1\" class=\"dataframe\">\n",
              "  <thead>\n",
              "    <tr style=\"text-align: right;\">\n",
              "      <th></th>\n",
              "      <th>Numbers</th>\n",
              "    </tr>\n",
              "  </thead>\n",
              "  <tbody>\n",
              "    <tr>\n",
              "      <th>0</th>\n",
              "      <td>10</td>\n",
              "    </tr>\n",
              "    <tr>\n",
              "      <th>1</th>\n",
              "      <td>20</td>\n",
              "    </tr>\n",
              "    <tr>\n",
              "      <th>2</th>\n",
              "      <td>30</td>\n",
              "    </tr>\n",
              "    <tr>\n",
              "      <th>3</th>\n",
              "      <td>40</td>\n",
              "    </tr>\n",
              "    <tr>\n",
              "      <th>4</th>\n",
              "      <td>50</td>\n",
              "    </tr>\n",
              "    <tr>\n",
              "      <th>5</th>\n",
              "      <td>60</td>\n",
              "    </tr>\n",
              "  </tbody>\n",
              "</table>\n",
              "</div>"
            ],
            "text/plain": [
              "   Numbers\n",
              "0       10\n",
              "1       20\n",
              "2       30\n",
              "3       40\n",
              "4       50\n",
              "5       60"
            ]
          },
          "execution_count": 10,
          "metadata": {},
          "output_type": "execute_result"
        }
      ],
      "source": [
        "# create pandas Data frame\n",
        "# Import pandas library\n",
        "import pandas as pd\n",
        "\n",
        "# initialize list elements\n",
        "data = [10,20,30,40,50,60]\n",
        "\n",
        "# Create the pandas DataFrame with column name is provided explicitly\n",
        "df = pd.DataFrame(data, columns=['Numbers'])\n",
        "\n",
        "# print dataframe.\n",
        "df\n"
      ]
    },
    {
      "cell_type": "code",
      "execution_count": null,
      "id": "92422a9a",
      "metadata": {
        "id": "92422a9a",
        "outputId": "3207c5cf-3995-4f1d-aeb6-ff535e7b42db"
      },
      "outputs": [
        {
          "name": "stdout",
          "output_type": "stream",
          "text": [
            "Enter marks of the first subject: 90\n",
            "Enter marks of the second subject: 91\n",
            "Enter marks of the third subject: 92\n",
            "Enter marks of the fourth subject: 93\n",
            "Enter marks of the fifth subject: 98\n",
            "Grade: A\n"
          ]
        }
      ],
      "source": [
        "sub1=int(input(\"Enter marks of the first subject: \"))\n",
        "sub2=int(input(\"Enter marks of the second subject: \"))\n",
        "sub3=int(input(\"Enter marks of the third subject: \"))\n",
        "sub4=int(input(\"Enter marks of the fourth subject: \"))\n",
        "sub5=int(input(\"Enter marks of the fifth subject: \"))\n",
        "avg=(sub1+sub2+sub3+sub4+sub4)/5\n",
        "if(avg>=90):\n",
        "    print(\"Grade: A\")"
      ]
    },
    {
      "cell_type": "code",
      "execution_count": null,
      "id": "551e8bf1",
      "metadata": {
        "id": "551e8bf1"
      },
      "outputs": [],
      "source": []
    }
  ],
  "metadata": {
    "kernelspec": {
      "display_name": "Python 3 (ipykernel)",
      "language": "python",
      "name": "python3"
    },
    "language_info": {
      "codemirror_mode": {
        "name": "ipython",
        "version": 3
      },
      "file_extension": ".py",
      "mimetype": "text/x-python",
      "name": "python",
      "nbconvert_exporter": "python",
      "pygments_lexer": "ipython3",
      "version": "3.9.13"
    },
    "colab": {
      "provenance": [],
      "include_colab_link": true
    }
  },
  "nbformat": 4,
  "nbformat_minor": 5
}