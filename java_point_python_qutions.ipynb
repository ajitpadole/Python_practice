{
  "cells": [
    {
      "cell_type": "markdown",
      "metadata": {
        "id": "view-in-github",
        "colab_type": "text"
      },
      "source": [
        "<a href=\"https://colab.research.google.com/github/ajitpadole/Python_practice/blob/main/java_point_python_qutions.ipynb\" target=\"_parent\"><img src=\"https://colab.research.google.com/assets/colab-badge.svg\" alt=\"Open In Colab\"/></a>"
      ]
    },
    {
      "cell_type": "markdown",
      "id": "5ac96996",
      "metadata": {
        "id": "5ac96996"
      },
      "source": [
        "### 1) What is the best way to debug a Python program?"
      ]
    },
    {
      "cell_type": "markdown",
      "id": "b86ac067",
      "metadata": {
        "id": "b86ac067"
      },
      "source": [
        "python -m pdb Python-script.py"
      ]
    },
    {
      "cell_type": "markdown",
      "id": "5710fbdc",
      "metadata": {
        "id": "5710fbdc"
      },
      "source": [
        "### 2) What does the Python keyword imply?\n"
      ]
    },
    {
      "cell_type": "markdown",
      "id": "ea0d4967",
      "metadata": {
        "id": "ea0d4967"
      },
      "source": [
        "We can use the <yield> keyword to convert any Python function into a Python generator."
      ]
    },
    {
      "cell_type": "code",
      "execution_count": null,
      "id": "924c3916",
      "metadata": {
        "id": "924c3916",
        "outputId": "ad88cce6-62ca-4408-9fdb-00d4107c2720"
      },
      "outputs": [
        {
          "name": "stdout",
          "output_type": "stream",
          "text": [
            "apr jun\n"
          ]
        }
      ],
      "source": [
        "def creating_gen(index):\n",
        "    months = ['jan','feb','mar','apr','may','jun','jul','aug','sep','oct','nov','dec']\n",
        "    yield months[index]\n",
        "    yield months[index+2]\n",
        "next_month = creating_gen(3)\n",
        "print(next(next_month), next(next_month))"
      ]
    },
    {
      "cell_type": "markdown",
      "id": "c402ef44",
      "metadata": {
        "id": "c402ef44"
      },
      "source": [
        "### 3) How can I make a tuple out of a list?\n"
      ]
    },
    {
      "cell_type": "markdown",
      "id": "33665f82",
      "metadata": {
        "id": "33665f82"
      },
      "source": [
        "We can transform a list into a tuple using the Python tuple() method. Since a tuple is immutable, we can't update the list after it has been converted to a tuple."
      ]
    },
    {
      "cell_type": "code",
      "execution_count": null,
      "id": "90b8fede",
      "metadata": {
        "id": "90b8fede",
        "outputId": "1bf84b85-b0d5-4d27-ec82-744dc33ef675"
      },
      "outputs": [
        {
          "name": "stdout",
          "output_type": "stream",
          "text": [
            "('jan', 'feb', 'mar', 'apr', 'may', 'jun', 'jul', 'aug', 'sep', 'oct', 'nov', 'dec')\n",
            "<class 'tuple'>\n"
          ]
        }
      ],
      "source": [
        "month = ['jan','feb','mar','apr','may','jun','jul','aug','sep','oct','nov','dec']\n",
        "converting_list = tuple(month)\n",
        "print(converting_list)\n",
        "print(type(converting_list))"
      ]
    },
    {
      "cell_type": "markdown",
      "id": "8616c9d4",
      "metadata": {
        "id": "8616c9d4"
      },
      "source": [
        "### 4) What exactly is a NumPy array?\n",
        "NumPy arrays are much more versatile than Python lists. Reading and writing objects are quicker and more efficient using NumPy arrays."
      ]
    },
    {
      "cell_type": "markdown",
      "id": "5b38d089",
      "metadata": {
        "id": "5b38d089"
      },
      "source": [
        "### 5) In Python, in what ways can you make an empty NumPy array?\n",
        "In Python, there are two ways to build an empty array:\n"
      ]
    },
    {
      "cell_type": "code",
      "execution_count": null,
      "id": "6f8be745",
      "metadata": {
        "id": "6f8be745",
        "outputId": "fe844573-02a8-4bff-ed57-536e9457eeac"
      },
      "outputs": [
        {
          "name": "stdout",
          "output_type": "stream",
          "text": [
            "[]\n"
          ]
        }
      ],
      "source": [
        "import numpy\n",
        "#method 1\n",
        "array_1 = numpy.array([])\n",
        "print(array_1)"
      ]
    },
    {
      "cell_type": "markdown",
      "id": "40be12ee",
      "metadata": {
        "id": "40be12ee"
      },
      "source": [
        "### 6) In Python, what is a negative index?\n",
        "In Arrays and Lists, Python contains a unique feature called negative indexing. Python starts indexing from the beginning of an array or list in a positive integer but reads items from the ending of an array or list in a negative index."
      ]
    },
    {
      "cell_type": "markdown",
      "id": "9594e5a0",
      "metadata": {
        "id": "9594e5a0"
      },
      "source": [
        "### 8) What is the Python data type SET, and how can I use it?\n",
        "\"set\" is a Python data type which is a sort of collection. Since Python 2.4, it's been a part of the language. A set is a collection of distinct and immutable items that are not in any particular sequence."
      ]
    },
    {
      "cell_type": "markdown",
      "id": "3d11f9c4",
      "metadata": {
        "id": "3d11f9c4"
      },
      "source": [
        "### 9) In Python, how do you create random numbers?\n",
        "We can create random data in Python utilizing several functions. They are as follows:\n",
        "\n",
        "random() - This instruction gives a floating-point value ranging from 0 to 1.\n",
        "\n",
        "uniform(X, Y) - This function gives a floating-point value in the X and Y range.\n",
        "\n",
        "randint(X, Y) - This function gives a random integer between X and Y values.\n"
      ]
    },
    {
      "cell_type": "markdown",
      "id": "80bdc4cb",
      "metadata": {
        "id": "80bdc4cb"
      },
      "source": [
        "### 10) How do you print the summation of all the numbers from 1 to 101?\n"
      ]
    },
    {
      "cell_type": "code",
      "execution_count": null,
      "id": "a89711a2",
      "metadata": {
        "id": "a89711a2",
        "outputId": "b92e73e2-8602-4cbd-aa1d-84113b742b66"
      },
      "outputs": [
        {
          "name": "stdout",
          "output_type": "stream",
          "text": [
            "5151\n"
          ]
        }
      ],
      "source": [
        "summation = sum(range(1,102))\n",
        "print(summation)"
      ]
    },
    {
      "cell_type": "markdown",
      "id": "eced6146",
      "metadata": {
        "id": "eced6146"
      },
      "source": [
        "### 12) Is it possible to construct a Python program that calculates the mean of numbers in a list?"
      ]
    },
    {
      "cell_type": "code",
      "execution_count": null,
      "id": "e1c707e7",
      "metadata": {
        "id": "e1c707e7",
        "outputId": "c30c9987-2014-4bd2-d654-45e9d23d5f3e"
      },
      "outputs": [
        {
          "name": "stdout",
          "output_type": "stream",
          "text": [
            "number of element add in list3\n",
            "enter list of element : 2654\n",
            "enter list of element : 2564\n",
            "enter list of element : 548\n",
            "The avg of above list is :  1922.0\n"
          ]
        }
      ],
      "source": [
        "lst_element = int(input(\"number of element add in listn :\"))\n",
        "empty_list = []\n",
        "for i in range(1,lst_element+1):\n",
        "    i = int(input(\"enter list of element : \"))\n",
        "    empty_list.append(i)\n",
        "    avg = sum(empty_list)/lst_element\n",
        "print(\"The avg of above list is : \",avg)"
      ]
    },
    {
      "cell_type": "markdown",
      "id": "c5084e24",
      "metadata": {
        "id": "c5084e24"
      },
      "source": [
        "### 13) Is it possible to build a Python program that reverses a number?\n"
      ]
    },
    {
      "cell_type": "code",
      "execution_count": null,
      "id": "8871b123",
      "metadata": {
        "id": "8871b123",
        "outputId": "45dbfd75-057c-43e1-e485-9962d3593a1f"
      },
      "outputs": [
        {
          "name": "stdout",
          "output_type": "stream",
          "text": [
            "Enter a number which want reverse :1256\n",
            "6521\n"
          ]
        }
      ],
      "source": [
        "n = int(input(\"Enter a number which want reverse :\"))\n",
        "reverse = 0\n",
        "while (n>0):\n",
        "    digit = n%10\n",
        "    reverse = reverse*10+digit\n",
        "    n = n//10\n",
        "print(reverse)"
      ]
    },
    {
      "cell_type": "markdown",
      "id": "e4004824",
      "metadata": {
        "id": "e4004824"
      },
      "source": [
        "### 17) What is the meaning of pep 8?\n",
        "PEP (Python Enhancement Proposal) is the acronym for Python Enhancement Proposal. It's a collection of guidelines for formatting Python code for better readability."
      ]
    },
    {
      "cell_type": "markdown",
      "id": "5ec876b7",
      "metadata": {
        "id": "5ec876b7"
      },
      "source": [
        " ### What are the advantages of Python?\n",
        "The advantages of utilizing Python are as follows:\n",
        "\n",
        "Simple to understand and utilize- Python is a powerful language of programming that is simple to learn, read, and write.\n",
        "Interpreted language- Python is an interpreted language, which means it runs the program line by line & pauses if any line contains an error.\n",
        "Dynamically typed- when coding, the programmer does not set data types to variables. During execution, it is automatically assigned.\n",
        "Python is free and open-source to use and share. It's free and open source.\n",
        "Extensive library support- Python has a large library of functions that can perform practically any task. It also allows you to use Python Package Manager to import additional packages (pip).\n",
        "Python applications are portable and can execute on any system without modification.\n",
        "Python's data structures are easy to understand.\n",
        "It allows for additional functionality while requiring less coding.\n"
      ]
    },
    {
      "cell_type": "markdown",
      "id": "71c99ef4",
      "metadata": {
        "id": "71c99ef4"
      },
      "source": [
        "\n",
        "### 20) How is a Python Dictionary different from List comprehensions?"
      ]
    },
    {
      "cell_type": "code",
      "execution_count": null,
      "id": "3c4d31a8",
      "metadata": {
        "id": "3c4d31a8",
        "outputId": "fa025f72-b946-4e26-88c7-08c940ac6538"
      },
      "outputs": [
        {
          "name": "stdout",
          "output_type": "stream",
          "text": [
            "[0, 1, 2, 3]\n"
          ]
        }
      ],
      "source": [
        "list_comp = [i for i in range(4)]\n",
        "print(list_comp)"
      ]
    },
    {
      "cell_type": "code",
      "execution_count": null,
      "id": "fdf4d7a3",
      "metadata": {
        "id": "fdf4d7a3",
        "outputId": "ecf76fe6-010a-42f9-f61b-c48736eae86d"
      },
      "outputs": [
        {
          "name": "stdout",
          "output_type": "stream",
          "text": [
            "{0: 2, 1: 3, 2: 4, 3: 5, 4: 6, 5: 7, 6: 8, 7: 9, 8: 10, 9: 11}\n"
          ]
        }
      ],
      "source": [
        "dictt = {i : i+2 for i in range(10)}\n",
        "print(dictt)"
      ]
    },
    {
      "cell_type": "raw",
      "id": "f22d75d5",
      "metadata": {
        "id": "f22d75d5"
      },
      "source": [
        "21) What is the most prevalent Python built-in data types?\n",
        "Numbers- Integers, complex numbers, and floating points are Python's most prevalent built-in data structures. For example, 1, 8.1, 3+6i.\n",
        "\n",
        "List- A list is a collection of objects that are arranged in a specific order. A list's components could be of multiple data kinds. For example, [[10,'itika',7] .4]\n",
        "\n",
        "Tuple- It's also a set of items in a specific order. Tuples, not like lists, are immutable, meaning we cannot modify them. For example, (7,'itika',2)\n",
        "\n",
        "String- A string is a collection of characters. Single or double quotations are used to declare them. \"Itika,\" \"She is learning coding through Javatpoint\", and so on.\n",
        "\n",
        "Set- A set is a group of unrelated elements which are not in any particular sequence. (2, 3, 4, 5)\n",
        "\n",
        "Dictionary- A dictionary is a collection of key and value combinations in which each value may be accessed by its key. The sequence of the items is irrelevant. For example, {3:'ape', 6:'monkey'}\n",
        "\n",
        "Boolean- True and False is indeed the two possible boolean values."
      ]
    },
    {
      "cell_type": "raw",
      "id": "89c7134e",
      "metadata": {
        "id": "89c7134e"
      },
      "source": [
        "22) What's the distinction between .py and.pyc files?\n",
        "The Python code we save is contained in the .py files. The .pyc files are created when the program is integrated into the current program from some other source. This file contains the bytecode for the Python files that we imported. The interpreter reduces processing time if we transform the source files having the format of .py files to .pyc files."
      ]
    },
    {
      "cell_type": "markdown",
      "id": "89e17da6",
      "metadata": {
        "id": "89e17da6"
      },
      "source": [
        "### 23) How is a local variable different from a global variable?\n",
        "Global Variables: Global variables are those that have been declared outside of a function. The scope outside of the function is known as global space. Any program function has access to these variables.\n",
        "\n",
        "Local Variables: Any variable declared inside a function is referred to as a local variable. This variable does not exist in the global domain; it only exists locally."
      ]
    },
    {
      "cell_type": "code",
      "execution_count": null,
      "id": "120792d2",
      "metadata": {
        "id": "120792d2",
        "outputId": "03cbd950-2e39-45ab-e24b-ba880032bb52"
      },
      "outputs": [
        {
          "name": "stdout",
          "output_type": "stream",
          "text": [
            "local variable = 7\n",
            "Global Scope =  56\n",
            "The addition of local and global variable is = 63\n"
          ]
        }
      ],
      "source": [
        "var = 56\n",
        "def addition():\n",
        "    var1 = 7\n",
        "    c = var + var1\n",
        "    print(\"local variable =\",var1)\n",
        "    print(\"Global Scope = \",var)\n",
        "    print(\"The addition of local and global variable is =\",c)\n",
        "addition()"
      ]
    },
    {
      "cell_type": "markdown",
      "id": "41e87a7f",
      "metadata": {
        "id": "41e87a7f"
      },
      "source": [
        "### What is the distinction between Python Arrays and Python Lists?\n",
        "In Python, arrays and lists both store data similarly. On the other hand, arrays can only have a single data type element, while lists can contain any data type component."
      ]
    },
    {
      "cell_type": "code",
      "execution_count": null,
      "id": "2f032180",
      "metadata": {
        "id": "2f032180",
        "outputId": "60f448ce-79a6-4276-aca9-0530acf1ee83"
      },
      "outputs": [
        {
          "name": "stdout",
          "output_type": "stream",
          "text": [
            "array('i', [1, 2, 3, 4, 5, 6, 7, 8, 9])\n"
          ]
        }
      ],
      "source": [
        "import numpy as np\n",
        "import array as arr\n",
        "\n",
        "num = arr.array(\"i\",[1,2,3,4,5,6,7,8,9])\n",
        "print(num)\n",
        ""
      ]
    },
    {
      "cell_type": "code",
      "execution_count": null,
      "id": "10c7cdcc",
      "metadata": {
        "id": "10c7cdcc",
        "outputId": "3261ad8a-4491-45ed-c9a2-009770d3f721"
      },
      "outputs": [
        {
          "name": "stdout",
          "output_type": "stream",
          "text": [
            "array('i', [3, 6, 2, 7, 9, 5])\n",
            "[4, 'Interview', 7.2]\n",
            "an integer is required (got type str)\n"
          ]
        }
      ],
      "source": [
        "# Importing array module\n",
        "import array as arr\n",
        "\n",
        "# Creating an array and a list\n",
        "array_1 = arr.array(\"i\", [3, 6, 2, 7, 9, 5])\n",
        "list_1 = [4, 'Interview', 7.20]\n",
        "\n",
        "print(array_1)\n",
        "print(list_1)\n",
        "\n",
        "# Trying to create an array with multiple data types\n",
        "try:\n",
        "    array_2 = arr.array(\"i\", [3, 7, 3, \"Interview\"])\n",
        "except Exception as e:\n",
        "    print(e)"
      ]
    },
    {
      "cell_type": "markdown",
      "id": "a75b85dd",
      "metadata": {
        "id": "a75b85dd"
      },
      "source": [
        "25) What exactly is __init__?\n",
        "In Python, __init__ is a function or function Object() { [native code] }. When a new object/instance of a class is created, this function is automatically called to reserve memory. The __init__ method is available in all classes.\n",
        "\n",
        "Here's an instance of how to put it to good use."
      ]
    },
    {
      "cell_type": "code",
      "execution_count": null,
      "id": "ad2e22be",
      "metadata": {
        "id": "ad2e22be",
        "outputId": "ef3c637c-3e1b-4fee-b7f0-ec892e4a4023"
      },
      "outputs": [
        {
          "name": "stdout",
          "output_type": "stream",
          "text": [
            "Itika\n",
            "10\n"
          ]
        }
      ],
      "source": [
        "class Student:\n",
        "    def __init__(self, st_name, st_class, st_marks):\n",
        "        self.st_name = st_name\n",
        "        self.st_class = st_class\n",
        "        self.st_marks = 67\n",
        "S1 = Student(\"Itika\", 10, 67)\n",
        "print(S1.st_name)\n",
        "print(S1.st_class)"
      ]
    },
    {
      "cell_type": "markdown",
      "id": "4d925d3d",
      "metadata": {
        "id": "4d925d3d"
      },
      "source": [
        "### 26) What is a lambda function, and how does it work?\n",
        "A lambda function is a type of nameless function. This method can take as many parameters as you want but a single statement.\n",
        "\n"
      ]
    },
    {
      "cell_type": "code",
      "execution_count": null,
      "id": "92ac55d9",
      "metadata": {
        "id": "92ac55d9",
        "outputId": "d206c3a7-1067-4ebb-925e-a1317025e088"
      },
      "outputs": [
        {
          "name": "stdout",
          "output_type": "stream",
          "text": [
            "Sum ussing lambda function is: 15\n"
          ]
        }
      ],
      "source": [
        "# Python program to show how to use lambda functions\n",
        "\n",
        "# Creating a lambda function for addition\n",
        "sum_ = lambda x,y,z:x + y + z\n",
        "print(\"Sum ussing lambda function is:\",sum_(4,5,6))"
      ]
    },
    {
      "cell_type": "markdown",
      "id": "43d641c2",
      "metadata": {
        "id": "43d641c2"
      },
      "source": [
        "### 28) How do these commands work: break, pass and continue?\n"
      ]
    },
    {
      "cell_type": "raw",
      "id": "22b13b4f",
      "metadata": {
        "id": "22b13b4f"
      },
      "source": [
        "## Break\n",
        "The loop is terminated when a criterion is fulfilled, and control is passed to the subsequent statement.\n",
        "## Pass\n",
        "You can use this when you need a code block syntactically correct but don't want to run it. This is a null action in essence.\n",
        "When it is run, nothing takes place.\n",
        "## Continue\n",
        "When a specified criteria is fulfilled, the control is moved to the start of the loop,\n",
        "allowing some parts of the loop currently in execution to be skipped.\n"
      ]
    },
    {
      "cell_type": "markdown",
      "id": "5774438d",
      "metadata": {
        "id": "5774438d"
      },
      "source": [
        "### 29) In Python, how would you randomise the elements of a list while it's running?"
      ]
    },
    {
      "cell_type": "code",
      "execution_count": null,
      "id": "4fef7eb4",
      "metadata": {
        "id": "4fef7eb4",
        "outputId": "203d7675-728d-429b-ec0c-45ec4929bfd0"
      },
      "outputs": [
        {
          "name": "stdout",
          "output_type": "stream",
          "text": [
            "Original list:  ['Python', 'Interview', 'Questions', 'Randomise', 'List']\n",
            "After randomising the list:  ['Randomise', 'Python', 'Questions', 'Interview', 'List']\n"
          ]
        }
      ],
      "source": [
        "import random\n",
        "list1 = [\"Python\", \"Interview\", \"Questions\", \"Randomise\", \"List\"]\n",
        "print(\"Original list: \", list1)\n",
        "random.shuffle(list1)\n",
        "print(\"After randomising the list: \", list_)"
      ]
    },
    {
      "cell_type": "markdown",
      "id": "b16ab443",
      "metadata": {
        "id": "b16ab443"
      },
      "source": [
        "### 30) What is the difference between pickling and unpickling?\n",
        "The Pickle module takes any Python object and then transforms it into the representation of a string, which it then dumps into a file using the dump method. Unpickling is the procedure of recovering authentic Python items from a saved string representation.\n",
        "\n"
      ]
    },
    {
      "cell_type": "markdown",
      "id": "4bb37ec4",
      "metadata": {
        "id": "4bb37ec4"
      },
      "source": [
        "### 33) In Python, what are docstrings?\n",
        "Docstrings stands for documentation strings, which are not just comments. We enclose the docstrings in triple quotation marks. They are not allocated to any variable, and, as a result, they can also be used as comments.\n",
        "\n"
      ]
    },
    {
      "cell_type": "code",
      "execution_count": null,
      "id": "072c665f",
      "metadata": {
        "id": "072c665f",
        "outputId": "c8dff126-d0d0-48cb-d62c-ff04da1586cc"
      },
      "outputs": [
        {
          "name": "stdout",
          "output_type": "stream",
          "text": [
            "Result of multiplication:  1755\n"
          ]
        }
      ],
      "source": [
        "\n",
        "# Python program to show how to write a docstring\n",
        "\n",
        "\"\"\"\n",
        "This is a docstring.\n",
        "We write docstrings to explain a program.\n",
        "This program will multiply two numbers and then display the output.\n",
        "\"\"\"\n",
        "a = 39\n",
        "b = 45\n",
        "c = a * b\n",
        "print(\"Result of multiplication: \", c)"
      ]
    },
    {
      "cell_type": "markdown",
      "id": "fbf6ce85",
      "metadata": {
        "id": "fbf6ce85"
      },
      "source": [
        "### 34) Explain the split(), sub(), and subn() methods of the Python \"re\" module.\n",
        "Python's \"re\" module provides three ways for modifying strings. They are as follows:\n",
        "\n",
        "split() \"splits\" a string into a list using a regex pattern.\n",
        "\n",
        "sub() finds all substrings that match the regex pattern given by us. Then it replaces that substring with the string provided.\n",
        "\n",
        "subn() is analogous to sub() in that it gives the new string and the number of replacements."
      ]
    },
    {
      "cell_type": "markdown",
      "id": "aa4fc079",
      "metadata": {
        "id": "aa4fc079"
      },
      "source": [
        "### 35) What is the best way to add items to a Python array?\n",
        "We can use the append(), extend(), as well as insert (i,x) methods to add items to an array.\n",
        "\n",
        "Code"
      ]
    },
    {
      "cell_type": "code",
      "execution_count": null,
      "id": "b9cb2d5e",
      "metadata": {
        "id": "b9cb2d5e",
        "outputId": "c9ec7a2e-df73-4109-db0d-ac1978dd0ac6"
      },
      "outputs": [
        {
          "name": "stdout",
          "output_type": "stream",
          "text": [
            "array('d', [1.0, 2.0, 3.0, 8.0])\n"
          ]
        }
      ],
      "source": [
        "array = arr.array('d',[1,2,3])\n",
        "array.append(8)# appending will add an element to the end of the array\n",
        "print(array)\n"
      ]
    },
    {
      "cell_type": "code",
      "execution_count": null,
      "id": "f3eb676f",
      "metadata": {
        "id": "f3eb676f",
        "outputId": "a0f352ac-e6c5-4191-f7c8-cded47d2d61c"
      },
      "outputs": [
        {
          "name": "stdout",
          "output_type": "stream",
          "text": [
            "array('d', [1.0, 2.0, 9.0, 3.0, 8.0, 8.0, 9.0, 8.0, 9.0])\n"
          ]
        }
      ],
      "source": [
        "array.extend([8,9])# extending will add elements by looping through the given iterable\n",
        "print(array)"
      ]
    },
    {
      "cell_type": "code",
      "execution_count": null,
      "id": "0de76729",
      "metadata": {
        "id": "0de76729",
        "outputId": "84e418af-b5ee-44b8-8c28-94198705e8ce"
      },
      "outputs": [
        {
          "name": "stdout",
          "output_type": "stream",
          "text": [
            "array('d', [1.0, 2.0, 9.0, 9.0, 3.0, 8.0, 8.0, 9.0, 8.0, 9.0])\n"
          ]
        }
      ],
      "source": [
        "array.insert(2, 9) # inserting will add the element at the specified index\n",
        "print(array)"
      ]
    },
    {
      "cell_type": "markdown",
      "id": "23dc4fdb",
      "metadata": {
        "id": "23dc4fdb"
      },
      "source": [
        "### 36) What is the best way to remove values from a Python array?\n",
        "The pop() or remove() methods can be used to remove array elements. The distinction between these 2 methods is that the first returns the removed value, while the second does not.\n"
      ]
    },
    {
      "cell_type": "code",
      "execution_count": null,
      "id": "90533202",
      "metadata": {
        "id": "90533202",
        "outputId": "2d1ac01f-92b1-46c6-dbd8-b97e1a360951"
      },
      "outputs": [
        {
          "name": "stdout",
          "output_type": "stream",
          "text": [
            "4.0\n",
            "8.0\n",
            "array('d', [3.0, 8.0, 1.0, 4.0, 2.0])\n"
          ]
        }
      ],
      "source": [
        "array = arr.array('d', [1, 3, 8, 1, 4, 8, 2, 4])\n",
        "print(array.pop()) # By default it will remove and return the last element of the array\n",
        "print(array.pop(5)) # It will return and remove the element present at 5th index\n",
        "array.remove(1) # It will remove only the first occurrence of the element - 1 from the array\n",
        "print(array)"
      ]
    },
    {
      "cell_type": "markdown",
      "id": "1bdbfba0",
      "metadata": {
        "id": "1bdbfba0"
      },
      "source": [
        "### 38) In Python, how do you make an empty class?"
      ]
    },
    {
      "cell_type": "markdown",
      "id": "75f73510",
      "metadata": {
        "id": "75f73510"
      },
      "source": [
        "An empty class has no statements contained within its blocks. It can be produced by using the pass keyword. But you can make an object outside the class. The PASS statement doesn't do anything in Python."
      ]
    },
    {
      "cell_type": "code",
      "execution_count": null,
      "id": "470d7393",
      "metadata": {
        "id": "470d7393",
        "outputId": "a4b5632a-ada4-4ba7-ed79-5ec998c717fd"
      },
      "outputs": [
        {
          "name": "stdout",
          "output_type": "stream",
          "text": [
            "Name =  Javatpoint\n"
          ]
        }
      ],
      "source": [
        "class my_class:\n",
        "    pass\n",
        "object_ = my_class()\n",
        "object_.name = \"Javatpoint\"\n",
        "print(\"Name = \", object_.name)"
      ]
    },
    {
      "cell_type": "markdown",
      "id": "1987c961",
      "metadata": {
        "id": "1987c961"
      },
      "source": [
        "### 43) In a NumPy array, how do I extract the indices of N maximum values?"
      ]
    },
    {
      "cell_type": "code",
      "execution_count": null,
      "id": "ac4786d4",
      "metadata": {
        "id": "ac4786d4",
        "outputId": "877f6e2f-ae88-4b76-b4c0-01674bc5d866"
      },
      "outputs": [
        {
          "name": "stdout",
          "output_type": "stream",
          "text": [
            "[3 1]\n"
          ]
        }
      ],
      "source": [
        "import numpy\n",
        "array = numpy.array([4, 8, 4, 9, 2])\n",
        "print(array.argsort()[-2:][::-1])\n"
      ]
    },
    {
      "cell_type": "markdown",
      "id": "942bb32d",
      "metadata": {
        "id": "942bb32d"
      },
      "source": [
        "### 44) Using Python/ NumPy, write code to compute percentiles?\n"
      ]
    },
    {
      "cell_type": "code",
      "execution_count": null,
      "id": "8471413d",
      "metadata": {
        "id": "8471413d",
        "outputId": "18999f4c-7aa1-459f-8a4b-3c747ec2a87d"
      },
      "outputs": [
        {
          "name": "stdout",
          "output_type": "stream",
          "text": [
            "3.5\n"
          ]
        }
      ],
      "source": [
        "import numpy\n",
        "array = numpy.array([3, 6, 1, 6, 5, 2])\n",
        "percentile = numpy.percentile(array, 45) #Returns 45th percentile\n",
        "print(percentile)"
      ]
    },
    {
      "cell_type": "code",
      "execution_count": null,
      "id": "2257ee59",
      "metadata": {
        "id": "2257ee59"
      },
      "outputs": [],
      "source": []
    }
  ],
  "metadata": {
    "kernelspec": {
      "display_name": "Python 3 (ipykernel)",
      "language": "python",
      "name": "python3"
    },
    "language_info": {
      "codemirror_mode": {
        "name": "ipython",
        "version": 3
      },
      "file_extension": ".py",
      "mimetype": "text/x-python",
      "name": "python",
      "nbconvert_exporter": "python",
      "pygments_lexer": "ipython3",
      "version": "3.9.13"
    },
    "colab": {
      "provenance": [],
      "include_colab_link": true
    }
  },
  "nbformat": 4,
  "nbformat_minor": 5
}