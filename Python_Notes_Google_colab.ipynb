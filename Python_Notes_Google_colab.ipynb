{
  "cells": [
    {
      "cell_type": "markdown",
      "metadata": {
        "id": "view-in-github",
        "colab_type": "text"
      },
      "source": [
        "<a href=\"https://colab.research.google.com/github/ajitpadole/Python_practice/blob/main/Python_Notes_Google_colab.ipynb\" target=\"_parent\"><img src=\"https://colab.research.google.com/assets/colab-badge.svg\" alt=\"Open In Colab\"/></a>"
      ]
    },
    {
      "cell_type": "markdown",
      "id": "10c144c1",
      "metadata": {
        "id": "10c144c1"
      },
      "source": [
        "# What is Python?\n",
        "\n",
        "Python is an interpreted, object-oriented, high-level programming language with dynamic semantics\n"
      ]
    },
    {
      "cell_type": "markdown",
      "id": "65abe0cd",
      "metadata": {
        "id": "65abe0cd"
      },
      "source": [
        "Different data types we will encounter in Python\n",
        "\n",
        "Numeric - Numeric variables take values which are numbers like 9, 3.14, 0, Inf\n",
        "\n",
        "String - String variables are used to store textual information\n",
        "\n",
        "Boolean - Boolean variables have two modes either True or False.\n",
        "\n",
        "Datetime - These variables are used to store date and time values such as 2020-08-01 12:23:54"
      ]
    },
    {
      "cell_type": "markdown",
      "id": "d5c383c7",
      "metadata": {
        "id": "d5c383c7"
      },
      "source": [
        "# Integers and Floats"
      ]
    },
    {
      "cell_type": "code",
      "execution_count": null,
      "id": "23ede145",
      "metadata": {
        "id": "23ede145",
        "outputId": "d0f64059-518c-4875-f5c2-68817c52744d"
      },
      "outputs": [
        {
          "data": {
            "text/plain": [
              "3"
            ]
          },
          "execution_count": 1,
          "metadata": {},
          "output_type": "execute_result"
        }
      ],
      "source": [
        "# Addition\n",
        "2+1"
      ]
    },
    {
      "cell_type": "code",
      "execution_count": null,
      "id": "d43876f9",
      "metadata": {
        "id": "d43876f9",
        "outputId": "9f106de1-079e-415e-f5af-63383f344122"
      },
      "outputs": [
        {
          "data": {
            "text/plain": [
              "-3"
            ]
          },
          "execution_count": 2,
          "metadata": {},
          "output_type": "execute_result"
        }
      ],
      "source": [
        "# Subtraction\n",
        "2-5"
      ]
    },
    {
      "cell_type": "code",
      "execution_count": null,
      "id": "c862e7d9",
      "metadata": {
        "id": "c862e7d9",
        "outputId": "7e2a406b-b653-4eb7-8d61-f56a08693d27"
      },
      "outputs": [
        {
          "data": {
            "text/plain": [
              "3"
            ]
          },
          "execution_count": 3,
          "metadata": {},
          "output_type": "execute_result"
        }
      ],
      "source": [
        "# Floor Division\n",
        "7//2"
      ]
    },
    {
      "cell_type": "code",
      "execution_count": null,
      "id": "27d7914c",
      "metadata": {
        "id": "27d7914c",
        "outputId": "e0001953-478d-4cef-8c2c-696b27f6470b"
      },
      "outputs": [
        {
          "data": {
            "text/plain": [
              "32"
            ]
          },
          "execution_count": 4,
          "metadata": {},
          "output_type": "execute_result"
        }
      ],
      "source": [
        "# Exponentiation\n",
        "2**5"
      ]
    },
    {
      "cell_type": "code",
      "execution_count": null,
      "id": "3f7eb37b",
      "metadata": {
        "id": "3f7eb37b",
        "outputId": "f542b5bd-9ceb-43b9-fdee-5a7ddec2789b"
      },
      "outputs": [
        {
          "data": {
            "text/plain": [
              "5"
            ]
          },
          "execution_count": 5,
          "metadata": {},
          "output_type": "execute_result"
        }
      ],
      "source": [
        "# Modulus\n",
        "5%6"
      ]
    },
    {
      "cell_type": "code",
      "execution_count": null,
      "id": "f70bbd4b",
      "metadata": {
        "id": "f70bbd4b",
        "outputId": "72831492-b405-438a-da0b-f31ee4b4105b"
      },
      "outputs": [
        {
          "data": {
            "text/plain": [
              "105"
            ]
          },
          "execution_count": 6,
          "metadata": {},
          "output_type": "execute_result"
        }
      ],
      "source": [
        "# Order of Operations followed in Python\n",
        "2 + 10 * 10 + 3"
      ]
    },
    {
      "cell_type": "code",
      "execution_count": null,
      "id": "6922b51c",
      "metadata": {
        "id": "6922b51c",
        "outputId": "8099fe22-40c6-4acd-9f26-f65101815d69"
      },
      "outputs": [
        {
          "data": {
            "text/plain": [
              "4000000.0"
            ]
          },
          "execution_count": 7,
          "metadata": {},
          "output_type": "execute_result"
        }
      ],
      "source": [
        "# Scientific Notation for representing large numbers\n",
        "4E6"
      ]
    },
    {
      "cell_type": "markdown",
      "id": "4e32b9b4",
      "metadata": {
        "id": "4e32b9b4"
      },
      "source": [
        "1,2,-5,1000\tIntegers\n",
        "\n",
        "1.2,-0.5,2e2,3E2\tFloating-point numbers"
      ]
    },
    {
      "cell_type": "markdown",
      "id": "a387b948",
      "metadata": {
        "id": "a387b948"
      },
      "source": [
        "# What is a Variable?"
      ]
    },
    {
      "cell_type": "markdown",
      "id": "cf165f80",
      "metadata": {
        "id": "cf165f80"
      },
      "source": [
        "VARIABLES are entities which help us store information and retrieve it later.\n",
        "\n",
        "A variable with a fixed name can store information of nature like numeric, textual, boolean etc.\n",
        "\n",
        "A Python variable is a reserved memory location to store values. In other words, a variable in a python program gives data to the computer for processing.\n",
        "\n",
        "The type of data contained in a variable can be changed at user's will."
      ]
    },
    {
      "cell_type": "code",
      "execution_count": null,
      "id": "a3fdd003",
      "metadata": {
        "id": "a3fdd003",
        "outputId": "2d2e6c98-08ad-4eb7-eaa4-565bb638f2e3"
      },
      "outputs": [
        {
          "name": "stdout",
          "output_type": "stream",
          "text": [
            "12\n"
          ]
        }
      ],
      "source": [
        "# Addition\n",
        "x=5\n",
        "y=7\n",
        "z = x+y\n",
        "\n",
        "print(z)"
      ]
    },
    {
      "cell_type": "code",
      "execution_count": null,
      "id": "416e9831",
      "metadata": {
        "id": "416e9831",
        "outputId": "a9992697-43c3-48e7-c46a-eefb6bf13a01"
      },
      "outputs": [
        {
          "name": "stdout",
          "output_type": "stream",
          "text": [
            "0x1cc50d76a90\n"
          ]
        }
      ],
      "source": [
        "# Printing the memory address the variable z occupies\n",
        "print(hex(id(z)))"
      ]
    },
    {
      "cell_type": "code",
      "execution_count": null,
      "id": "84157a18",
      "metadata": {
        "id": "84157a18",
        "outputId": "5df36932-d8b3-4c26-a7a5-627fbff21994"
      },
      "outputs": [
        {
          "name": "stdout",
          "output_type": "stream",
          "text": [
            "2\n"
          ]
        }
      ],
      "source": [
        "# Modulo operator\n",
        "y=5\n",
        "x=3\n",
        "\n",
        "z = y%x       # Modulus is denoted by % sign\n",
        "print(z)"
      ]
    },
    {
      "cell_type": "markdown",
      "id": "f08e96e3",
      "metadata": {
        "id": "f08e96e3"
      },
      "source": [
        "##  Rules for naming a variable in Python\n",
        "\n",
        "* Variables names must start with a letter or an underscore like _ product , product_\n",
        "\n",
        "\n",
        "* The remainder of your variable name may consist of letters, numbers and underscores\n",
        "\n",
        "\n",
        "* spacy1, pyThon,machine_learning are some valid variable names\n",
        "\n",
        "\n",
        "* Names are case sensitive.\n",
        "\n",
        "\n",
        "* case_sensitive, CASE_SENSITIVE, and Case_Sensitive are each a different variable.\n"
      ]
    },
    {
      "cell_type": "markdown",
      "id": "d144e0a7",
      "metadata": {
        "id": "d144e0a7"
      },
      "source": [
        "# 1 Introduction to Strings"
      ]
    },
    {
      "cell_type": "markdown",
      "id": "453463c1",
      "metadata": {
        "id": "453463c1"
      },
      "source": [
        "Strings are used in Python to record text information, such as names. \n",
        "It could either be a word, a phrase, a sentence, a paragraph or an entire encyclopedia."
      ]
    },
    {
      "cell_type": "markdown",
      "id": "cfb90fba",
      "metadata": {
        "id": "cfb90fba"
      },
      "source": [
        "###  Creating a String\n",
        "* To create a string in Python you need to use either single quotes or double quotes. For example:"
      ]
    },
    {
      "cell_type": "code",
      "execution_count": null,
      "id": "69230629",
      "metadata": {
        "id": "69230629",
        "outputId": "0ba1a044-d8bb-4d40-f345-3eb1c013422e"
      },
      "outputs": [
        {
          "data": {
            "text/plain": [
              "'algebra'"
            ]
          },
          "execution_count": 11,
          "metadata": {},
          "output_type": "execute_result"
        }
      ],
      "source": [
        "# Single word\n",
        "my_first_string= 'algebra'\n",
        "my_first_string"
      ]
    },
    {
      "cell_type": "code",
      "execution_count": null,
      "id": "0da30eaa",
      "metadata": {
        "id": "0da30eaa",
        "outputId": "2cdc70cf-b117-4692-fe21-3267e201a3e5"
      },
      "outputs": [
        {
          "name": "stdout",
          "output_type": "stream",
          "text": [
            "Statistics sits at the heart of machine learning\n"
          ]
        }
      ],
      "source": [
        "# Entire phrase \n",
        "phrase = 'Statistics sits at the heart of machine learning'\n",
        "print(phrase)"
      ]
    },
    {
      "cell_type": "code",
      "execution_count": null,
      "id": "db78a6ce",
      "metadata": {
        "id": "db78a6ce",
        "outputId": "3fd96e8c-a90e-4804-ba62-2a1b867fdf66"
      },
      "outputs": [
        {
          "data": {
            "text/plain": [
              "str"
            ]
          },
          "execution_count": 13,
          "metadata": {},
          "output_type": "execute_result"
        }
      ],
      "source": [
        "type(phrase)"
      ]
    },
    {
      "cell_type": "code",
      "execution_count": null,
      "id": "4a204cb9",
      "metadata": {
        "id": "4a204cb9",
        "outputId": "848363e1-8dda-4b4e-d69d-33d3a1d24601"
      },
      "outputs": [
        {
          "name": "stdout",
          "output_type": "stream",
          "text": [
            "#\n"
          ]
        }
      ],
      "source": [
        "hashtag = \"#\"\n",
        "print(hashtag)"
      ]
    },
    {
      "cell_type": "code",
      "execution_count": null,
      "id": "238f0427",
      "metadata": {
        "id": "238f0427",
        "outputId": "086c2df9-c86e-44e9-b9af-1bc20b42ff5f"
      },
      "outputs": [
        {
          "data": {
            "text/plain": [
              "str"
            ]
          },
          "execution_count": 15,
          "metadata": {},
          "output_type": "execute_result"
        }
      ],
      "source": [
        "type(hashtag)"
      ]
    },
    {
      "cell_type": "code",
      "execution_count": null,
      "id": "bb9a2014",
      "metadata": {
        "id": "bb9a2014",
        "outputId": "6020fe6a-7620-404a-aed6-de3e6a003fc6"
      },
      "outputs": [
        {
          "data": {
            "text/plain": [
              "'Calculus'"
            ]
          },
          "execution_count": 17,
          "metadata": {},
          "output_type": "execute_result"
        }
      ],
      "source": [
        "# Note that we can't output multiple strings with only write string\n",
        "'Linear Algebra'\n",
        "'Calculus'"
      ]
    },
    {
      "cell_type": "code",
      "execution_count": null,
      "id": "61b7d607",
      "metadata": {
        "id": "61b7d607",
        "outputId": "9ddfabe9-2a7d-4306-83fb-4718d2fdb44e"
      },
      "outputs": [
        {
          "name": "stdout",
          "output_type": "stream",
          "text": [
            "Use \n",
            " to print a new line\n"
          ]
        }
      ],
      "source": [
        "print('Use \\n to print a new line')"
      ]
    },
    {
      "cell_type": "markdown",
      "id": "0b6a71b6",
      "metadata": {
        "id": "0b6a71b6"
      },
      "source": [
        "* bold text We can also use a function called <code>len()</code> to check the length of a string!"
      ]
    },
    {
      "cell_type": "code",
      "execution_count": null,
      "id": "4c3e41f6",
      "metadata": {
        "id": "4c3e41f6",
        "outputId": "4eb9b584-8b52-47c9-87e5-77109218e733"
      },
      "outputs": [
        {
          "data": {
            "text/plain": [
              "12"
            ]
          },
          "execution_count": 19,
          "metadata": {},
          "output_type": "execute_result"
        }
      ],
      "source": [
        "algo = 'regres sion '\n",
        "len(algo)"
      ]
    },
    {
      "cell_type": "markdown",
      "id": "ff9d7d07",
      "metadata": {
        "id": "ff9d7d07"
      },
      "source": [
        "Python's built-in len() function counts all of the characters in the string, including spaces and punctuation."
      ]
    },
    {
      "cell_type": "markdown",
      "id": "18a71fd1",
      "metadata": {
        "id": "18a71fd1"
      },
      "source": [
        "### <u> String Indexing </u>\n",
        "\n",
        "* We know strings are a sequence, which means Python can use indexes to call parts of the sequence.\n",
        "\n",
        "\n",
        "* A string index refers to the location of an element present in a string.\n",
        "\n",
        "\n",
        "* The indexing begins from 0 in Python. \n",
        "\n",
        "\n",
        "* The first element is assigned an index 0, the second element is assigned an index of 1 and so on and so forth.\n",
        "\n",
        "\n",
        "* In Python, we use brackets <code>[]</code> after an object to call its index."
      ]
    },
    {
      "cell_type": "code",
      "execution_count": null,
      "id": "c475f0eb",
      "metadata": {
        "id": "c475f0eb"
      },
      "outputs": [],
      "source": [
        "string  = 'Principal Component Analysis!'"
      ]
    },
    {
      "cell_type": "code",
      "execution_count": null,
      "id": "7b7cea35",
      "metadata": {
        "id": "7b7cea35",
        "outputId": "aa9a4506-cd7d-4f0d-f81e-97d7c347d6b2"
      },
      "outputs": [
        {
          "name": "stdout",
          "output_type": "stream",
          "text": [
            "i\n"
          ]
        }
      ],
      "source": [
        "print(string[5])"
      ]
    },
    {
      "cell_type": "code",
      "execution_count": null,
      "id": "48e6c621",
      "metadata": {
        "id": "48e6c621",
        "outputId": "67815701-ad29-4928-98f1-84fd9d3e613c"
      },
      "outputs": [
        {
          "data": {
            "text/plain": [
              "29"
            ]
          },
          "execution_count": 22,
          "metadata": {},
          "output_type": "execute_result"
        }
      ],
      "source": [
        "len(string)"
      ]
    },
    {
      "cell_type": "markdown",
      "id": "5580e446",
      "metadata": {
        "id": "5580e446"
      },
      "source": [
        "* We can use a <code>:</code> to perform *slicing* which grabs everything up to a designated point. \n",
        "\n",
        "\n",
        "* The starting index is specified on the left of the <code>:</code> and the ending index is specified on the right of the <code>:</code>. \n",
        "\n",
        "\n",
        "* Remember the element located at the right index is not included."
      ]
    },
    {
      "cell_type": "code",
      "execution_count": null,
      "id": "0b0010ee",
      "metadata": {
        "id": "0b0010ee",
        "outputId": "218051a0-09ee-4e3d-fb6b-65939b4b6d99"
      },
      "outputs": [
        {
          "name": "stdout",
          "output_type": "stream",
          "text": [
            "Principal Component Analysis!\n",
            "Principal Com\n"
          ]
        }
      ],
      "source": [
        "print(string)\n",
        "print(string[:13])"
      ]
    },
    {
      "cell_type": "code",
      "execution_count": null,
      "id": "5ef50278",
      "metadata": {
        "id": "5ef50278",
        "outputId": "4f7285ae-832e-4121-bb38-0abca0cd3449"
      },
      "outputs": [
        {
          "name": "stdout",
          "output_type": "stream",
          "text": [
            "Pr\n"
          ]
        }
      ],
      "source": [
        "print(string[:2])"
      ]
    },
    {
      "cell_type": "code",
      "execution_count": null,
      "id": "75e2dfb2",
      "metadata": {
        "id": "75e2dfb2",
        "outputId": "8ac041ae-5672-4cd7-9874-22b9be7439cd"
      },
      "outputs": [
        {
          "name": "stdout",
          "output_type": "stream",
          "text": [
            "Principal Component Analysis!\n"
          ]
        }
      ],
      "source": [
        "print(string[::1])"
      ]
    },
    {
      "cell_type": "code",
      "execution_count": null,
      "id": "9d38902b",
      "metadata": {
        "id": "9d38902b",
        "outputId": "a8251f09-8339-4f28-9134-e2e54e70c609"
      },
      "outputs": [
        {
          "data": {
            "text/plain": [
              "'Principal Component Analysis!'"
            ]
          },
          "execution_count": 32,
          "metadata": {},
          "output_type": "execute_result"
        }
      ],
      "source": [
        "string[::1]"
      ]
    },
    {
      "cell_type": "code",
      "execution_count": null,
      "id": "ec4e9cef",
      "metadata": {
        "id": "ec4e9cef",
        "outputId": "f506c10e-5efd-415c-c839-335d59bb200e"
      },
      "outputs": [
        {
          "name": "stdout",
          "output_type": "stream",
          "text": [
            "Pnp mntnys\n"
          ]
        }
      ],
      "source": [
        "print(string[::3])"
      ]
    },
    {
      "cell_type": "code",
      "execution_count": null,
      "id": "df4b7694",
      "metadata": {
        "id": "df4b7694",
        "outputId": "bbcac884-8da1-4ddf-e19a-6617d166b838"
      },
      "outputs": [
        {
          "name": "stdout",
          "output_type": "stream",
          "text": [
            "!sisylanA tnenopmoC lapicnirP\n"
          ]
        }
      ],
      "source": [
        "print(string[::-1])"
      ]
    },
    {
      "cell_type": "markdown",
      "id": "ad8a5ca5",
      "metadata": {
        "id": "ad8a5ca5"
      },
      "source": [
        "## String Properties\n",
        "\n",
        "* It's important to note that strings have an important property known as *immutability*. \n",
        "\n",
        "\n",
        "* This means that once a string is created, the elements within it can not be changed or replaced via item assignment. We will see how we can do such operation using string methods"
      ]
    },
    {
      "cell_type": "code",
      "execution_count": null,
      "id": "15c5d186",
      "metadata": {
        "id": "15c5d186",
        "outputId": "4e9021e4-c05b-401f-beb4-0d02e1b5809e"
      },
      "outputs": [
        {
          "ename": "TypeError",
          "evalue": "'str' object does not support item assignment",
          "output_type": "error",
          "traceback": [
            "\u001b[1;31m---------------------------------------------------------------------------\u001b[0m",
            "\u001b[1;31mTypeError\u001b[0m                                 Traceback (most recent call last)",
            "\u001b[1;32m~\\AppData\\Local\\Temp\\ipykernel_9404\\4266378584.py\u001b[0m in \u001b[0;36m<module>\u001b[1;34m\u001b[0m\n\u001b[0;32m      1\u001b[0m \u001b[1;31m# Can we change our string 'Hello' to 'Cello'? Lets try replacing the first letter H with C\u001b[0m\u001b[1;33m\u001b[0m\u001b[1;33m\u001b[0m\u001b[0m\n\u001b[0;32m      2\u001b[0m \u001b[0mstring\u001b[0m\u001b[1;33m=\u001b[0m\u001b[1;34m'Hello'\u001b[0m\u001b[1;33m\u001b[0m\u001b[1;33m\u001b[0m\u001b[0m\n\u001b[1;32m----> 3\u001b[1;33m \u001b[0mstring\u001b[0m\u001b[1;33m[\u001b[0m\u001b[1;36m0\u001b[0m\u001b[1;33m]\u001b[0m \u001b[1;33m=\u001b[0m \u001b[1;34m'C'\u001b[0m\u001b[1;33m\u001b[0m\u001b[1;33m\u001b[0m\u001b[0m\n\u001b[0m",
            "\u001b[1;31mTypeError\u001b[0m: 'str' object does not support item assignment"
          ]
        }
      ],
      "source": [
        "# Can we change our string 'Hello' to 'Cello'? Lets try replacing the first letter H with C\n",
        "string='Hello'\n",
        "string[0] = 'C'"
      ]
    },
    {
      "cell_type": "code",
      "execution_count": null,
      "id": "1254b84a",
      "metadata": {
        "id": "1254b84a",
        "outputId": "6161e3a8-c775-4146-e08a-45f62e7f973b"
      },
      "outputs": [
        {
          "ename": "TypeError",
          "evalue": "can only concatenate str (not \"int\") to str",
          "output_type": "error",
          "traceback": [
            "\u001b[1;31m---------------------------------------------------------------------------\u001b[0m",
            "\u001b[1;31mTypeError\u001b[0m                                 Traceback (most recent call last)",
            "\u001b[1;32m~\\AppData\\Local\\Temp\\ipykernel_9404\\1897704460.py\u001b[0m in \u001b[0;36m<module>\u001b[1;34m\u001b[0m\n\u001b[0;32m      1\u001b[0m \u001b[0mstring1\u001b[0m \u001b[1;33m=\u001b[0m \u001b[1;34m\"Ajit\"\u001b[0m\u001b[1;33m\u001b[0m\u001b[1;33m\u001b[0m\u001b[0m\n\u001b[0;32m      2\u001b[0m \u001b[0mstring2\u001b[0m \u001b[1;33m=\u001b[0m \u001b[1;34m\"Padole\"\u001b[0m\u001b[1;33m\u001b[0m\u001b[1;33m\u001b[0m\u001b[0m\n\u001b[1;32m----> 3\u001b[1;33m \u001b[0mprint\u001b[0m\u001b[1;33m(\u001b[0m\u001b[0mstring1\u001b[0m \u001b[1;33m+\u001b[0m \u001b[1;36m4\u001b[0m \u001b[1;33m+\u001b[0m \u001b[0mstring2\u001b[0m\u001b[1;33m)\u001b[0m\u001b[1;33m\u001b[0m\u001b[1;33m\u001b[0m\u001b[0m\n\u001b[0m",
            "\u001b[1;31mTypeError\u001b[0m: can only concatenate str (not \"int\") to str"
          ]
        }
      ],
      "source": [
        "string1 = \"Ajit\"\n",
        "string2 = \"Padole\"\n",
        "print(string1 + 4 + string2)"
      ]
    },
    {
      "cell_type": "markdown",
      "id": "b890e909",
      "metadata": {
        "id": "b890e909"
      },
      "source": [
        "To convert an integer into a string, you can use the str() function or you can simply write the number in quotes"
      ]
    },
    {
      "cell_type": "code",
      "execution_count": null,
      "id": "173b7d30",
      "metadata": {
        "id": "173b7d30",
        "outputId": "fa310ff0-cbe6-4273-dd16-9b2bb22bcf2b"
      },
      "outputs": [
        {
          "name": "stdout",
          "output_type": "stream",
          "text": [
            "abc4def\n"
          ]
        }
      ],
      "source": [
        "# Concatenate strings!\n",
        "\n",
        "string1='abc'\n",
        "string2='def'\n",
        "num = 4\n",
        "print(string1 + str(4) + string2)"
      ]
    },
    {
      "cell_type": "code",
      "execution_count": null,
      "id": "852a2378",
      "metadata": {
        "id": "852a2378",
        "outputId": "b737dc4a-2c87-4219-b0a8-a3f41f4e108e"
      },
      "outputs": [
        {
          "name": "stdout",
          "output_type": "stream",
          "text": [
            "Hello concatenate me!\n"
          ]
        }
      ],
      "source": [
        "# We can reassign string completely though!\n",
        "string = string + ' concatenate me!'\n",
        "print(string)"
      ]
    },
    {
      "cell_type": "code",
      "execution_count": null,
      "id": "5dc116df",
      "metadata": {
        "id": "5dc116df",
        "outputId": "03c3c41b-7cdb-4909-f9bc-9bd5e4a86c4e"
      },
      "outputs": [
        {
          "data": {
            "text/plain": [
              "16"
            ]
          },
          "execution_count": 41,
          "metadata": {},
          "output_type": "execute_result"
        }
      ],
      "source": [
        "#len\n",
        "algorithm = \"Machine Learning\"\n",
        "len(algorithm)"
      ]
    },
    {
      "cell_type": "code",
      "execution_count": null,
      "id": "ee83a02b",
      "metadata": {
        "id": "ee83a02b",
        "outputId": "ccba85e2-8271-4768-e478-ed859efb24a2"
      },
      "outputs": [
        {
          "data": {
            "text/plain": [
              "'machine learning'"
            ]
          },
          "execution_count": 42,
          "metadata": {},
          "output_type": "execute_result"
        }
      ],
      "source": [
        "#lower\n",
        "algorithm.lower()"
      ]
    },
    {
      "cell_type": "code",
      "execution_count": null,
      "id": "1042a96f",
      "metadata": {
        "id": "1042a96f",
        "outputId": "ebc1777a-5904-4a5f-cb9c-c5147361758a"
      },
      "outputs": [
        {
          "data": {
            "text/plain": [
              "'MACHINE LEARNING'"
            ]
          },
          "execution_count": 43,
          "metadata": {},
          "output_type": "execute_result"
        }
      ],
      "source": [
        "#upper\n",
        "algorithm.upper()"
      ]
    },
    {
      "cell_type": "code",
      "execution_count": null,
      "id": "f0ff057c",
      "metadata": {
        "id": "f0ff057c",
        "outputId": "3b8954c9-8c6f-4829-e842-c8e447f38f0d"
      },
      "outputs": [
        {
          "data": {
            "text/plain": [
              "2"
            ]
          },
          "execution_count": 45,
          "metadata": {},
          "output_type": "execute_result"
        }
      ],
      "source": [
        "#Count\n",
        "algorithm.count(\"a\")"
      ]
    },
    {
      "cell_type": "code",
      "execution_count": null,
      "id": "0f780f68",
      "metadata": {
        "id": "0f780f68",
        "outputId": "cff045a8-64c9-4bb5-df35-c3d406a2bf95"
      },
      "outputs": [
        {
          "data": {
            "text/plain": [
              "-1"
            ]
          },
          "execution_count": 47,
          "metadata": {},
          "output_type": "execute_result"
        }
      ],
      "source": [
        "#Find\n",
        "algorithm.find(\"la\")"
      ]
    },
    {
      "cell_type": "code",
      "execution_count": null,
      "id": "ab27b2c0",
      "metadata": {
        "id": "ab27b2c0",
        "outputId": "4d186aa1-9099-4015-c486-e40093a41510"
      },
      "outputs": [
        {
          "data": {
            "text/plain": [
              "'Machine-Learning'"
            ]
          },
          "execution_count": 48,
          "metadata": {},
          "output_type": "execute_result"
        }
      ],
      "source": [
        "#replace \n",
        "algorithm.replace(' ','-')"
      ]
    },
    {
      "cell_type": "code",
      "execution_count": null,
      "id": "0550bba3",
      "metadata": {
        "id": "0550bba3",
        "outputId": "d70e6c99-2009-433a-99df-dcddb066adce"
      },
      "outputs": [
        {
          "data": {
            "text/plain": [
              "'Lachine Learning'"
            ]
          },
          "execution_count": 49,
          "metadata": {},
          "output_type": "execute_result"
        }
      ],
      "source": [
        "algorithm.replace('M','L')"
      ]
    },
    {
      "cell_type": "code",
      "execution_count": null,
      "id": "fb1b1915",
      "metadata": {
        "id": "fb1b1915",
        "outputId": "c368d253-1284-432b-fcca-49d7bda43d19"
      },
      "outputs": [
        {
          "name": "stdout",
          "output_type": "stream",
          "text": [
            "Left plus right makes Rahul  Modi\n"
          ]
        }
      ],
      "source": [
        "first_name = 'Rahul'\n",
        "last_name = 'Modi'\n",
        "\n",
        "full_name = f'Left plus right makes {first_name}  {last_name}'  # Use {} to print the variable you want to\n",
        "print(full_name)"
      ]
    },
    {
      "cell_type": "code",
      "execution_count": null,
      "id": "0976a57b",
      "metadata": {
        "id": "0976a57b",
        "outputId": "a5df2207-da7d-4eeb-8488-7c6c2a5722a9"
      },
      "outputs": [
        {
          "name": "stdout",
          "output_type": "stream",
          "text": [
            "Full name is and first is Rahul and last Modi\n"
          ]
        }
      ],
      "source": [
        "name = \"Full name is and first is {} and last {}\".format(first_name,last_name)\n",
        "print(name)"
      ]
    },
    {
      "cell_type": "markdown",
      "id": "ebc22fd1",
      "metadata": {
        "id": "ebc22fd1"
      },
      "source": [
        "Check if a string contains a particular word or character"
      ]
    },
    {
      "cell_type": "code",
      "execution_count": null,
      "id": "28c6b3c1",
      "metadata": {
        "id": "28c6b3c1"
      },
      "outputs": [],
      "source": [
        "my_string = 'Albert Einstein'"
      ]
    },
    {
      "cell_type": "code",
      "execution_count": null,
      "id": "199fee60",
      "metadata": {
        "id": "199fee60",
        "outputId": "72dfadb3-6420-4eb6-fb62-8c9450397192"
      },
      "outputs": [
        {
          "data": {
            "text/plain": [
              "True"
            ]
          },
          "execution_count": 54,
          "metadata": {},
          "output_type": "execute_result"
        }
      ],
      "source": [
        "'Albert' in my_string"
      ]
    },
    {
      "cell_type": "markdown",
      "id": "6f8aa1a9",
      "metadata": {
        "id": "6f8aa1a9"
      },
      "source": [
        "#  2 Introduction to Lists"
      ]
    },
    {
      "cell_type": "markdown",
      "id": "c29af84a",
      "metadata": {
        "id": "c29af84a"
      },
      "source": [
        "\n",
        "* Unlike strings, they are mutable, meaning the elements inside a list can be changed! \n",
        "\n",
        "\n",
        "* Lists are constructed with brackets <code>[]</code> and commas separating every element in the list."
      ]
    },
    {
      "cell_type": "code",
      "execution_count": null,
      "id": "260e416e",
      "metadata": {
        "id": "260e416e"
      },
      "outputs": [],
      "source": [
        "# Assign a list to an variable named my_list\n",
        "my_list = [1,2,3,4]"
      ]
    },
    {
      "cell_type": "code",
      "execution_count": null,
      "id": "b9cb8f19",
      "metadata": {
        "id": "b9cb8f19",
        "outputId": "510bd443-85bd-4e35-b094-34a69ae09874"
      },
      "outputs": [
        {
          "name": "stdout",
          "output_type": "stream",
          "text": [
            "[1, 2, 3, 4]\n"
          ]
        }
      ],
      "source": [
        "print(my_list)"
      ]
    },
    {
      "cell_type": "code",
      "execution_count": null,
      "id": "40bc0c8a",
      "metadata": {
        "id": "40bc0c8a",
        "outputId": "f291d187-03c9-43b6-e6bb-370ef17f4069"
      },
      "outputs": [
        {
          "data": {
            "text/plain": [
              "list"
            ]
          },
          "execution_count": 4,
          "metadata": {},
          "output_type": "execute_result"
        }
      ],
      "source": [
        "type(my_list)"
      ]
    },
    {
      "cell_type": "markdown",
      "id": "c795381a",
      "metadata": {
        "id": "c795381a"
      },
      "source": [
        "* We just created a list of integers, but lists can actually hold different object types. For example:"
      ]
    },
    {
      "cell_type": "code",
      "execution_count": null,
      "id": "8f9a97fc",
      "metadata": {
        "id": "8f9a97fc"
      },
      "outputs": [],
      "source": [
        "my_list = ['A string',23,100.232,'o',True]"
      ]
    },
    {
      "cell_type": "code",
      "execution_count": null,
      "id": "68bb2ca8",
      "metadata": {
        "id": "68bb2ca8",
        "outputId": "424f902b-b4c9-4dd1-8747-30a81742a082"
      },
      "outputs": [
        {
          "data": {
            "text/plain": [
              "['A string', 23, 100.232, 'o', True]"
            ]
          },
          "execution_count": 6,
          "metadata": {},
          "output_type": "execute_result"
        }
      ],
      "source": [
        "my_list"
      ]
    },
    {
      "cell_type": "markdown",
      "id": "f0813c67",
      "metadata": {
        "id": "f0813c67"
      },
      "source": [
        "## List Slicing\n",
        "\n",
        "* We can use a <code>:</code> to perform *slicing* which grabs everything up to a designated point. \n",
        "\n",
        "\n",
        "* The starting index is specified on the left of the <code>:</code> and the ending index is specified on the right of the <code>:</code>. \n",
        "\n",
        "\n",
        "* Remember the element located at the right index is not included."
      ]
    },
    {
      "cell_type": "code",
      "execution_count": null,
      "id": "e3c3204b",
      "metadata": {
        "id": "e3c3204b",
        "outputId": "67bcc59c-a13c-4f28-9d4c-62c267d9f7dc"
      },
      "outputs": [
        {
          "name": "stdout",
          "output_type": "stream",
          "text": [
            "['Mean Absolute Error', 'Mean Squared Error', 'Huber Loss', 'Log Loss', 'Hinge Loss']\n"
          ]
        }
      ],
      "source": [
        "# Consider a list of strings\n",
        "loss_functions = ['Mean Absolute Error','Mean Squared Error','Huber Loss','Log Loss','Hinge Loss']\n",
        "print(loss_functions)"
      ]
    },
    {
      "cell_type": "code",
      "execution_count": null,
      "id": "b039c4da",
      "metadata": {
        "id": "b039c4da",
        "outputId": "d9ccde88-a175-45e7-b7f2-d866b979f1e5"
      },
      "outputs": [
        {
          "data": {
            "text/plain": [
              "['Mean Squared Error', 'Huber Loss', 'Log Loss']"
            ]
          },
          "execution_count": 9,
          "metadata": {},
          "output_type": "execute_result"
        }
      ],
      "source": [
        "loss_functions[1:4]"
      ]
    },
    {
      "cell_type": "code",
      "execution_count": null,
      "id": "f961953d",
      "metadata": {
        "id": "f961953d",
        "outputId": "0b10bd0f-dd12-4035-931e-ad591466f550"
      },
      "outputs": [
        {
          "data": {
            "text/plain": [
              "['Mean Squared Error', 'Huber Loss', 'Log Loss', 'Hinge Loss']"
            ]
          },
          "execution_count": 10,
          "metadata": {},
          "output_type": "execute_result"
        }
      ],
      "source": [
        "# Grab the LAST FOUR elements of the list\n",
        "loss_functions[-4:]"
      ]
    },
    {
      "cell_type": "markdown",
      "id": "4ff43e9e",
      "metadata": {
        "id": "4ff43e9e"
      },
      "source": [
        "## List Operations\n",
        "* Remember we said that lists are mutable as opposed to strings. Lets see how can we change the elements of a list"
      ]
    },
    {
      "cell_type": "code",
      "execution_count": null,
      "id": "9bcf3d89",
      "metadata": {
        "id": "9bcf3d89",
        "outputId": "4e1f9d66-30e5-4dab-9167-418de0bbd7f3"
      },
      "outputs": [
        {
          "name": "stdout",
          "output_type": "stream",
          "text": [
            "['Mean Absolute Error', 'Mean Squared Error', 'Huber Loss', 'Log Loss', 'Hinge Loss']\n"
          ]
        }
      ],
      "source": [
        "print(loss_functions)"
      ]
    },
    {
      "cell_type": "code",
      "execution_count": null,
      "id": "e6bc939b",
      "metadata": {
        "id": "e6bc939b",
        "outputId": "9686e8ac-0d20-46d1-d3e1-72d93a3ebb2e"
      },
      "outputs": [
        {
          "data": {
            "text/plain": [
              "['Mean Absolute Error',\n",
              " 'Mean Squared Error',\n",
              " 'Huber Loss',\n",
              " 'Log Loss',\n",
              " 'Hinge Loss',\n",
              " 'Kullback-Leibler']"
            ]
          },
          "execution_count": 13,
          "metadata": {},
          "output_type": "execute_result"
        }
      ],
      "source": [
        "loss_functions + ['Kullback-Leibler']"
      ]
    },
    {
      "cell_type": "markdown",
      "id": "73da0b8e",
      "metadata": {
        "id": "73da0b8e"
      },
      "source": [
        "::* Note: This doesn't actually change the original list!"
      ]
    },
    {
      "cell_type": "markdown",
      "id": "14c6e665",
      "metadata": {
        "id": "14c6e665"
      },
      "source": [
        "## List Functions"
      ]
    },
    {
      "cell_type": "markdown",
      "id": "043644fb",
      "metadata": {
        "id": "043644fb"
      },
      "source": [
        "### <code>min()</code>\n",
        "\n",
        "\n",
        "* <code>min()</code> function returns the minimum element of the list\n",
        "\n",
        "\n",
        "* <code>min()</code> function only works with lists of similar data types"
      ]
    },
    {
      "cell_type": "code",
      "execution_count": null,
      "id": "bd11b311",
      "metadata": {
        "id": "bd11b311"
      },
      "outputs": [],
      "source": [
        "new_list = [6, 9, 1, 3, 5.5]"
      ]
    },
    {
      "cell_type": "code",
      "execution_count": null,
      "id": "3fce1f49",
      "metadata": {
        "id": "3fce1f49",
        "outputId": "8f741125-ff21-448d-db4c-63777c7738e8"
      },
      "outputs": [
        {
          "data": {
            "text/plain": [
              "1"
            ]
          },
          "execution_count": 17,
          "metadata": {},
          "output_type": "execute_result"
        }
      ],
      "source": [
        "min(new_list)"
      ]
    },
    {
      "cell_type": "code",
      "execution_count": null,
      "id": "1fa020f9",
      "metadata": {
        "id": "1fa020f9"
      },
      "outputs": [],
      "source": [
        "my_new_list = ['a','b', 'z' ,'y' , 'm']"
      ]
    },
    {
      "cell_type": "code",
      "execution_count": null,
      "id": "0682aac7",
      "metadata": {
        "id": "0682aac7",
        "outputId": "4fa2e1e6-573d-41bd-f32a-98056b00fb1d"
      },
      "outputs": [
        {
          "data": {
            "text/plain": [
              "'a'"
            ]
          },
          "execution_count": 19,
          "metadata": {},
          "output_type": "execute_result"
        }
      ],
      "source": [
        "min(my_new_list)"
      ]
    },
    {
      "cell_type": "markdown",
      "id": "c69f4215",
      "metadata": {
        "id": "c69f4215"
      },
      "source": [
        "### <code>max()</code>\n",
        "\n",
        "\n",
        "* <code>max()</code> function returns the maximum element of the list\n",
        "\n",
        "\n",
        "* <code>max()</code> function only works with lists of similar data types"
      ]
    },
    {
      "cell_type": "code",
      "execution_count": null,
      "id": "a4e60502",
      "metadata": {
        "id": "a4e60502"
      },
      "outputs": [],
      "source": [
        "new_list = ['Argue','Burglar','Parent','Linear','shape']"
      ]
    },
    {
      "cell_type": "code",
      "execution_count": null,
      "id": "98183b6a",
      "metadata": {
        "id": "98183b6a",
        "outputId": "f299aa84-999b-41cc-c0e1-c312dab79f1b"
      },
      "outputs": [
        {
          "data": {
            "text/plain": [
              "'shape'"
            ]
          },
          "execution_count": 21,
          "metadata": {},
          "output_type": "execute_result"
        }
      ],
      "source": [
        "max(new_list)"
      ]
    },
    {
      "cell_type": "markdown",
      "id": "e49fa6a7",
      "metadata": {
        "id": "e49fa6a7"
      },
      "source": [
        "### <code>sum()</code>\n",
        "\n",
        "\n",
        "* <code>sum()</code> function returns the sum of the elements of the list\n",
        "\n",
        "\n",
        "* <code>sum()</code> function only works with lists of numeric data types"
      ]
    },
    {
      "cell_type": "code",
      "execution_count": null,
      "id": "a222ed91",
      "metadata": {
        "id": "a222ed91"
      },
      "outputs": [],
      "source": [
        "new_list = [6, 9, 1, 3, 5.5]"
      ]
    },
    {
      "cell_type": "code",
      "execution_count": null,
      "id": "6212096a",
      "metadata": {
        "id": "6212096a",
        "outputId": "f36bb7e7-2c4c-4e1a-e29f-083d7178a752"
      },
      "outputs": [
        {
          "data": {
            "text/plain": [
              "24.5"
            ]
          },
          "execution_count": 24,
          "metadata": {},
          "output_type": "execute_result"
        }
      ],
      "source": [
        "sum(new_list)"
      ]
    },
    {
      "cell_type": "markdown",
      "id": "295c6328",
      "metadata": {
        "id": "295c6328"
      },
      "source": [
        "### <code>sorted()</code>\n",
        "\n",
        "\n",
        "* <code>sorted()</code> function returns the sorted list \n",
        "\n",
        "\n",
        "* <code>sorted()</code> function takes reverse boolean as an argument\n",
        "\n",
        "\n",
        "* <code>sorted()</code> function only works on a list with similar data types"
      ]
    },
    {
      "cell_type": "code",
      "execution_count": null,
      "id": "35305890",
      "metadata": {
        "id": "35305890",
        "outputId": "236a1ca7-88e0-4085-d626-fa623607a1ef"
      },
      "outputs": [
        {
          "data": {
            "text/plain": [
              "[6, 9, 1, 3, 5.5]"
            ]
          },
          "execution_count": 26,
          "metadata": {},
          "output_type": "execute_result"
        }
      ],
      "source": [
        "new_list"
      ]
    },
    {
      "cell_type": "code",
      "execution_count": null,
      "id": "1c1b0eec",
      "metadata": {
        "id": "1c1b0eec",
        "outputId": "c3a184e7-8194-4ffb-f224-cf8c331ffe58"
      },
      "outputs": [
        {
          "data": {
            "text/plain": [
              "[1, 3, 5.5, 6, 9]"
            ]
          },
          "execution_count": 27,
          "metadata": {},
          "output_type": "execute_result"
        }
      ],
      "source": [
        "sorted(new_list)"
      ]
    },
    {
      "cell_type": "code",
      "execution_count": null,
      "id": "6a341135",
      "metadata": {
        "id": "6a341135"
      },
      "outputs": [],
      "source": [
        "new_list = ['Argue','Burglar','Parent','Linear','shape']"
      ]
    },
    {
      "cell_type": "code",
      "execution_count": null,
      "id": "0c95076b",
      "metadata": {
        "id": "0c95076b",
        "outputId": "6cf7566c-456e-4d79-b98f-d9316edd4307"
      },
      "outputs": [
        {
          "data": {
            "text/plain": [
              "['Argue', 'Burglar', 'Linear', 'Parent', 'shape']"
            ]
          },
          "execution_count": 29,
          "metadata": {},
          "output_type": "execute_result"
        }
      ],
      "source": [
        "sorted(new_list)"
      ]
    },
    {
      "cell_type": "code",
      "execution_count": null,
      "id": "8a713dc2",
      "metadata": {
        "id": "8a713dc2",
        "outputId": "bc400da8-e302-4344-8dee-f9b27bd19091"
      },
      "outputs": [
        {
          "name": "stdout",
          "output_type": "stream",
          "text": [
            "['Argue', 'Burglar', 'Parent', 'Linear', 'shape']\n"
          ]
        }
      ],
      "source": [
        "print(new_list)"
      ]
    },
    {
      "cell_type": "code",
      "execution_count": null,
      "id": "2cbc712a",
      "metadata": {
        "id": "2cbc712a",
        "outputId": "e00563b2-c7f8-4e4d-d195-643e08bea6d0"
      },
      "outputs": [
        {
          "data": {
            "text/plain": [
              "['shape', 'Parent', 'Linear', 'Burglar', 'Argue']"
            ]
          },
          "execution_count": 32,
          "metadata": {},
          "output_type": "execute_result"
        }
      ],
      "source": [
        "sorted(new_list,reverse=True) #REVERSE LIST"
      ]
    },
    {
      "cell_type": "markdown",
      "id": "16dd4b9e",
      "metadata": {
        "id": "16dd4b9e"
      },
      "source": [
        "## List Methods\n",
        "\n",
        "* If you are familiar with another programming language, you might start to draw parallels between arrays in another language and lists in Python. Lists in Python however, tend to be more flexible than arrays in other languages for a two good reasons: they have no fixed size (meaning we don't have to specify how big a list will be), and they have no fixed type constraint (like we've seen above).\n",
        "\n",
        "\n",
        "* Let's go ahead and explore some more special methods for lists:"
      ]
    },
    {
      "cell_type": "code",
      "execution_count": null,
      "id": "a00a2ce5",
      "metadata": {
        "id": "a00a2ce5"
      },
      "outputs": [],
      "source": [
        "# Create a new list\n",
        "my_list = [1,2,3,1,1,1,3,10,5,8]"
      ]
    },
    {
      "cell_type": "markdown",
      "id": "c54b9882",
      "metadata": {
        "id": "c54b9882"
      },
      "source": [
        "### <code>append()</code> \n",
        "\n",
        "* Use the <code>append()</code> method to permanently add an item to the end of a list.\n",
        "\n",
        "\n",
        "* <code>append()</code> method takes the element which you want to add to the list as an argument"
      ]
    },
    {
      "cell_type": "code",
      "execution_count": null,
      "id": "31656357",
      "metadata": {
        "id": "31656357",
        "outputId": "eb796be2-4053-4175-959d-616d2906efb1"
      },
      "outputs": [
        {
          "data": {
            "text/plain": [
              "[1, 2, 3, 1, 1, 1, 3, 10, 5, 8]"
            ]
          },
          "execution_count": 36,
          "metadata": {},
          "output_type": "execute_result"
        }
      ],
      "source": [
        "# Print the list\n",
        "my_list"
      ]
    },
    {
      "cell_type": "code",
      "execution_count": null,
      "id": "7936508b",
      "metadata": {
        "id": "7936508b",
        "outputId": "bc74a055-4b24-40db-e6c1-5f05eb22b63e"
      },
      "outputs": [
        {
          "data": {
            "text/plain": [
              "10"
            ]
          },
          "execution_count": 37,
          "metadata": {},
          "output_type": "execute_result"
        }
      ],
      "source": [
        "len(my_list)"
      ]
    },
    {
      "cell_type": "code",
      "execution_count": null,
      "id": "569ad0f9",
      "metadata": {
        "id": "569ad0f9"
      },
      "outputs": [],
      "source": [
        "# Append to the end of the list\n",
        "my_list.append('Append me!')"
      ]
    },
    {
      "cell_type": "code",
      "execution_count": null,
      "id": "3665445f",
      "metadata": {
        "id": "3665445f",
        "outputId": "871c6b2e-f04c-4eba-b31b-623589881e4d"
      },
      "outputs": [
        {
          "name": "stdout",
          "output_type": "stream",
          "text": [
            "[1, 2, 3, 1, 1, 1, 3, 10, 5, 8, 'Append me!']\n"
          ]
        }
      ],
      "source": [
        "print(my_list)"
      ]
    },
    {
      "cell_type": "code",
      "execution_count": null,
      "id": "febf3aed",
      "metadata": {
        "id": "febf3aed",
        "outputId": "ebdfaf7f-5862-45cc-d086-f2b27685f492"
      },
      "outputs": [
        {
          "data": {
            "text/plain": [
              "11"
            ]
          },
          "execution_count": 40,
          "metadata": {},
          "output_type": "execute_result"
        }
      ],
      "source": [
        "len(my_list)"
      ]
    },
    {
      "cell_type": "markdown",
      "id": "f359e5ae",
      "metadata": {
        "id": "f359e5ae"
      },
      "source": [
        "* Woah! Calling the <code>append()</code> method changed my list? Yes, the <code>append()</code>  method changes your original list!"
      ]
    },
    {
      "cell_type": "code",
      "execution_count": null,
      "id": "d481f733",
      "metadata": {
        "id": "d481f733"
      },
      "outputs": [],
      "source": [
        "# Show\n",
        "my_list.append(2.73)"
      ]
    },
    {
      "cell_type": "code",
      "execution_count": null,
      "id": "bb1eba95",
      "metadata": {
        "id": "bb1eba95",
        "outputId": "421dc325-21a5-4086-8bec-63425d055986"
      },
      "outputs": [
        {
          "name": "stdout",
          "output_type": "stream",
          "text": [
            "[1, 2, 3, 1, 1, 1, 3, 10, 5, 8, 'Append me!', 2.73]\n"
          ]
        }
      ],
      "source": [
        "print(my_list)"
      ]
    },
    {
      "cell_type": "markdown",
      "id": "c292af35",
      "metadata": {
        "id": "c292af35"
      },
      "source": [
        "### <code>extend()</code>\n",
        "\n",
        "* Use the <code> extend()</code> method to merge a list to an existing list\n",
        "\n",
        "\n",
        "* <code> extend()</code> method takes a list or any iterable(don't worry about it now) as an argument.\n",
        "\n",
        "\n",
        "* Quite helpful when you have two or more lists and you want to merge them together"
      ]
    },
    {
      "cell_type": "code",
      "execution_count": null,
      "id": "ae67abdd",
      "metadata": {
        "id": "ae67abdd",
        "outputId": "2dfab84f-64ad-4cd6-c5ac-e63b239a0ac1"
      },
      "outputs": [
        {
          "name": "stdout",
          "output_type": "stream",
          "text": [
            "[1, 2, 3, 1, 1, 1, 3, 10, 5, 8, 'Append me!', 2.73]\n"
          ]
        }
      ],
      "source": [
        "print(my_list)"
      ]
    },
    {
      "cell_type": "code",
      "execution_count": null,
      "id": "903237cd",
      "metadata": {
        "id": "903237cd"
      },
      "outputs": [],
      "source": [
        "my_list.extend(['Wubba','Lubba','Dub Dub'])"
      ]
    },
    {
      "cell_type": "code",
      "execution_count": null,
      "id": "0a08e14e",
      "metadata": {
        "id": "0a08e14e",
        "outputId": "29b904c2-0e41-47f3-addc-f24b8176463e"
      },
      "outputs": [
        {
          "name": "stdout",
          "output_type": "stream",
          "text": [
            "[1, 2, 3, 1, 1, 1, 3, 10, 5, 8, 'Append me!', 2.73, 'Wubba', 'Lubba', 'Dub Dub']\n"
          ]
        }
      ],
      "source": [
        "print(my_list)"
      ]
    },
    {
      "cell_type": "code",
      "execution_count": null,
      "id": "5dd1fbf5",
      "metadata": {
        "id": "5dd1fbf5",
        "outputId": "d2921fb2-11f4-4880-bc52-97dc34e54562"
      },
      "outputs": [
        {
          "data": {
            "text/plain": [
              "15"
            ]
          },
          "execution_count": 46,
          "metadata": {},
          "output_type": "execute_result"
        }
      ],
      "source": [
        "len(my_list)"
      ]
    },
    {
      "cell_type": "markdown",
      "id": "b326b44c",
      "metadata": {
        "id": "b326b44c"
      },
      "source": [
        "### <code>pop()</code>\n",
        "\n",
        "* Use <code>pop()</code> to \"pop off\" an item from the list. \n",
        "\n",
        "\n",
        "* By default <code>pop()</code> takes off the element at the last index, but you can also specify which index to pop off. \n",
        "\n",
        "\n",
        "* <code>pop()</code> takes the index as an argument and returns the elenent which was popped off."
      ]
    },
    {
      "cell_type": "code",
      "execution_count": null,
      "id": "5b34d491",
      "metadata": {
        "id": "5b34d491",
        "outputId": "1cefc412-1984-44ea-d05c-f99deba84f0c"
      },
      "outputs": [
        {
          "name": "stdout",
          "output_type": "stream",
          "text": [
            "[1, 2, 3, 1, 1, 1, 3, 10, 5, 8, 'Append me!', 2.73, 'Wubba', 'Lubba', 'Dub Dub']\n"
          ]
        }
      ],
      "source": [
        "# Print the list\n",
        "print(my_list)"
      ]
    },
    {
      "cell_type": "code",
      "execution_count": null,
      "id": "bafeae81",
      "metadata": {
        "id": "bafeae81",
        "outputId": "413940fd-f385-4932-d2a7-60b34201f7e1"
      },
      "outputs": [
        {
          "data": {
            "text/plain": [
              "'Dub Dub'"
            ]
          },
          "execution_count": 48,
          "metadata": {},
          "output_type": "execute_result"
        }
      ],
      "source": [
        "# Pop off the 0 indexed item\n",
        "my_list.pop()"
      ]
    },
    {
      "cell_type": "markdown",
      "id": "7536f342",
      "metadata": {
        "id": "7536f342"
      },
      "source": [
        "\\* <code>pop()</code> method changes the list by popping off the element at the specified index"
      ]
    },
    {
      "cell_type": "code",
      "execution_count": null,
      "id": "4bfbcf92",
      "metadata": {
        "id": "4bfbcf92",
        "outputId": "77da2c32-2818-4d51-c35d-042bebf73aca"
      },
      "outputs": [
        {
          "name": "stdout",
          "output_type": "stream",
          "text": [
            "[1, 2, 3, 1, 1, 1, 3, 10, 5, 8, 'Append me!', 2.73, 'Wubba', 'Lubba']\n"
          ]
        }
      ],
      "source": [
        "print(my_list)"
      ]
    },
    {
      "cell_type": "code",
      "execution_count": null,
      "id": "312d93d3",
      "metadata": {
        "id": "312d93d3",
        "outputId": "479dbd33-8547-4a31-a566-6ff0a76a9a8b"
      },
      "outputs": [
        {
          "data": {
            "text/plain": [
              "'Lubba'"
            ]
          },
          "execution_count": 50,
          "metadata": {},
          "output_type": "execute_result"
        }
      ],
      "source": [
        "# Assign the popped element, remember default popped index is -1\n",
        "my_list.pop(-1)"
      ]
    },
    {
      "cell_type": "code",
      "execution_count": null,
      "id": "910ef1b9",
      "metadata": {
        "id": "910ef1b9",
        "outputId": "fb38fe8d-01b4-47f5-d41c-1cfbfe952bd3"
      },
      "outputs": [
        {
          "data": {
            "text/plain": [
              "13"
            ]
          },
          "execution_count": 51,
          "metadata": {},
          "output_type": "execute_result"
        }
      ],
      "source": [
        "len(my_list)"
      ]
    },
    {
      "cell_type": "markdown",
      "id": "32e71ca0",
      "metadata": {
        "id": "32e71ca0"
      },
      "source": [
        "### <code>remove()</code>\n",
        "\n",
        "* Use <code>remove()</code> to remove an item/element from the list. \n",
        "\n",
        "\n",
        "* By default <code>remove()</code> removes the specified element from the list.\n",
        "\n",
        "\n",
        "* <code>remove()</code> takes the element as an argument."
      ]
    },
    {
      "cell_type": "code",
      "execution_count": null,
      "id": "da990a6f",
      "metadata": {
        "id": "da990a6f",
        "outputId": "09cc6b94-fde9-4674-b38e-e36d45b112ba"
      },
      "outputs": [
        {
          "name": "stdout",
          "output_type": "stream",
          "text": [
            "[1, 2, 3, 1, 1, 1, 3, 5, 8, 'Append me!', 2.73, 'Wubba']\n"
          ]
        }
      ],
      "source": [
        "# Print the list\n",
        "print(my_list)"
      ]
    },
    {
      "cell_type": "code",
      "execution_count": null,
      "id": "e91481a7",
      "metadata": {
        "scrolled": true,
        "id": "e91481a7",
        "outputId": "60754994-e29a-4a64-c909-209e1efc157a"
      },
      "outputs": [
        {
          "ename": "TypeError",
          "evalue": "list.remove() takes exactly one argument (3 given)",
          "output_type": "error",
          "traceback": [
            "\u001b[1;31m---------------------------------------------------------------------------\u001b[0m",
            "\u001b[1;31mTypeError\u001b[0m                                 Traceback (most recent call last)",
            "\u001b[1;32m~\\AppData\\Local\\Temp\\ipykernel_9472\\1320370633.py\u001b[0m in \u001b[0;36m<module>\u001b[1;34m\u001b[0m\n\u001b[0;32m      1\u001b[0m \u001b[1;31m# Remove the element which you want to\u001b[0m\u001b[1;33m\u001b[0m\u001b[1;33m\u001b[0m\u001b[0m\n\u001b[1;32m----> 2\u001b[1;33m \u001b[0mmy_list\u001b[0m\u001b[1;33m.\u001b[0m\u001b[0mremove\u001b[0m\u001b[1;33m(\u001b[0m\u001b[1;36m10\u001b[0m\u001b[1;33m,\u001b[0m\u001b[1;36m5\u001b[0m\u001b[1;33m,\u001b[0m\u001b[1;36m8\u001b[0m\u001b[1;33m)\u001b[0m\u001b[1;33m\u001b[0m\u001b[1;33m\u001b[0m\u001b[0m\n\u001b[0m",
            "\u001b[1;31mTypeError\u001b[0m: list.remove() takes exactly one argument (3 given)"
          ]
        }
      ],
      "source": [
        "# Remove the element which you want to \n",
        "my_list.remove(10,5,8)"
      ]
    },
    {
      "cell_type": "code",
      "execution_count": null,
      "id": "303c12b2",
      "metadata": {
        "id": "303c12b2"
      },
      "outputs": [],
      "source": [
        "# Remove the element which you want to \n",
        "my_list.remove(8)"
      ]
    },
    {
      "cell_type": "code",
      "execution_count": null,
      "id": "f04cd2b3",
      "metadata": {
        "id": "f04cd2b3",
        "outputId": "6407e49b-1819-403b-c189-695ec170af2c"
      },
      "outputs": [
        {
          "name": "stdout",
          "output_type": "stream",
          "text": [
            "[1, 2, 3, 1, 1, 1, 3, 5, 'Append me!', 2.73, 'Wubba']\n"
          ]
        }
      ],
      "source": [
        "# Show\n",
        "print(my_list)"
      ]
    },
    {
      "cell_type": "markdown",
      "id": "eaea1ea5",
      "metadata": {
        "id": "eaea1ea5"
      },
      "source": [
        "### <code>count()</code>\n",
        "\n",
        "\n",
        "* The <code>count()</code> method returns the total occurrence of a specified element in the list"
      ]
    },
    {
      "cell_type": "code",
      "execution_count": null,
      "id": "3e7362eb",
      "metadata": {
        "id": "3e7362eb",
        "outputId": "6a1b1a05-dbbc-47cf-9ff3-e24902e8fba8"
      },
      "outputs": [
        {
          "name": "stdout",
          "output_type": "stream",
          "text": [
            "[1, 2, 3, 1, 1, 1, 3, 5, 'Append me!', 2.73, 'Wubba']\n"
          ]
        }
      ],
      "source": [
        "print(my_list)"
      ]
    },
    {
      "cell_type": "code",
      "execution_count": null,
      "id": "a8c51769",
      "metadata": {
        "id": "a8c51769",
        "outputId": "9e2a194a-1650-4c4d-fc94-ccaed13b3a65"
      },
      "outputs": [
        {
          "data": {
            "text/plain": [
              "1"
            ]
          },
          "execution_count": 64,
          "metadata": {},
          "output_type": "execute_result"
        }
      ],
      "source": [
        "# Count the number of times element 1 occurs in my_list\n",
        "my_list.count('Wubba')"
      ]
    },
    {
      "cell_type": "code",
      "execution_count": null,
      "id": "8ff908bf",
      "metadata": {
        "id": "8ff908bf",
        "outputId": "3a49190e-8778-4307-ae83-7158ff98fc51"
      },
      "outputs": [
        {
          "data": {
            "text/plain": [
              "4"
            ]
          },
          "execution_count": 65,
          "metadata": {},
          "output_type": "execute_result"
        }
      ],
      "source": [
        "my_list.count(1)"
      ]
    },
    {
      "cell_type": "markdown",
      "id": "d9a80b2f",
      "metadata": {
        "id": "d9a80b2f"
      },
      "source": [
        "### <code>index()</code>\n",
        "\n",
        "\n",
        "* The <code>index()</code> method returns the index of a specified element."
      ]
    },
    {
      "cell_type": "code",
      "execution_count": null,
      "id": "6014d8d1",
      "metadata": {
        "id": "6014d8d1",
        "outputId": "ab660941-5e44-4ec2-a618-d7fcada7a790"
      },
      "outputs": [
        {
          "name": "stdout",
          "output_type": "stream",
          "text": [
            "[1, 2, 3, 1, 1, 1, 3, 5, 'Append me!', 2.73, 'Wubba']\n"
          ]
        }
      ],
      "source": [
        "print(my_list)"
      ]
    },
    {
      "cell_type": "code",
      "execution_count": null,
      "id": "7ac0dba4",
      "metadata": {
        "id": "7ac0dba4",
        "outputId": "4eee81f9-7293-46de-a508-8fc18b1a9880"
      },
      "outputs": [
        {
          "data": {
            "text/plain": [
              "10"
            ]
          },
          "execution_count": 67,
          "metadata": {},
          "output_type": "execute_result"
        }
      ],
      "source": [
        "my_list.index('Wubba')"
      ]
    },
    {
      "cell_type": "code",
      "execution_count": null,
      "id": "712cfc14",
      "metadata": {
        "id": "712cfc14",
        "outputId": "33b9d50f-35ca-4b25-a021-5c19837c1a9c"
      },
      "outputs": [
        {
          "data": {
            "text/plain": [
              "2"
            ]
          },
          "execution_count": 68,
          "metadata": {},
          "output_type": "execute_result"
        }
      ],
      "source": [
        "my_list.index(3)"
      ]
    },
    {
      "cell_type": "markdown",
      "id": "e0905c1d",
      "metadata": {
        "id": "e0905c1d"
      },
      "source": [
        "### <code>sort()</code>\n",
        "\n",
        "* Use <code>sort()</code> to sort the list in either ascending/descending order\n",
        "\n",
        "\n",
        "* The sorting is done in ascending order by default\n",
        "\n",
        "\n",
        "* <code>sort()</code> method takes the reverse boolean as an argument\n",
        "\n",
        "\n",
        "* <code>sort()</code> method only works on a list with elements of same data type"
      ]
    },
    {
      "cell_type": "code",
      "execution_count": null,
      "id": "59dbbeab",
      "metadata": {
        "id": "59dbbeab"
      },
      "outputs": [],
      "source": [
        "new_list = [6, 9, 1, 3, 5]"
      ]
    },
    {
      "cell_type": "code",
      "execution_count": null,
      "id": "faa0f022",
      "metadata": {
        "id": "faa0f022"
      },
      "outputs": [],
      "source": [
        "# Use sort to sort the list (this is permanent!)\n",
        "new_list.sort()"
      ]
    },
    {
      "cell_type": "code",
      "execution_count": null,
      "id": "a55711ef",
      "metadata": {
        "id": "a55711ef",
        "outputId": "85107600-55ba-40e2-e0c4-d6382c6fd307"
      },
      "outputs": [
        {
          "name": "stdout",
          "output_type": "stream",
          "text": [
            "[1, 3, 5, 6, 9]\n"
          ]
        }
      ],
      "source": [
        "print(new_list)"
      ]
    },
    {
      "cell_type": "code",
      "execution_count": null,
      "id": "89bd30d8",
      "metadata": {
        "id": "89bd30d8",
        "outputId": "663c6477-d97f-4777-92d6-911ea7da2032"
      },
      "outputs": [
        {
          "name": "stdout",
          "output_type": "stream",
          "text": [
            "[9, 6, 5, 3, 1]\n"
          ]
        }
      ],
      "source": [
        "# Use the reverse boolean to set the ascending or descending order\n",
        "new_list.sort(reverse=True)\n",
        "print(new_list)"
      ]
    },
    {
      "cell_type": "markdown",
      "id": "c99f3ea1",
      "metadata": {
        "id": "c99f3ea1"
      },
      "source": [
        "### <code>reverse()</code>\n",
        "\n",
        "* <code>reverse()</code> method reverses the list"
      ]
    },
    {
      "cell_type": "code",
      "execution_count": null,
      "id": "d94bc803",
      "metadata": {
        "id": "d94bc803"
      },
      "outputs": [],
      "source": [
        "my_list = [1, 1, 1, 1, 1.43, 2, 3, 3, 5, 8, 10, 'Lubba', 'Dub Dub']"
      ]
    },
    {
      "cell_type": "code",
      "execution_count": null,
      "id": "980072fd",
      "metadata": {
        "id": "980072fd",
        "outputId": "2289bcaf-af72-47f7-f692-4dcae9d113a5"
      },
      "outputs": [
        {
          "name": "stdout",
          "output_type": "stream",
          "text": [
            "[1, 1, 1, 1, 1.43, 2, 3, 3, 5, 8, 10, 'Lubba', 'Dub Dub']\n"
          ]
        }
      ],
      "source": [
        "print(my_list)"
      ]
    },
    {
      "cell_type": "code",
      "execution_count": null,
      "id": "e72f4bcd",
      "metadata": {
        "id": "e72f4bcd"
      },
      "outputs": [],
      "source": [
        "my_list.reverse()"
      ]
    },
    {
      "cell_type": "code",
      "execution_count": null,
      "id": "fc9c4d6b",
      "metadata": {
        "id": "fc9c4d6b",
        "outputId": "3f733731-3729-430b-e2e5-a6eb834e19a7"
      },
      "outputs": [
        {
          "name": "stdout",
          "output_type": "stream",
          "text": [
            "['Dub Dub', 'Lubba', 10, 8, 5, 3, 3, 2, 1.43, 1, 1, 1, 1]\n"
          ]
        }
      ],
      "source": [
        "print(my_list)"
      ]
    },
    {
      "cell_type": "markdown",
      "id": "99a523e9",
      "metadata": {
        "id": "99a523e9"
      },
      "source": [
        "## Nested Lists\n",
        "\n",
        "* A great feature of of Python data structures is that they support *nesting*. This means we can have data structures within data structures. For example: A list inside a list."
      ]
    },
    {
      "cell_type": "code",
      "execution_count": null,
      "id": "e239d04f",
      "metadata": {
        "id": "e239d04f"
      },
      "outputs": [],
      "source": [
        "# Let's make three lists\n",
        "lst_1=[1,2,3]\n",
        "lst_2=['b','a','d']\n",
        "lst_3=[7,8,9]\n",
        "\n",
        "# Make a list of lists to form a matrix\n",
        "list_of_lists = [lst_1,lst_2,lst_3]"
      ]
    },
    {
      "cell_type": "code",
      "execution_count": null,
      "id": "ef679920",
      "metadata": {
        "id": "ef679920",
        "outputId": "6b9cef77-045a-482c-e7c6-3f322831cb6c"
      },
      "outputs": [
        {
          "name": "stdout",
          "output_type": "stream",
          "text": [
            "[[1, 2, 3], ['b', 'a', 'd'], [7, 8, 9]]\n"
          ]
        }
      ],
      "source": [
        "print(list_of_lists)"
      ]
    },
    {
      "cell_type": "code",
      "execution_count": null,
      "id": "46de995b",
      "metadata": {
        "id": "46de995b",
        "outputId": "f6c3be18-7802-446c-e4ae-ff047adfaa64"
      },
      "outputs": [
        {
          "data": {
            "text/plain": [
              "list"
            ]
          },
          "execution_count": 80,
          "metadata": {},
          "output_type": "execute_result"
        }
      ],
      "source": [
        "# Show\n",
        "type(list_of_lists)"
      ]
    },
    {
      "cell_type": "code",
      "execution_count": null,
      "id": "7033ad5f",
      "metadata": {
        "id": "7033ad5f",
        "outputId": "ebc5256b-fe09-47d7-d0bf-c13179c6bc32"
      },
      "outputs": [
        {
          "data": {
            "text/plain": [
              "['b', 'a', 'd']"
            ]
          },
          "execution_count": 81,
          "metadata": {},
          "output_type": "execute_result"
        }
      ],
      "source": [
        "# Grab first item in matrix object\n",
        "list_of_lists[1]"
      ]
    },
    {
      "cell_type": "code",
      "execution_count": null,
      "id": "5570d02c",
      "metadata": {
        "id": "5570d02c",
        "outputId": "fe03c653-33a8-47c1-8933-1c1ecd3bdf79"
      },
      "outputs": [
        {
          "data": {
            "text/plain": [
              "['b', 'a', 'd']"
            ]
          },
          "execution_count": 84,
          "metadata": {},
          "output_type": "execute_result"
        }
      ],
      "source": [
        "list_of_lists[1]"
      ]
    },
    {
      "cell_type": "markdown",
      "id": "76dcee36",
      "metadata": {
        "id": "76dcee36"
      },
      "source": [
        "#  3 Tuples, Sets & Dictionaries"
      ]
    },
    {
      "cell_type": "markdown",
      "id": "ae4f826b",
      "metadata": {
        "id": "ae4f826b"
      },
      "source": [
        "# Tuples\n",
        "\n",
        "* In Python tuples are very similar to lists, however, unlike lists they are *immutable* meaning they can not be changed. \n",
        "\n",
        "\n",
        "* You would use tuples to present things that shouldn't be changed, such as days of the week, or dates on a calendar. \n",
        "\n",
        "\n",
        "* You'll have an intuition of how to use tuples based on what you've learned about lists. We can treat them very similarly with the <u>major distinction being that tuples are immutable</u>.\n",
        "\n",
        "\n",
        "## Constructing Tuples\n",
        "\n",
        "* The construction of a tuples use <code>()</code> with elements separated by commas."
      ]
    },
    {
      "cell_type": "code",
      "execution_count": null,
      "id": "169f6882",
      "metadata": {
        "id": "169f6882"
      },
      "outputs": [],
      "source": [
        "# Create a tuple\n",
        "my_tuple = (1,'a',3)"
      ]
    },
    {
      "cell_type": "code",
      "execution_count": null,
      "id": "ae7cf1f4",
      "metadata": {
        "id": "ae7cf1f4",
        "outputId": "3035144b-9d66-4fbe-add4-2c60cdacaa89"
      },
      "outputs": [
        {
          "name": "stdout",
          "output_type": "stream",
          "text": [
            "(1, 'a', 3)\n"
          ]
        }
      ],
      "source": [
        "print(my_tuple)"
      ]
    },
    {
      "cell_type": "code",
      "execution_count": null,
      "id": "c373e719",
      "metadata": {
        "id": "c373e719",
        "outputId": "84a50430-95b4-45be-bb64-66135bd40a76"
      },
      "outputs": [
        {
          "data": {
            "text/plain": [
              "('one', 2, 4.53, 'asbc')"
            ]
          },
          "execution_count": 3,
          "metadata": {},
          "output_type": "execute_result"
        }
      ],
      "source": [
        "# Can also mix object types \n",
        "another_tuple = ('one',2, 4.53, 'asbc')\n",
        "\n",
        "# Show\n",
        "another_tuple"
      ]
    },
    {
      "cell_type": "code",
      "execution_count": null,
      "id": "0fd71639",
      "metadata": {
        "id": "0fd71639"
      },
      "outputs": [],
      "source": [
        "my_list = [1]"
      ]
    },
    {
      "cell_type": "code",
      "execution_count": null,
      "id": "438aec27",
      "metadata": {
        "id": "438aec27",
        "outputId": "dc6d0de2-0e37-47e8-e0ae-9be41785f464"
      },
      "outputs": [
        {
          "data": {
            "text/plain": [
              "list"
            ]
          },
          "execution_count": 5,
          "metadata": {},
          "output_type": "execute_result"
        }
      ],
      "source": [
        "type(my_list)"
      ]
    },
    {
      "cell_type": "code",
      "execution_count": null,
      "id": "8b3d1800",
      "metadata": {
        "id": "8b3d1800"
      },
      "outputs": [],
      "source": [
        "my_tuple = (1,)"
      ]
    },
    {
      "cell_type": "code",
      "execution_count": null,
      "id": "94663bb0",
      "metadata": {
        "id": "94663bb0",
        "outputId": "9826b70a-0603-4d35-88c2-a09b17c3faf8"
      },
      "outputs": [
        {
          "data": {
            "text/plain": [
              "tuple"
            ]
          },
          "execution_count": 10,
          "metadata": {},
          "output_type": "execute_result"
        }
      ],
      "source": [
        "type(my_tuple)"
      ]
    },
    {
      "cell_type": "markdown",
      "id": "6385a7e1",
      "metadata": {
        "id": "6385a7e1"
      },
      "source": [
        "## Tuple Indexing\n",
        "\n",
        "* Indexing work just like in lists.\n",
        "\n",
        "\n",
        "* A tuple index refers to the location of an element in a tuple.\n",
        "\n",
        "\n",
        "* Remember the indexing begins from 0 in Python. \n",
        "\n",
        "\n",
        "* The first element is assigned an index 0, the second element is assigned an index of 1 and so on and so forth."
      ]
    },
    {
      "cell_type": "code",
      "execution_count": null,
      "id": "da90d98a",
      "metadata": {
        "id": "da90d98a",
        "outputId": "9d224d72-db88-42d5-861b-28494bb3a2a7"
      },
      "outputs": [
        {
          "name": "stdout",
          "output_type": "stream",
          "text": [
            "('one', 2, 4.53, 'asbc')\n"
          ]
        }
      ],
      "source": [
        "print(another_tuple)"
      ]
    },
    {
      "cell_type": "code",
      "execution_count": null,
      "id": "bdcee80f",
      "metadata": {
        "id": "bdcee80f",
        "outputId": "79ed67ed-caa8-413a-dbbd-4dac88eddc08"
      },
      "outputs": [
        {
          "data": {
            "text/plain": [
              "'one'"
            ]
          },
          "execution_count": 12,
          "metadata": {},
          "output_type": "execute_result"
        }
      ],
      "source": [
        "# Grab the element at index 0, which is the FIRST element\n",
        "another_tuple[0] "
      ]
    },
    {
      "cell_type": "code",
      "execution_count": null,
      "id": "6f61b356",
      "metadata": {
        "id": "6f61b356",
        "outputId": "e80c6816-8f26-40cd-e133-9fc99f05373e"
      },
      "outputs": [
        {
          "data": {
            "text/plain": [
              "'asbc'"
            ]
          },
          "execution_count": 13,
          "metadata": {},
          "output_type": "execute_result"
        }
      ],
      "source": [
        "# Grab the element at index 3, which is the FOURTH element\n",
        "another_tuple[3]  "
      ]
    },
    {
      "cell_type": "code",
      "execution_count": null,
      "id": "84bca9c6",
      "metadata": {
        "id": "84bca9c6",
        "outputId": "11909141-cbbe-44f0-8684-cd462459089c"
      },
      "outputs": [
        {
          "data": {
            "text/plain": [
              "2"
            ]
          },
          "execution_count": 14,
          "metadata": {},
          "output_type": "execute_result"
        }
      ],
      "source": [
        "# Grab the element at the index -3, which is the THIRD LAST element\n",
        "another_tuple[-3]"
      ]
    },
    {
      "cell_type": "markdown",
      "id": "e8cb91b2",
      "metadata": {
        "id": "e8cb91b2"
      },
      "source": [
        "## Tuple Slicing\n",
        "\n",
        "* We can use a <code>:</code> to perform *slicing* which grabs everything up to a designated point. \n",
        "\n",
        "\n",
        "* The starting index is specified on the left of the <code>:</code> and the ending index is specified on the right of the <code>:</code>. \n",
        "\n",
        "\n",
        "* Remember the element located at the right index is not included."
      ]
    },
    {
      "cell_type": "markdown",
      "id": "d17ab549",
      "metadata": {
        "id": "d17ab549"
      },
      "source": [
        "## Tuple Methods\n",
        "\n",
        "* Tuples have built-in methods, but not as many as lists do."
      ]
    },
    {
      "cell_type": "markdown",
      "id": "efc30779",
      "metadata": {
        "id": "efc30779"
      },
      "source": [
        "### <code>index()</code>\n",
        "\n",
        "\n",
        "* The <code>index()</code> method returns the index of a specified element."
      ]
    },
    {
      "cell_type": "code",
      "execution_count": null,
      "id": "fe43744c",
      "metadata": {
        "id": "fe43744c"
      },
      "outputs": [],
      "source": [
        "my_tuple =(1,2,3,4,5,6,1,1,2)"
      ]
    },
    {
      "cell_type": "code",
      "execution_count": null,
      "id": "7c8f4a65",
      "metadata": {
        "id": "7c8f4a65",
        "outputId": "a92c6027-64f8-4337-8fdb-b95a5a3e1bf7"
      },
      "outputs": [
        {
          "data": {
            "text/plain": [
              "1"
            ]
          },
          "execution_count": 17,
          "metadata": {},
          "output_type": "execute_result"
        }
      ],
      "source": [
        "# Use .index to enter a value and return the index\n",
        "my_tuple.index(2)"
      ]
    },
    {
      "cell_type": "markdown",
      "id": "a27e74dc",
      "metadata": {
        "id": "a27e74dc"
      },
      "source": [
        "### <code>count()</code>\n",
        "\n",
        "\n",
        "* The <code>count()</code> method returns the total occurrence of a specified element in a tuple"
      ]
    },
    {
      "cell_type": "code",
      "execution_count": null,
      "id": "9f03afbe",
      "metadata": {
        "id": "9f03afbe",
        "outputId": "6a1f67f2-bc99-41d5-ab46-336b618e25f1"
      },
      "outputs": [
        {
          "data": {
            "text/plain": [
              "2"
            ]
          },
          "execution_count": 19,
          "metadata": {},
          "output_type": "execute_result"
        }
      ],
      "source": [
        "# Use .count to count the number of times a value appears\n",
        "my_tuple.count(2)"
      ]
    },
    {
      "cell_type": "code",
      "execution_count": null,
      "id": "20dfd270",
      "metadata": {
        "id": "20dfd270"
      },
      "outputs": [],
      "source": [
        "my_list = [1,2,3,4]"
      ]
    },
    {
      "cell_type": "code",
      "execution_count": null,
      "id": "6173a141",
      "metadata": {
        "id": "6173a141",
        "outputId": "92c83761-df86-447d-9b58-270e44ee3607"
      },
      "outputs": [
        {
          "ename": "SyntaxError",
          "evalue": "invalid syntax (156127718.py, line 1)",
          "output_type": "error",
          "traceback": [
            "\u001b[1;36m  File \u001b[1;32m\"C:\\Users\\admin\\AppData\\Local\\Temp\\ipykernel_14880\\156127718.py\"\u001b[1;36m, line \u001b[1;32m1\u001b[0m\n\u001b[1;33m    my_list.\u001b[0m\n\u001b[1;37m            ^\u001b[0m\n\u001b[1;31mSyntaxError\u001b[0m\u001b[1;31m:\u001b[0m invalid syntax\n"
          ]
        }
      ],
      "source": [
        "my_list."
      ]
    },
    {
      "cell_type": "markdown",
      "id": "2e8ef407",
      "metadata": {
        "id": "2e8ef407"
      },
      "source": [
        "## Immutability\n",
        "\n",
        "* It can't be stressed enough that tuples are immutable."
      ]
    },
    {
      "cell_type": "code",
      "execution_count": null,
      "id": "89b95663",
      "metadata": {
        "id": "89b95663",
        "outputId": "86161758-836f-4302-e1c7-505a7cf6f886"
      },
      "outputs": [
        {
          "name": "stdout",
          "output_type": "stream",
          "text": [
            "(1, 2, 3, 4, 5, 6, 1, 1, 2)\n"
          ]
        }
      ],
      "source": [
        "print(my_tuple)"
      ]
    },
    {
      "cell_type": "code",
      "execution_count": null,
      "id": "392f8018",
      "metadata": {
        "id": "392f8018",
        "outputId": "b429d231-677c-4526-eb63-4edffcc2736f"
      },
      "outputs": [
        {
          "ename": "TypeError",
          "evalue": "'tuple' object does not support item assignment",
          "output_type": "error",
          "traceback": [
            "\u001b[1;31m---------------------------------------------------------------------------\u001b[0m",
            "\u001b[1;31mTypeError\u001b[0m                                 Traceback (most recent call last)",
            "\u001b[1;32m~\\AppData\\Local\\Temp\\ipykernel_14880\\2206961586.py\u001b[0m in \u001b[0;36m<module>\u001b[1;34m\u001b[0m\n\u001b[1;32m----> 1\u001b[1;33m \u001b[0mmy_tuple\u001b[0m\u001b[1;33m[\u001b[0m\u001b[1;36m0\u001b[0m\u001b[1;33m]\u001b[0m \u001b[1;33m=\u001b[0m \u001b[1;34m'change'\u001b[0m\u001b[1;33m\u001b[0m\u001b[1;33m\u001b[0m\u001b[0m\n\u001b[0m",
            "\u001b[1;31mTypeError\u001b[0m: 'tuple' object does not support item assignment"
          ]
        }
      ],
      "source": [
        "my_tuple[0] = 'change'"
      ]
    },
    {
      "cell_type": "markdown",
      "id": "38c89a7a",
      "metadata": {
        "id": "38c89a7a"
      },
      "source": [
        "* Because of this immutability, tuples can't grow. Once a tuple is made we can not add to it."
      ]
    },
    {
      "cell_type": "markdown",
      "id": "1d1a7731",
      "metadata": {
        "id": "1d1a7731"
      },
      "source": [
        "* Let us consider a list and lets see if we can do this operation on them"
      ]
    },
    {
      "cell_type": "code",
      "execution_count": null,
      "id": "1d63aff9",
      "metadata": {
        "id": "1d63aff9"
      },
      "outputs": [],
      "source": [
        "# Create a list\n",
        "my_list = [5,7,9,3,2]"
      ]
    },
    {
      "cell_type": "code",
      "execution_count": null,
      "id": "c739095c",
      "metadata": {
        "id": "c739095c"
      },
      "outputs": [],
      "source": [
        "# Replace the FIRST element with the value 1\n",
        "my_list[0] = \"Ajit\""
      ]
    },
    {
      "cell_type": "code",
      "execution_count": null,
      "id": "19d5d74a",
      "metadata": {
        "id": "19d5d74a",
        "outputId": "135d605b-cb6d-4c7f-a670-f773f10d6703"
      },
      "outputs": [
        {
          "data": {
            "text/plain": [
              "['Ajit', 7, 9, 3, 2]"
            ]
          },
          "execution_count": 30,
          "metadata": {},
          "output_type": "execute_result"
        }
      ],
      "source": [
        "# Our modified list\n",
        "my_list"
      ]
    },
    {
      "cell_type": "markdown",
      "id": "6020ab52",
      "metadata": {
        "id": "6020ab52"
      },
      "source": [
        "* Tuple does not support methods such as <code>append()</code>, <code>extend()</code>, <code>remove()</code>, <code>pop()</code>"
      ]
    },
    {
      "cell_type": "code",
      "execution_count": null,
      "id": "3f7b6191",
      "metadata": {
        "id": "3f7b6191",
        "outputId": "4f91fa63-fb8a-48fc-ac18-24d7fa6f26f4"
      },
      "outputs": [
        {
          "ename": "AttributeError",
          "evalue": "'tuple' object has no attribute 'append'",
          "output_type": "error",
          "traceback": [
            "\u001b[1;31m---------------------------------------------------------------------------\u001b[0m",
            "\u001b[1;31mAttributeError\u001b[0m                            Traceback (most recent call last)",
            "\u001b[1;32m~\\AppData\\Local\\Temp\\ipykernel_14880\\2143535512.py\u001b[0m in \u001b[0;36m<module>\u001b[1;34m\u001b[0m\n\u001b[1;32m----> 1\u001b[1;33m \u001b[0mmy_tuple\u001b[0m\u001b[1;33m.\u001b[0m\u001b[0mappend\u001b[0m\u001b[1;33m(\u001b[0m\u001b[1;34m'Great!'\u001b[0m\u001b[1;33m)\u001b[0m\u001b[1;33m\u001b[0m\u001b[1;33m\u001b[0m\u001b[0m\n\u001b[0m",
            "\u001b[1;31mAttributeError\u001b[0m: 'tuple' object has no attribute 'append'"
          ]
        }
      ],
      "source": [
        "my_tuple.append('Great!')"
      ]
    },
    {
      "cell_type": "markdown",
      "id": "5e5aca28",
      "metadata": {
        "id": "5e5aca28"
      },
      "source": [
        "### <code>zip()</code>\n",
        "\n",
        "\n",
        "* <code>zip()</code> function takes multiple lists as arguments and zips them together \n",
        "\n",
        "\n",
        "* This function returns a list of n-paired tuples where n is the number of lists being zipped"
      ]
    },
    {
      "cell_type": "code",
      "execution_count": null,
      "id": "e1dc5864",
      "metadata": {
        "id": "e1dc5864"
      },
      "outputs": [],
      "source": [
        "city_list = ['Delhi','Patna','Cuttack','Guwahati']\n",
        "river_list = ['Yamuna','Ganga','Mahanadi','Brahmaputra']"
      ]
    },
    {
      "cell_type": "code",
      "execution_count": null,
      "id": "6f5289fb",
      "metadata": {
        "id": "6f5289fb",
        "outputId": "f8cc5329-733d-448d-c45e-0cce05fbf7d4"
      },
      "outputs": [
        {
          "data": {
            "text/plain": [
              "<zip at 0x1bbd23a2180>"
            ]
          },
          "execution_count": 33,
          "metadata": {},
          "output_type": "execute_result"
        }
      ],
      "source": [
        "zip(city_list, river_list)"
      ]
    },
    {
      "cell_type": "code",
      "execution_count": null,
      "id": "bdc1aeae",
      "metadata": {
        "id": "bdc1aeae"
      },
      "outputs": [],
      "source": [
        "city_and_their_rivers = list(zip(city_list,river_list))"
      ]
    },
    {
      "cell_type": "code",
      "execution_count": null,
      "id": "f3309253",
      "metadata": {
        "id": "f3309253",
        "outputId": "331fe1ad-3299-4ec1-bfe1-dc7c24dc7a6e"
      },
      "outputs": [
        {
          "data": {
            "text/plain": [
              "[('Delhi', 'Yamuna'),\n",
              " ('Patna', 'Ganga'),\n",
              " ('Cuttack', 'Mahanadi'),\n",
              " ('Guwahati', 'Brahmaputra')]"
            ]
          },
          "execution_count": 35,
          "metadata": {},
          "output_type": "execute_result"
        }
      ],
      "source": [
        "city_and_their_rivers"
      ]
    },
    {
      "cell_type": "markdown",
      "id": "e04a5128",
      "metadata": {
        "id": "e04a5128"
      },
      "source": [
        "## When to use Tuples\n",
        "\n",
        "* You may be wondering, \"Why bother using tuples when they have fewer available methods?\" To be honest, tuples are not used as often as lists in programming, but are used when immutability is necessary. If in your program you are passing around an object and need to make sure it does not get changed, then a tuple becomes your solution. It provides a convenient source of data integrity.\n",
        "\n",
        "\n",
        "* You will find them often in functions when you are returning some values\n",
        "\n",
        "\n",
        "* You should now be able to create and use tuples in your programming as well as have an understanding of their immutability."
      ]
    },
    {
      "cell_type": "markdown",
      "id": "dd7e093a",
      "metadata": {
        "id": "dd7e093a"
      },
      "source": [
        "# Sets\n",
        "\n",
        "* Sets are an unordered collection of *unique* elements. We can construct them by using the <code>set()</code> function.\n",
        "\n",
        "\n",
        "* Sets cannot have duplicates.\n",
        "\n",
        "\n",
        "* Sets are mutable just like lists.\n",
        "\n",
        "\n",
        "* You can create a non-empty set with curly braces by specifying elements separated by a comma."
      ]
    },
    {
      "cell_type": "code",
      "execution_count": null,
      "id": "64f2cfaa",
      "metadata": {
        "id": "64f2cfaa"
      },
      "outputs": [],
      "source": [
        "# Create an empty set \n",
        "empty_set = set()"
      ]
    },
    {
      "cell_type": "code",
      "execution_count": null,
      "id": "697400ea",
      "metadata": {
        "id": "697400ea",
        "outputId": "fe3cc7b7-accf-437e-ec8b-775564e4f117"
      },
      "outputs": [
        {
          "data": {
            "text/plain": [
              "set"
            ]
          },
          "execution_count": 38,
          "metadata": {},
          "output_type": "execute_result"
        }
      ],
      "source": [
        "type(empty_set)"
      ]
    },
    {
      "cell_type": "code",
      "execution_count": null,
      "id": "93a687ce",
      "metadata": {
        "id": "93a687ce",
        "outputId": "9a0cc0d2-01a6-4ff0-f443-afcd2689dfbb"
      },
      "outputs": [
        {
          "name": "stdout",
          "output_type": "stream",
          "text": [
            "{1, 4, 6, 'abc'}\n"
          ]
        }
      ],
      "source": [
        "# Create a non-empty set within curly braces\n",
        "non_empty_set = {1,1,6,4,'abc'}\n",
        "print(non_empty_set)"
      ]
    },
    {
      "cell_type": "code",
      "execution_count": null,
      "id": "97b09c51",
      "metadata": {
        "id": "97b09c51",
        "outputId": "00734d99-a714-47b1-fe41-01a0fd0f17b2"
      },
      "outputs": [
        {
          "data": {
            "text/plain": [
              "set"
            ]
          },
          "execution_count": 40,
          "metadata": {},
          "output_type": "execute_result"
        }
      ],
      "source": [
        "type(non_empty_set)"
      ]
    },
    {
      "cell_type": "markdown",
      "id": "3549b335",
      "metadata": {
        "id": "3549b335"
      },
      "source": [
        "## A Time for Caution\n",
        "\n",
        "* An empty set cannot be represented as <code>{}</code>, which is reserved for an <u>empty dictionary</u> which we will get to know in a short while"
      ]
    },
    {
      "cell_type": "code",
      "execution_count": null,
      "id": "920ec5f3",
      "metadata": {
        "id": "920ec5f3"
      },
      "outputs": [],
      "source": [
        "my_object = {}"
      ]
    },
    {
      "cell_type": "code",
      "execution_count": null,
      "id": "a539d0ae",
      "metadata": {
        "id": "a539d0ae",
        "outputId": "cdd690e0-1504-4333-e8cf-c63ea6a9236e"
      },
      "outputs": [
        {
          "data": {
            "text/plain": [
              "dict"
            ]
          },
          "execution_count": 44,
          "metadata": {},
          "output_type": "execute_result"
        }
      ],
      "source": [
        "type(my_object)"
      ]
    },
    {
      "cell_type": "code",
      "execution_count": null,
      "id": "2e5234a1",
      "metadata": {
        "id": "2e5234a1"
      },
      "outputs": [],
      "source": [
        "my_set = set()"
      ]
    },
    {
      "cell_type": "code",
      "execution_count": null,
      "id": "41139979",
      "metadata": {
        "id": "41139979",
        "outputId": "7ae464ce-2a55-4f7a-da64-99944cd16368"
      },
      "outputs": [
        {
          "data": {
            "text/plain": [
              "set"
            ]
          },
          "execution_count": 46,
          "metadata": {},
          "output_type": "execute_result"
        }
      ],
      "source": [
        "type(my_set)"
      ]
    },
    {
      "cell_type": "code",
      "execution_count": null,
      "id": "df952325",
      "metadata": {
        "id": "df952325"
      },
      "outputs": [],
      "source": [
        "# Create a list with repeats\n",
        "my_list = [1,1,2,2,3,4,5,6,1,1]"
      ]
    },
    {
      "cell_type": "code",
      "execution_count": null,
      "id": "b329b644",
      "metadata": {
        "id": "b329b644"
      },
      "outputs": [],
      "source": [
        "# Cast as set to get unique values\n",
        "my_set = set(my_list)"
      ]
    },
    {
      "cell_type": "code",
      "execution_count": null,
      "id": "1819e16a",
      "metadata": {
        "id": "1819e16a",
        "outputId": "c03b692f-91f9-46df-b1e9-d290340e1618"
      },
      "outputs": [
        {
          "data": {
            "text/plain": [
              "{1, 2, 3, 4, 5, 6}"
            ]
          },
          "execution_count": 49,
          "metadata": {},
          "output_type": "execute_result"
        }
      ],
      "source": [
        "my_set"
      ]
    },
    {
      "cell_type": "code",
      "execution_count": null,
      "id": "68cd4965",
      "metadata": {
        "id": "68cd4965"
      },
      "outputs": [],
      "source": [
        "# A set cannot have mutable items\n",
        "my_set = {1, 2, (3, 4)}"
      ]
    },
    {
      "cell_type": "markdown",
      "id": "c504347a",
      "metadata": {
        "id": "c504347a"
      },
      "source": [
        "* We cannot create a set whose any of the elements is a list"
      ]
    },
    {
      "cell_type": "markdown",
      "id": "65e680c4",
      "metadata": {
        "id": "65e680c4"
      },
      "source": [
        "# But we can have tuples as set elements, they are immutable\n",
        "my_set = {1, 2, (2,3)}"
      ]
    },
    {
      "cell_type": "code",
      "execution_count": null,
      "id": "cccc5ed2",
      "metadata": {
        "id": "cccc5ed2",
        "outputId": "f16f5bd2-36d1-4a41-ed10-4c507726a319"
      },
      "outputs": [
        {
          "ename": "TypeError",
          "evalue": "unhashable type: 'set'",
          "output_type": "error",
          "traceback": [
            "\u001b[1;31m---------------------------------------------------------------------------\u001b[0m",
            "\u001b[1;31mTypeError\u001b[0m                                 Traceback (most recent call last)",
            "\u001b[1;32m~\\AppData\\Local\\Temp\\ipykernel_14880\\1646729827.py\u001b[0m in \u001b[0;36m<module>\u001b[1;34m\u001b[0m\n\u001b[1;32m----> 1\u001b[1;33m \u001b[0mmy_set\u001b[0m \u001b[1;33m=\u001b[0m \u001b[1;33m{\u001b[0m\u001b[1;36m1\u001b[0m\u001b[1;33m,\u001b[0m\u001b[1;36m2\u001b[0m\u001b[1;33m,\u001b[0m \u001b[1;33m{\u001b[0m\u001b[1;36m3\u001b[0m\u001b[1;33m,\u001b[0m\u001b[1;36m5\u001b[0m\u001b[1;33m}\u001b[0m\u001b[1;33m}\u001b[0m\u001b[1;33m\u001b[0m\u001b[1;33m\u001b[0m\u001b[0m\n\u001b[0m",
            "\u001b[1;31mTypeError\u001b[0m: unhashable type: 'set'"
          ]
        }
      ],
      "source": [
        "my_set = {1,2, {3,5}}"
      ]
    },
    {
      "cell_type": "code",
      "execution_count": null,
      "id": "551a2a16",
      "metadata": {
        "id": "551a2a16",
        "outputId": "b4dea58e-5fe3-4594-a8e8-7aa47c611bd5"
      },
      "outputs": [
        {
          "data": {
            "text/plain": [
              "{(3, 4), 1, 2}"
            ]
          },
          "execution_count": 53,
          "metadata": {},
          "output_type": "execute_result"
        }
      ],
      "source": [
        "my_set"
      ]
    },
    {
      "cell_type": "markdown",
      "id": "c2ccb2d8",
      "metadata": {
        "id": "c2ccb2d8"
      },
      "source": [
        "### <code>add()</code> \n",
        "\n",
        "\n",
        "*  <code>add()</code> method adds an element to a set\n",
        "\n",
        "\n",
        "* This method takes the element to be added as an argument"
      ]
    },
    {
      "cell_type": "code",
      "execution_count": null,
      "id": "2348411b",
      "metadata": {
        "id": "2348411b"
      },
      "outputs": [],
      "source": [
        "# We add to sets with the add() method\n",
        "my_set = set()\n",
        "my_set.add('a')"
      ]
    },
    {
      "cell_type": "code",
      "execution_count": null,
      "id": "7671fdc4",
      "metadata": {
        "id": "7671fdc4",
        "outputId": "cf0360d4-1ea2-4104-dd64-c72e9240a42e"
      },
      "outputs": [
        {
          "data": {
            "text/plain": [
              "{'a'}"
            ]
          },
          "execution_count": 56,
          "metadata": {},
          "output_type": "execute_result"
        }
      ],
      "source": [
        "#Show\n",
        "my_set"
      ]
    },
    {
      "cell_type": "code",
      "execution_count": null,
      "id": "61eb9ddf",
      "metadata": {
        "id": "61eb9ddf"
      },
      "outputs": [],
      "source": [
        "# Add a different element\n",
        "my_set.add(2)"
      ]
    },
    {
      "cell_type": "code",
      "execution_count": null,
      "id": "a5f407aa",
      "metadata": {
        "id": "a5f407aa",
        "outputId": "a3c727e4-24cc-46af-82c7-01f4df5764f6"
      },
      "outputs": [
        {
          "name": "stdout",
          "output_type": "stream",
          "text": [
            "{2, 'a'}\n"
          ]
        }
      ],
      "source": [
        "#Show\n",
        "print(my_set)"
      ]
    },
    {
      "cell_type": "code",
      "execution_count": null,
      "id": "79249cad",
      "metadata": {
        "id": "79249cad"
      },
      "outputs": [],
      "source": [
        "# Lets add another element 1\n",
        "my_set.add(1)"
      ]
    },
    {
      "cell_type": "code",
      "execution_count": null,
      "id": "0adeacbc",
      "metadata": {
        "id": "0adeacbc",
        "outputId": "df6d1b78-1091-4710-8cd5-626bdf109d21"
      },
      "outputs": [
        {
          "data": {
            "text/plain": [
              "{1, 2, 'a'}"
            ]
          },
          "execution_count": 62,
          "metadata": {},
          "output_type": "execute_result"
        }
      ],
      "source": [
        "#Show\n",
        "my_set"
      ]
    },
    {
      "cell_type": "code",
      "execution_count": null,
      "id": "26562fdd",
      "metadata": {
        "id": "26562fdd"
      },
      "outputs": [],
      "source": [
        "# Try to add the same element 1 again\n",
        "my_set.add(1)"
      ]
    },
    {
      "cell_type": "code",
      "execution_count": null,
      "id": "e11bef16",
      "metadata": {
        "id": "e11bef16",
        "outputId": "d6a93633-7f74-41b2-bfdf-0be69dca2731"
      },
      "outputs": [
        {
          "data": {
            "text/plain": [
              "{1, 2, 'a'}"
            ]
          },
          "execution_count": 67,
          "metadata": {},
          "output_type": "execute_result"
        }
      ],
      "source": [
        "# Try to add the same element 1 again\n",
        "\n",
        "my_set"
      ]
    },
    {
      "cell_type": "markdown",
      "id": "75af0a4d",
      "metadata": {
        "id": "75af0a4d"
      },
      "source": [
        "* Notice how it won't place another 1 there. That's because a set is only \n",
        "concerned with unique elements!"
      ]
    },
    {
      "cell_type": "markdown",
      "id": "9574e81f",
      "metadata": {
        "id": "9574e81f"
      },
      "source": [
        "### <code>update()</code>\n",
        "\n",
        "* <code>update()</code> method helps to add multiple elements to a set"
      ]
    },
    {
      "cell_type": "code",
      "execution_count": null,
      "id": "cd2f71e2",
      "metadata": {
        "id": "cd2f71e2",
        "outputId": "8272fea4-e05e-4744-e08a-a5cfe868c5b7"
      },
      "outputs": [
        {
          "name": "stdout",
          "output_type": "stream",
          "text": [
            "{1, 2, 3, 4, 'a'}\n"
          ]
        }
      ],
      "source": [
        "# add multiple elements\n",
        "my_set.update([2, 3, 4])\n",
        "print(my_set)"
      ]
    },
    {
      "cell_type": "markdown",
      "id": "779d6c8c",
      "metadata": {
        "id": "779d6c8c"
      },
      "source": [
        "### <code>remove()</code>\n",
        "\n",
        "* Use <code>remove()</code> to remove an item/element from the set. \n",
        "\n",
        "\n",
        "* By default <code>remove()</code> removes the specified element from the set.\n",
        "\n",
        "\n",
        "* <code>remove()</code> takes the element as an argument."
      ]
    },
    {
      "cell_type": "code",
      "execution_count": null,
      "id": "7077c461",
      "metadata": {
        "id": "7077c461"
      },
      "outputs": [],
      "source": [
        "non_empty_set = {1,5,6,73,2}"
      ]
    },
    {
      "cell_type": "code",
      "execution_count": null,
      "id": "6071e508",
      "metadata": {
        "id": "6071e508"
      },
      "outputs": [],
      "source": [
        "non_empty_set.remove(5)"
      ]
    },
    {
      "cell_type": "code",
      "execution_count": null,
      "id": "015f2804",
      "metadata": {
        "id": "015f2804",
        "outputId": "60c589dc-9bbd-4bfe-fcdc-fa341c269c72"
      },
      "outputs": [
        {
          "data": {
            "text/plain": [
              "{1, 2, 6, 73}"
            ]
          },
          "execution_count": 74,
          "metadata": {},
          "output_type": "execute_result"
        }
      ],
      "source": [
        "non_empty_set"
      ]
    },
    {
      "cell_type": "code",
      "execution_count": null,
      "id": "472ac782",
      "metadata": {
        "id": "472ac782",
        "outputId": "74ed1ec5-c8ae-4b55-a712-d9409e655123"
      },
      "outputs": [
        {
          "ename": "KeyError",
          "evalue": "45",
          "output_type": "error",
          "traceback": [
            "\u001b[1;31m---------------------------------------------------------------------------\u001b[0m",
            "\u001b[1;31mKeyError\u001b[0m                                  Traceback (most recent call last)",
            "\u001b[1;32m~\\AppData\\Local\\Temp\\ipykernel_14880\\261421333.py\u001b[0m in \u001b[0;36m<module>\u001b[1;34m\u001b[0m\n\u001b[1;32m----> 1\u001b[1;33m \u001b[0mnon_empty_set\u001b[0m\u001b[1;33m.\u001b[0m\u001b[0mremove\u001b[0m\u001b[1;33m(\u001b[0m\u001b[1;36m45\u001b[0m\u001b[1;33m)\u001b[0m\u001b[1;33m\u001b[0m\u001b[1;33m\u001b[0m\u001b[0m\n\u001b[0m",
            "\u001b[1;31mKeyError\u001b[0m: 45"
          ]
        }
      ],
      "source": [
        "non_empty_set.remove(45)"
      ]
    },
    {
      "cell_type": "markdown",
      "id": "9bcbb549",
      "metadata": {
        "id": "9bcbb549"
      },
      "source": [
        "* <code>remove()</code> throws an error when we try to remove an element which is not present in the set"
      ]
    },
    {
      "cell_type": "markdown",
      "id": "7a3d3f1e",
      "metadata": {
        "id": "7a3d3f1e"
      },
      "source": [
        "### <code>union()</code>\n",
        "\n",
        "\n",
        "* <code>union()</code> method returns the union of two sets\n",
        "\n",
        "\n",
        "* Also denoted by the operator <code>|</code>"
      ]
    },
    {
      "cell_type": "code",
      "execution_count": null,
      "id": "7fcbd6e1",
      "metadata": {
        "id": "7fcbd6e1"
      },
      "outputs": [],
      "source": [
        "# Initialize sets A and B\n",
        "A = {1, 2, 3, 4, 5}\n",
        "B = {4, 5, 6, 7, 8}"
      ]
    },
    {
      "cell_type": "code",
      "execution_count": null,
      "id": "c919fc65",
      "metadata": {
        "id": "c919fc65",
        "outputId": "5a3f9b61-8f73-4844-dbc2-78c2e8f02b24"
      },
      "outputs": [
        {
          "data": {
            "text/plain": [
              "{1, 2, 3, 4, 5, 6, 7, 8}"
            ]
          },
          "execution_count": 78,
          "metadata": {},
          "output_type": "execute_result"
        }
      ],
      "source": [
        "A.union(B)"
      ]
    },
    {
      "cell_type": "code",
      "execution_count": null,
      "id": "f689f7b4",
      "metadata": {
        "id": "f689f7b4",
        "outputId": "5be19db4-0865-4955-a501-713b5fb347b4"
      },
      "outputs": [
        {
          "data": {
            "text/plain": [
              "{1, 2, 3, 4, 5, 6, 7, 8}"
            ]
          },
          "execution_count": 79,
          "metadata": {},
          "output_type": "execute_result"
        }
      ],
      "source": [
        "# Also denoted by the operator |\n",
        "A | B"
      ]
    },
    {
      "cell_type": "markdown",
      "id": "f2c6d867",
      "metadata": {
        "id": "f2c6d867"
      },
      "source": [
        "### <code>intersection()</code>\n",
        "\n",
        "\n",
        "* <code>intersection()</code> method returns the intersection of two sets\n",
        "\n",
        "\n",
        "* Also denoted by the operator <code>&</code>"
      ]
    },
    {
      "cell_type": "code",
      "execution_count": null,
      "id": "53c13ac2",
      "metadata": {
        "id": "53c13ac2"
      },
      "outputs": [],
      "source": [
        "A = {1, 2, 3, 4, 5}\n",
        "B = {4, 5, 6, 7, 8}"
      ]
    },
    {
      "cell_type": "code",
      "execution_count": null,
      "id": "545b1611",
      "metadata": {
        "id": "545b1611",
        "outputId": "ca034b8a-ccaa-4a2e-fe42-f34aa9f11098"
      },
      "outputs": [
        {
          "data": {
            "text/plain": [
              "{4, 5}"
            ]
          },
          "execution_count": 82,
          "metadata": {},
          "output_type": "execute_result"
        }
      ],
      "source": [
        "A.intersection(B)"
      ]
    },
    {
      "cell_type": "code",
      "execution_count": null,
      "id": "32ebd12f",
      "metadata": {
        "id": "32ebd12f",
        "outputId": "f5205cd5-c2d4-4fe1-b204-056bdb8a8a03"
      },
      "outputs": [
        {
          "data": {
            "text/plain": [
              "{4, 5}"
            ]
          },
          "execution_count": 83,
          "metadata": {},
          "output_type": "execute_result"
        }
      ],
      "source": [
        "# Also denoted by the operator &\n",
        "A & B"
      ]
    },
    {
      "cell_type": "markdown",
      "id": "99eebb6b",
      "metadata": {
        "id": "99eebb6b"
      },
      "source": [
        "### <code>difference()</code>\n",
        "\n",
        "\n",
        "* <code>difference()</code> method returns the difference of two sets\n",
        "\n",
        "\n",
        "* Difference of the set <code>B</code> from set <code>A</code> i.e, <code>(A - B)</code> is a set of elements that are only in <code>A</code> but not in <code>B</code>\n",
        "\n",
        "\n",
        "* Also denoted by the operator <code>-</code>"
      ]
    },
    {
      "cell_type": "code",
      "execution_count": null,
      "id": "1707f95c",
      "metadata": {
        "id": "1707f95c"
      },
      "outputs": [],
      "source": [
        "A = {1, 2, 3, 4, 5}\n",
        "B = {4, 5, 6, 7, 8}"
      ]
    },
    {
      "cell_type": "code",
      "execution_count": null,
      "id": "e0155763",
      "metadata": {
        "id": "e0155763",
        "outputId": "2663d427-dbda-4485-b4ab-2a7575452ecc"
      },
      "outputs": [
        {
          "data": {
            "text/plain": [
              "{1, 2, 3}"
            ]
          },
          "execution_count": 86,
          "metadata": {},
          "output_type": "execute_result"
        }
      ],
      "source": [
        "A.difference(B)"
      ]
    },
    {
      "cell_type": "code",
      "execution_count": null,
      "id": "9e08db3e",
      "metadata": {
        "id": "9e08db3e",
        "outputId": "2c5b09e5-e076-4570-ae38-48d24bea7778"
      },
      "outputs": [
        {
          "data": {
            "text/plain": [
              "{1, 2, 3}"
            ]
          },
          "execution_count": 87,
          "metadata": {},
          "output_type": "execute_result"
        }
      ],
      "source": [
        "# Also denoted by the operator -\n",
        "A - B"
      ]
    },
    {
      "cell_type": "code",
      "execution_count": null,
      "id": "a78674ab",
      "metadata": {
        "id": "a78674ab",
        "outputId": "201eceed-1f01-4250-832f-cdd67ceb4b8a"
      },
      "outputs": [
        {
          "data": {
            "text/plain": [
              "{6, 7, 8}"
            ]
          },
          "execution_count": 88,
          "metadata": {},
          "output_type": "execute_result"
        }
      ],
      "source": [
        "B.difference(A)"
      ]
    },
    {
      "cell_type": "code",
      "execution_count": null,
      "id": "9ce81250",
      "metadata": {
        "id": "9ce81250",
        "outputId": "56a82196-b635-45d6-a03c-2e5463a7c7c0"
      },
      "outputs": [
        {
          "data": {
            "text/plain": [
              "{6, 7, 8}"
            ]
          },
          "execution_count": 89,
          "metadata": {},
          "output_type": "execute_result"
        }
      ],
      "source": [
        "B - A"
      ]
    },
    {
      "cell_type": "markdown",
      "id": "d4d42834",
      "metadata": {
        "id": "d4d42834"
      },
      "source": [
        "### <code>symmetric_difference()</code>\n",
        "\n",
        "\n",
        "* <code>symmetric_difference()</code> method returns the set of elements in A and B but not in both (excluding the intersection)\n",
        "\n",
        "\n",
        "* Also denoted by the operator <code>^</code>"
      ]
    },
    {
      "cell_type": "code",
      "execution_count": null,
      "id": "3966873e",
      "metadata": {
        "id": "3966873e"
      },
      "outputs": [],
      "source": [
        "A = {1, 2, 3, 4, 5}\n",
        "B = {4, 5, 6, 7, 8}"
      ]
    },
    {
      "cell_type": "code",
      "execution_count": null,
      "id": "fcfbcf3f",
      "metadata": {
        "id": "fcfbcf3f",
        "outputId": "b85ec171-11db-410c-aea3-610fa42bbe81"
      },
      "outputs": [
        {
          "data": {
            "text/plain": [
              "{1, 2, 3, 6, 7, 8}"
            ]
          },
          "execution_count": 92,
          "metadata": {},
          "output_type": "execute_result"
        }
      ],
      "source": [
        "A.symmetric_difference(B)"
      ]
    },
    {
      "cell_type": "code",
      "execution_count": null,
      "id": "b8be5f86",
      "metadata": {
        "id": "b8be5f86",
        "outputId": "1032ad5e-2470-4d34-c460-a169f17e7c67"
      },
      "outputs": [
        {
          "data": {
            "text/plain": [
              "{1, 2, 3, 6, 7, 8}"
            ]
          },
          "execution_count": 93,
          "metadata": {},
          "output_type": "execute_result"
        }
      ],
      "source": [
        "A^B"
      ]
    },
    {
      "cell_type": "markdown",
      "id": "077761c0",
      "metadata": {
        "id": "077761c0"
      },
      "source": [
        "# Dictionaries\n",
        "\n",
        "* We've been learning about *sequences* in Python but now we're going to switch gears and learn about *mappings* in Python. \n",
        "\n",
        "\n",
        "* If you're familiar with other languages you can think of these Dictionaries as hash tables. \n",
        "\n",
        "\n",
        "* So what are mappings? Mappings are a collection of objects that are stored by a *key*, unlike a sequence that stored objects by their relative position. This is an important distinction, since mappings won't retain order since they have objects defined by a key.\n",
        "\n",
        "\n",
        "* A Python dictionary consists of a key and then an associated value. That value can be almost any Python object. So a dictionary object always has elements as key-value pairs\n",
        "\n",
        "\n",
        "## Constructing a Dictionary\n",
        "\n",
        "\n",
        "* A dictionary object is constructed using curly braces <code>{key1:value1,key2:value2,key3:value3}</code>"
      ]
    },
    {
      "cell_type": "code",
      "execution_count": null,
      "id": "e923b87f",
      "metadata": {
        "id": "e923b87f"
      },
      "outputs": [],
      "source": [
        "# Make a dictionary with {} and : to signify a key and a value\n",
        "marvel_dict = {'Name':'Thor','Place':'Asgard','Weapon' : 'Hammer', 1:2, 3 : 'power', 'alibies' : ['Ironman','Captain America'], 'abc' : {1:2, 4:5}}"
      ]
    },
    {
      "cell_type": "code",
      "execution_count": null,
      "id": "01f10db3",
      "metadata": {
        "id": "01f10db3",
        "outputId": "42a3b9c4-4826-44b6-91f7-a00b2eb3bc1a"
      },
      "outputs": [
        {
          "data": {
            "text/plain": [
              "'Asgard'"
            ]
          },
          "execution_count": 95,
          "metadata": {},
          "output_type": "execute_result"
        }
      ],
      "source": [
        "# Call values by their key\n",
        "marvel_dict['Place']"
      ]
    },
    {
      "cell_type": "code",
      "execution_count": null,
      "id": "ecdf7da7",
      "metadata": {
        "id": "ecdf7da7",
        "outputId": "f74a53de-978a-4e44-8607-239bc2e5fa93"
      },
      "outputs": [
        {
          "data": {
            "text/plain": [
              "dict"
            ]
          },
          "execution_count": 96,
          "metadata": {},
          "output_type": "execute_result"
        }
      ],
      "source": [
        "type(marvel_dict)"
      ]
    },
    {
      "cell_type": "code",
      "execution_count": null,
      "id": "67420030",
      "metadata": {
        "id": "67420030",
        "outputId": "78c20bb0-2142-49c9-eba7-069da2b86500"
      },
      "outputs": [
        {
          "data": {
            "text/plain": [
              "'Thor'"
            ]
          },
          "execution_count": 97,
          "metadata": {},
          "output_type": "execute_result"
        }
      ],
      "source": [
        "marvel_dict['Name']"
      ]
    },
    {
      "cell_type": "code",
      "execution_count": null,
      "id": "c0c802d1",
      "metadata": {
        "id": "c0c802d1",
        "outputId": "b5d26344-f1d1-4702-c3a2-ff782573786f"
      },
      "outputs": [
        {
          "data": {
            "text/plain": [
              "dict"
            ]
          },
          "execution_count": 98,
          "metadata": {},
          "output_type": "execute_result"
        }
      ],
      "source": [
        "type(marvel_dict['abc'])"
      ]
    },
    {
      "cell_type": "markdown",
      "id": "e12cbe07",
      "metadata": {
        "id": "e12cbe07"
      },
      "source": [
        "# Dictionary Methods"
      ]
    },
    {
      "cell_type": "markdown",
      "id": "eafb37d4",
      "metadata": {
        "id": "eafb37d4"
      },
      "source": [
        "### <code>keys()</code>\n",
        "\n",
        "\n",
        "* <code>keys()</code> method returns the list of keys in the dictionary object"
      ]
    },
    {
      "cell_type": "code",
      "execution_count": null,
      "id": "56a1600e",
      "metadata": {
        "id": "56a1600e",
        "outputId": "dcce90d6-19f8-4f13-e8a5-8560c5146c78"
      },
      "outputs": [
        {
          "data": {
            "text/plain": [
              "dict_keys(['Name', 'Place', 'Weapon', 1, 3, 'alibies', 'abc'])"
            ]
          },
          "execution_count": 100,
          "metadata": {},
          "output_type": "execute_result"
        }
      ],
      "source": [
        "marvel_dict.keys()"
      ]
    },
    {
      "cell_type": "code",
      "execution_count": null,
      "id": "7afafdca",
      "metadata": {
        "id": "7afafdca",
        "outputId": "744cfdff-0468-4603-a4ec-5a7a703a33b4"
      },
      "outputs": [
        {
          "data": {
            "text/plain": [
              "['Name', 'Place', 'Weapon', 1, 3, 'alibies', 'abc']"
            ]
          },
          "execution_count": 101,
          "metadata": {},
          "output_type": "execute_result"
        }
      ],
      "source": [
        "list(marvel_dict.keys())"
      ]
    },
    {
      "cell_type": "markdown",
      "id": "dfa26526",
      "metadata": {
        "id": "dfa26526"
      },
      "source": [
        "### <code>values()</code>\n",
        "\n",
        "* <code>values()</code> method returns the list of values in the dictionary object"
      ]
    },
    {
      "cell_type": "code",
      "execution_count": null,
      "id": "4ad9fc13",
      "metadata": {
        "id": "4ad9fc13",
        "outputId": "532cb516-b611-4906-a6e8-7ad3877bbbde"
      },
      "outputs": [
        {
          "data": {
            "text/plain": [
              "['Thor',\n",
              " 'Asgard',\n",
              " 'Hammer',\n",
              " 2,\n",
              " 'power',\n",
              " ['Ironman', 'Captain America'],\n",
              " {1: 2, 4: 5}]"
            ]
          },
          "execution_count": 102,
          "metadata": {},
          "output_type": "execute_result"
        }
      ],
      "source": [
        "list(marvel_dict.values())"
      ]
    },
    {
      "cell_type": "markdown",
      "id": "ac344005",
      "metadata": {
        "id": "ac344005"
      },
      "source": [
        "### <code>items()</code>\n",
        "\n",
        "\n",
        "* <code>items()</code> method returns the list of the keys and values "
      ]
    },
    {
      "cell_type": "code",
      "execution_count": null,
      "id": "bd6f5787",
      "metadata": {
        "id": "bd6f5787",
        "outputId": "dff93c76-4a33-4a6d-deeb-9d7f8d248698"
      },
      "outputs": [
        {
          "data": {
            "text/plain": [
              "[('Name', 'Thor'),\n",
              " ('Place', 'Asgard'),\n",
              " ('Weapon', 'Hammer'),\n",
              " (1, 2),\n",
              " (3, 'power'),\n",
              " ('alibies', ['Ironman', 'Captain America']),\n",
              " ('abc', {1: 2, 4: 5})]"
            ]
          },
          "execution_count": 104,
          "metadata": {},
          "output_type": "execute_result"
        }
      ],
      "source": [
        "# Get the keys and their corresponding values\n",
        "list(marvel_dict.items())"
      ]
    },
    {
      "cell_type": "markdown",
      "id": "0a58c566",
      "metadata": {
        "id": "0a58c566"
      },
      "source": [
        "* We can also use the <code>get()</code> method to extract a particular value of key-value pair. \n"
      ]
    },
    {
      "cell_type": "code",
      "execution_count": null,
      "id": "8d0ba099",
      "metadata": {
        "id": "8d0ba099",
        "outputId": "f0881762-6003-42ec-8404-2a35f5ecc50c"
      },
      "outputs": [
        {
          "data": {
            "text/plain": [
              "'Asgard'"
            ]
          },
          "execution_count": 106,
          "metadata": {},
          "output_type": "execute_result"
        }
      ],
      "source": [
        "marvel_dict.get('Place')"
      ]
    },
    {
      "cell_type": "markdown",
      "id": "5beb2792",
      "metadata": {
        "id": "5beb2792"
      },
      "source": [
        "### <code>get()</code>\n",
        "* <code>get()</code> method takes the key as an argument and returns None if the key is not found in the dictionary.\n",
        "\n",
        "\n",
        "* We can also set the value to return if a key is not found. This will be passed as the second argument in <code>get()</code>"
      ]
    },
    {
      "cell_type": "code",
      "execution_count": null,
      "id": "f6275800",
      "metadata": {
        "id": "f6275800",
        "outputId": "232f1704-d8c0-4b90-9463-671e40f77f80"
      },
      "outputs": [
        {
          "data": {
            "text/plain": [
              "'Asgard'"
            ]
          },
          "execution_count": 107,
          "metadata": {},
          "output_type": "execute_result"
        }
      ],
      "source": [
        "marvel_dict.get('Place')"
      ]
    },
    {
      "cell_type": "markdown",
      "id": "51460258",
      "metadata": {
        "id": "51460258"
      },
      "source": [
        "Its important to note that dictionaries are very flexible in the data types they can hold. For example:"
      ]
    },
    {
      "cell_type": "code",
      "execution_count": null,
      "id": "393df42e",
      "metadata": {
        "id": "393df42e"
      },
      "outputs": [],
      "source": [
        "employee_dict = {'Name':'Sanket','Skills':['Python','Machine Learning','Deep Learning'],'Band':6.0,'Promotion Year':[2016,2018,2020]}"
      ]
    },
    {
      "cell_type": "code",
      "execution_count": null,
      "id": "d92c3ee0",
      "metadata": {
        "id": "d92c3ee0",
        "outputId": "2e88535a-743e-478a-8f1f-2edc05ea71f3"
      },
      "outputs": [
        {
          "data": {
            "text/plain": [
              "4"
            ]
          },
          "execution_count": 109,
          "metadata": {},
          "output_type": "execute_result"
        }
      ],
      "source": [
        "len(employee_dict.keys())"
      ]
    },
    {
      "cell_type": "code",
      "execution_count": null,
      "id": "7fc6c20b",
      "metadata": {
        "id": "7fc6c20b",
        "outputId": "e472d219-99f1-4457-f848-28c72cf41aef"
      },
      "outputs": [
        {
          "data": {
            "text/plain": [
              "['Python', 'Machine Learning', 'Deep Learning']"
            ]
          },
          "execution_count": 110,
          "metadata": {},
          "output_type": "execute_result"
        }
      ],
      "source": [
        "# Let's call items from the dictionary\n",
        "employee_dict['Skills']"
      ]
    },
    {
      "cell_type": "code",
      "execution_count": null,
      "id": "c672eafb",
      "metadata": {
        "id": "c672eafb",
        "outputId": "14090a3f-a460-4d01-ff71-5973256479cc"
      },
      "outputs": [
        {
          "data": {
            "text/plain": [
              "'Python'"
            ]
          },
          "execution_count": 111,
          "metadata": {},
          "output_type": "execute_result"
        }
      ],
      "source": [
        "employee_dict['Skills'][0]"
      ]
    },
    {
      "cell_type": "code",
      "execution_count": null,
      "id": "762ae2e2",
      "metadata": {
        "id": "762ae2e2",
        "outputId": "80b92810-ec61-4bb7-9317-efd379e28e67"
      },
      "outputs": [
        {
          "data": {
            "text/plain": [
              "'PYTHON'"
            ]
          },
          "execution_count": 112,
          "metadata": {},
          "output_type": "execute_result"
        }
      ],
      "source": [
        "# Can then even call methods on that value\n",
        "employee_dict['Skills'][0].upper()"
      ]
    },
    {
      "cell_type": "code",
      "execution_count": null,
      "id": "56ec7160",
      "metadata": {
        "id": "56ec7160"
      },
      "outputs": [],
      "source": [
        "# Add a new key\n",
        "\n",
        "employee_dict['Designation'] ='Senior Data Scientist'"
      ]
    },
    {
      "cell_type": "markdown",
      "id": "b4d65e00",
      "metadata": {
        "id": "b4d65e00"
      },
      "source": [
        "### <code>update()</code>\n",
        "\n",
        "* You can add an element which is a key-value pair using the <code>update()</code> method \n",
        "\n",
        "* This method takes a dictionary as an argument"
      ]
    },
    {
      "cell_type": "code",
      "execution_count": null,
      "id": "e69c2c94",
      "metadata": {
        "id": "e69c2c94"
      },
      "outputs": [],
      "source": [
        "employee_dict.update({'Salary':'2,000,000'})"
      ]
    },
    {
      "cell_type": "code",
      "execution_count": null,
      "id": "8ba9e365",
      "metadata": {
        "id": "8ba9e365",
        "outputId": "4ef27303-70f7-4a80-c3ca-4039bcdbc952"
      },
      "outputs": [
        {
          "data": {
            "text/plain": [
              "{'Name': 'Sanket',\n",
              " 'Skills': ['Python', 'Machine Learning', 'Deep Learning'],\n",
              " 'Band': 6.0,\n",
              " 'Promotion Year': [2016, 2018, 2020],\n",
              " 'Designation': 'Senior Data Scientist',\n",
              " 'Salary': '2,000,000'}"
            ]
          },
          "execution_count": 116,
          "metadata": {},
          "output_type": "execute_result"
        }
      ],
      "source": [
        "employee_dict"
      ]
    },
    {
      "cell_type": "code",
      "execution_count": null,
      "id": "873edeb0",
      "metadata": {
        "id": "873edeb0"
      },
      "outputs": [],
      "source": [
        "# Subtract 123 from the value\n",
        "employee_dict['Name'] = employee_dict['Name'] + ' ' + 'Raj'"
      ]
    },
    {
      "cell_type": "code",
      "execution_count": null,
      "id": "1c6babfc",
      "metadata": {
        "id": "1c6babfc",
        "outputId": "f2752fde-c59e-454c-c229-3b3ffcf5dc3e"
      },
      "outputs": [
        {
          "data": {
            "text/plain": [
              "{'Name': 'Sanket Raj',\n",
              " 'Skills': ['Python', 'Machine Learning', 'Deep Learning'],\n",
              " 'Band': 6.0,\n",
              " 'Promotion Year': [2016, 2018, 2020],\n",
              " 'Designation': 'Senior Data Scientist',\n",
              " 'Salary': '2,000,000'}"
            ]
          },
          "execution_count": 118,
          "metadata": {},
          "output_type": "execute_result"
        }
      ],
      "source": [
        "#Check\n",
        "employee_dict"
      ]
    },
    {
      "cell_type": "markdown",
      "id": "9fe6ae3c",
      "metadata": {
        "id": "9fe6ae3c"
      },
      "source": [
        "### <code>dict()</code>\n",
        "\n",
        "\n",
        "* We can also create dictionary objects from sequence of items which are pairs. This is done using the <code>dict()</code>method\n",
        "\n",
        "\n",
        "*  <code>dict()</code> function takes the list of paired elements as argument"
      ]
    },
    {
      "cell_type": "code",
      "execution_count": null,
      "id": "4c1234f6",
      "metadata": {
        "id": "4c1234f6"
      },
      "outputs": [],
      "source": [
        "country_list = ['India','Australia','United States','England']\n",
        "city_list = ['New Delhi', 'Canberra' , 'Washington DC','London']"
      ]
    },
    {
      "cell_type": "code",
      "execution_count": null,
      "id": "7e449f9d",
      "metadata": {
        "id": "7e449f9d"
      },
      "outputs": [],
      "source": [
        "country_city_list = list(zip(country_list,city_list))"
      ]
    },
    {
      "cell_type": "code",
      "execution_count": null,
      "id": "574543e2",
      "metadata": {
        "id": "574543e2",
        "outputId": "ba681f42-a742-4d26-c2a4-49211f0377cf"
      },
      "outputs": [
        {
          "data": {
            "text/plain": [
              "[('India', 'New Delhi'),\n",
              " ('Australia', 'Canberra'),\n",
              " ('United States', 'Washington DC'),\n",
              " ('England', 'London')]"
            ]
          },
          "execution_count": 121,
          "metadata": {},
          "output_type": "execute_result"
        }
      ],
      "source": [
        "country_city_list"
      ]
    },
    {
      "cell_type": "code",
      "execution_count": null,
      "id": "88c68d80",
      "metadata": {
        "id": "88c68d80",
        "outputId": "9a336b7b-9a15-4754-ce48-c1715620b635"
      },
      "outputs": [
        {
          "data": {
            "text/plain": [
              "{'India': 'New Delhi',\n",
              " 'Australia': 'Canberra',\n",
              " 'United States': 'Washington DC',\n",
              " 'England': 'London'}"
            ]
          },
          "execution_count": 122,
          "metadata": {},
          "output_type": "execute_result"
        }
      ],
      "source": [
        "dict(country_city_list)"
      ]
    },
    {
      "cell_type": "markdown",
      "id": "eecc2bd7",
      "metadata": {
        "id": "eecc2bd7"
      },
      "source": [
        "### <code>pop()</code>\n",
        "\n",
        "\n",
        "* <code>pop()</code> method removes and returns an element from a dictionary having the given key.\n",
        "\n",
        "* This method takes two arguments/parameters (i) key - key which is to be searched for removal, (ii) default - value which is to be returned when the key is not in the dictionary"
      ]
    },
    {
      "cell_type": "code",
      "execution_count": null,
      "id": "5a07c9b6",
      "metadata": {
        "id": "5a07c9b6"
      },
      "outputs": [],
      "source": [
        "# Let us create a list of paired tuples\n",
        "country_city_tuples = [('India','New Delhi'),('Australia','Canberra'),('United States','Washington DC'),('England','London')]"
      ]
    },
    {
      "cell_type": "code",
      "execution_count": null,
      "id": "9b05956b",
      "metadata": {
        "id": "9b05956b",
        "outputId": "61602832-87a6-4e67-d4b6-7ef21002db07"
      },
      "outputs": [
        {
          "data": {
            "text/plain": [
              "'London'"
            ]
          },
          "execution_count": 126,
          "metadata": {},
          "output_type": "execute_result"
        }
      ],
      "source": [
        "country_city_dict = dict(country_city_tuples)\n",
        "country_city_dict.pop('England')"
      ]
    },
    {
      "cell_type": "code",
      "execution_count": null,
      "id": "0ca4d266",
      "metadata": {
        "id": "0ca4d266",
        "outputId": "ae923268-35f9-4d27-dd2f-c81ee35f64c1"
      },
      "outputs": [
        {
          "data": {
            "text/plain": [
              "{'India': 'New Delhi',\n",
              " 'Australia': 'Canberra',\n",
              " 'United States': 'Washington DC'}"
            ]
          },
          "execution_count": 127,
          "metadata": {},
          "output_type": "execute_result"
        }
      ],
      "source": [
        "country_city_dict"
      ]
    },
    {
      "cell_type": "markdown",
      "id": "5e6343b3",
      "metadata": {
        "id": "5e6343b3"
      },
      "source": [
        "### We can use the <code>zip()</code> and <code>dict()</code> methods to create \n",
        "\n",
        "---\n",
        "\n",
        "a dictionary object from two lists"
      ]
    },
    {
      "cell_type": "code",
      "execution_count": null,
      "id": "7caff9ef",
      "metadata": {
        "id": "7caff9ef"
      },
      "outputs": [],
      "source": [
        "name = [\"Manjeet\", \"Nikhil\", \"Shambhavi\"]\n",
        "marks = [40, 50, 60]"
      ]
    },
    {
      "cell_type": "code",
      "execution_count": null,
      "id": "dc2ea7f6",
      "metadata": {
        "id": "dc2ea7f6"
      },
      "outputs": [],
      "source": [
        "mapped = zip(name, marks)"
      ]
    },
    {
      "cell_type": "code",
      "execution_count": null,
      "id": "e612a62d",
      "metadata": {
        "id": "e612a62d",
        "outputId": "0fbb1ec8-09aa-4363-dbfc-ec3617000cf1"
      },
      "outputs": [
        {
          "data": {
            "text/plain": [
              "<zip at 0x1bbd241cc80>"
            ]
          },
          "execution_count": 130,
          "metadata": {},
          "output_type": "execute_result"
        }
      ],
      "source": [
        "mapped"
      ]
    },
    {
      "cell_type": "code",
      "execution_count": null,
      "id": "f24293d7",
      "metadata": {
        "id": "f24293d7",
        "outputId": "9e8b3cff-f2e9-4c31-d77d-b32fcda33a5b"
      },
      "outputs": [
        {
          "name": "stdout",
          "output_type": "stream",
          "text": [
            "{'Manjeet': 40, 'Nikhil': 50, 'Shambhavi': 60}\n"
          ]
        }
      ],
      "source": [
        "print(dict(mapped))"
      ]
    },
    {
      "cell_type": "code",
      "execution_count": null,
      "id": "ab712f25",
      "metadata": {
        "id": "ab712f25"
      },
      "outputs": [],
      "source": [
        "name = [\"Manjeet\", \"Nikhil\", \"Shambhavi\"]\n",
        "marks = [40, 50, 60,80]"
      ]
    },
    {
      "cell_type": "code",
      "execution_count": null,
      "id": "8e0e7ae5",
      "metadata": {
        "id": "8e0e7ae5"
      },
      "outputs": [],
      "source": [
        "mapped = zip(name, marks)"
      ]
    },
    {
      "cell_type": "code",
      "execution_count": null,
      "id": "8058eb36",
      "metadata": {
        "id": "8058eb36",
        "outputId": "94e3afa7-af71-4bda-cea6-2fa2e4beda1d"
      },
      "outputs": [
        {
          "name": "stdout",
          "output_type": "stream",
          "text": [
            "{'Manjeet': 40, 'Nikhil': 50, 'Shambhavi': 60}\n"
          ]
        }
      ],
      "source": [
        "print(dict(mapped))"
      ]
    },
    {
      "cell_type": "code",
      "execution_count": null,
      "id": "d11e2b7e",
      "metadata": {
        "id": "d11e2b7e"
      },
      "outputs": [],
      "source": []
    }
  ],
  "metadata": {
    "kernelspec": {
      "display_name": "Python 3 (ipykernel)",
      "language": "python",
      "name": "python3"
    },
    "language_info": {
      "codemirror_mode": {
        "name": "ipython",
        "version": 3
      },
      "file_extension": ".py",
      "mimetype": "text/x-python",
      "name": "python",
      "nbconvert_exporter": "python",
      "pygments_lexer": "ipython3",
      "version": "3.9.13"
    },
    "colab": {
      "provenance": [],
      "include_colab_link": true
    }
  },
  "nbformat": 4,
  "nbformat_minor": 5
}