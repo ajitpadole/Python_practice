{
  "cells": [
    {
      "cell_type": "markdown",
      "metadata": {
        "id": "view-in-github",
        "colab_type": "text"
      },
      "source": [
        "<a href=\"https://colab.research.google.com/github/ajitpadole/Python_practice/blob/main/Python_Notes.ipynb\" target=\"_parent\"><img src=\"https://colab.research.google.com/assets/colab-badge.svg\" alt=\"Open In Colab\"/></a>"
      ]
    },
    {
      "cell_type": "code",
      "execution_count": null,
      "id": "b1066ebe",
      "metadata": {
        "id": "b1066ebe",
        "outputId": "0e5a8926-68fd-45eb-c79d-0ccc3f79b3bb"
      },
      "outputs": [
        {
          "name": "stdout",
          "output_type": "stream",
          "text": [
            "{3, 4}\n"
          ]
        }
      ],
      "source": [
        "a=[1,2,3,4]\n",
        "b=[3,4,5,6]\n",
        "c = set(a)&set(b)\n",
        "print(c)"
      ]
    },
    {
      "cell_type": "code",
      "execution_count": null,
      "id": "d9f81634",
      "metadata": {
        "id": "d9f81634",
        "outputId": "19546411-bab2-430a-8bf0-808aeb1853b5"
      },
      "outputs": [
        {
          "name": "stdout",
          "output_type": "stream",
          "text": [
            "s\n"
          ]
        }
      ],
      "source": [
        "# max frequency Program\n",
        "str = \"missipi\"\n",
        "freq = {}\n",
        "for i in str:\n",
        "    if i in freq:\n",
        "        freq[i] +=1\n",
        "    else:\n",
        "        freq[i] = 1\n",
        "        \n",
        "max_char = max(freq)\n",
        "print(max_char)"
      ]
    },
    {
      "cell_type": "code",
      "execution_count": null,
      "id": "45053ce6",
      "metadata": {
        "id": "45053ce6"
      },
      "outputs": [],
      "source": []
    }
  ],
  "metadata": {
    "kernelspec": {
      "display_name": "Python 3 (ipykernel)",
      "language": "python",
      "name": "python3"
    },
    "language_info": {
      "codemirror_mode": {
        "name": "ipython",
        "version": 3
      },
      "file_extension": ".py",
      "mimetype": "text/x-python",
      "name": "python",
      "nbconvert_exporter": "python",
      "pygments_lexer": "ipython3",
      "version": "3.9.13"
    },
    "colab": {
      "provenance": [],
      "include_colab_link": true
    }
  },
  "nbformat": 4,
  "nbformat_minor": 5
}