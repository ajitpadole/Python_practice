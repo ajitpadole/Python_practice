{
 "cells": [
  {
   "cell_type": "markdown",
   "id": "10c144c1",
   "metadata": {},
   "source": [
    "# What is Python?\n",
    "\n",
    "Python is an interpreted, object-oriented, high-level programming language with dynamic semantics\n"
   ]
  },
  {
   "cell_type": "markdown",
   "id": "65abe0cd",
   "metadata": {},
   "source": [
    "Different data types we will encounter in Python\n",
    "\n",
    "Numeric - Numeric variables take values which are numbers like 9, 3.14, 0, Inf\n",
    "\n",
    "String - String variables are used to store textual information\n",
    "\n",
    "Boolean - Boolean variables have two modes either True or False.\n",
    "\n",
    "Datetime - These variables are used to store date and time values such as 2020-08-01 12:23:54"
   ]
  },
  {
   "cell_type": "markdown",
   "id": "d5c383c7",
   "metadata": {},
   "source": [
    "# Integers and Floats"
   ]
  },
  {
   "cell_type": "code",
   "execution_count": 1,
   "id": "23ede145",
   "metadata": {},
   "outputs": [
    {
     "data": {
      "text/plain": [
       "3"
      ]
     },
     "execution_count": 1,
     "metadata": {},
     "output_type": "execute_result"
    }
   ],
   "source": [
    "# Addition\n",
    "2+1"
   ]
  },
  {
   "cell_type": "code",
   "execution_count": 2,
   "id": "d43876f9",
   "metadata": {},
   "outputs": [
    {
     "data": {
      "text/plain": [
       "-3"
      ]
     },
     "execution_count": 2,
     "metadata": {},
     "output_type": "execute_result"
    }
   ],
   "source": [
    "# Subtraction\n",
    "2-5"
   ]
  },
  {
   "cell_type": "code",
   "execution_count": 3,
   "id": "c862e7d9",
   "metadata": {},
   "outputs": [
    {
     "data": {
      "text/plain": [
       "3"
      ]
     },
     "execution_count": 3,
     "metadata": {},
     "output_type": "execute_result"
    }
   ],
   "source": [
    "# Floor Division\n",
    "7//2"
   ]
  },
  {
   "cell_type": "code",
   "execution_count": 4,
   "id": "27d7914c",
   "metadata": {},
   "outputs": [
    {
     "data": {
      "text/plain": [
       "32"
      ]
     },
     "execution_count": 4,
     "metadata": {},
     "output_type": "execute_result"
    }
   ],
   "source": [
    "# Exponentiation\n",
    "2**5"
   ]
  },
  {
   "cell_type": "code",
   "execution_count": 5,
   "id": "3f7eb37b",
   "metadata": {},
   "outputs": [
    {
     "data": {
      "text/plain": [
       "5"
      ]
     },
     "execution_count": 5,
     "metadata": {},
     "output_type": "execute_result"
    }
   ],
   "source": [
    "# Modulus\n",
    "5%6"
   ]
  },
  {
   "cell_type": "code",
   "execution_count": 6,
   "id": "f70bbd4b",
   "metadata": {},
   "outputs": [
    {
     "data": {
      "text/plain": [
       "105"
      ]
     },
     "execution_count": 6,
     "metadata": {},
     "output_type": "execute_result"
    }
   ],
   "source": [
    "# Order of Operations followed in Python\n",
    "2 + 10 * 10 + 3"
   ]
  },
  {
   "cell_type": "code",
   "execution_count": 7,
   "id": "6922b51c",
   "metadata": {},
   "outputs": [
    {
     "data": {
      "text/plain": [
       "4000000.0"
      ]
     },
     "execution_count": 7,
     "metadata": {},
     "output_type": "execute_result"
    }
   ],
   "source": [
    "# Scientific Notation for representing large numbers\n",
    "4E6"
   ]
  },
  {
   "cell_type": "markdown",
   "id": "4e32b9b4",
   "metadata": {},
   "source": [
    "1,2,-5,1000\tIntegers\n",
    "\n",
    "1.2,-0.5,2e2,3E2\tFloating-point numbers"
   ]
  },
  {
   "cell_type": "markdown",
   "id": "a387b948",
   "metadata": {},
   "source": [
    "# What is a Variable?"
   ]
  },
  {
   "cell_type": "markdown",
   "id": "cf165f80",
   "metadata": {},
   "source": [
    "VARIABLES are entities which help us store information and retrieve it later.\n",
    "\n",
    "A variable with a fixed name can store information of nature like numeric, textual, boolean etc.\n",
    "\n",
    "A Python variable is a reserved memory location to store values. In other words, a variable in a python program gives data to the computer for processing.\n",
    "\n",
    "The type of data contained in a variable can be changed at user's will."
   ]
  },
  {
   "cell_type": "code",
   "execution_count": 8,
   "id": "a3fdd003",
   "metadata": {},
   "outputs": [
    {
     "name": "stdout",
     "output_type": "stream",
     "text": [
      "12\n"
     ]
    }
   ],
   "source": [
    "# Addition\n",
    "x=5\n",
    "y=7\n",
    "z = x+y\n",
    "\n",
    "print(z)"
   ]
  },
  {
   "cell_type": "code",
   "execution_count": 9,
   "id": "416e9831",
   "metadata": {},
   "outputs": [
    {
     "name": "stdout",
     "output_type": "stream",
     "text": [
      "0x1cc50d76a90\n"
     ]
    }
   ],
   "source": [
    "# Printing the memory address the variable z occupies\n",
    "print(hex(id(z)))"
   ]
  },
  {
   "cell_type": "code",
   "execution_count": 10,
   "id": "84157a18",
   "metadata": {},
   "outputs": [
    {
     "name": "stdout",
     "output_type": "stream",
     "text": [
      "2\n"
     ]
    }
   ],
   "source": [
    "# Modulo operator\n",
    "y=5\n",
    "x=3\n",
    "\n",
    "z = y%x       # Modulus is denoted by % sign\n",
    "print(z)"
   ]
  },
  {
   "cell_type": "markdown",
   "id": "f08e96e3",
   "metadata": {},
   "source": [
    "##  Rules for naming a variable in Python\n",
    "\n",
    "* Variables names must start with a letter or an underscore like _ product , product_\n",
    "\n",
    "\n",
    "* The remainder of your variable name may consist of letters, numbers and underscores\n",
    "\n",
    "\n",
    "* spacy1, pyThon,machine_learning are some valid variable names\n",
    "\n",
    "\n",
    "* Names are case sensitive.\n",
    "\n",
    "\n",
    "* case_sensitive, CASE_SENSITIVE, and Case_Sensitive are each a different variable.\n"
   ]
  },
  {
   "cell_type": "markdown",
   "id": "d144e0a7",
   "metadata": {},
   "source": [
    "# 1 Introduction to Strings"
   ]
  },
  {
   "cell_type": "markdown",
   "id": "453463c1",
   "metadata": {},
   "source": [
    "Strings are used in Python to record text information, such as names. \n",
    "It could either be a word, a phrase, a sentence, a paragraph or an entire encyclopedia."
   ]
  },
  {
   "cell_type": "markdown",
   "id": "cfb90fba",
   "metadata": {},
   "source": [
    "###  Creating a String\n",
    "* To create a string in Python you need to use either single quotes or double quotes. For example:"
   ]
  },
  {
   "cell_type": "code",
   "execution_count": 11,
   "id": "69230629",
   "metadata": {},
   "outputs": [
    {
     "data": {
      "text/plain": [
       "'algebra'"
      ]
     },
     "execution_count": 11,
     "metadata": {},
     "output_type": "execute_result"
    }
   ],
   "source": [
    "# Single word\n",
    "my_first_string= 'algebra'\n",
    "my_first_string"
   ]
  },
  {
   "cell_type": "code",
   "execution_count": 12,
   "id": "0da30eaa",
   "metadata": {},
   "outputs": [
    {
     "name": "stdout",
     "output_type": "stream",
     "text": [
      "Statistics sits at the heart of machine learning\n"
     ]
    }
   ],
   "source": [
    "# Entire phrase \n",
    "phrase = 'Statistics sits at the heart of machine learning'\n",
    "print(phrase)"
   ]
  },
  {
   "cell_type": "code",
   "execution_count": 13,
   "id": "db78a6ce",
   "metadata": {},
   "outputs": [
    {
     "data": {
      "text/plain": [
       "str"
      ]
     },
     "execution_count": 13,
     "metadata": {},
     "output_type": "execute_result"
    }
   ],
   "source": [
    "type(phrase)"
   ]
  },
  {
   "cell_type": "code",
   "execution_count": 14,
   "id": "4a204cb9",
   "metadata": {},
   "outputs": [
    {
     "name": "stdout",
     "output_type": "stream",
     "text": [
      "#\n"
     ]
    }
   ],
   "source": [
    "hashtag = \"#\"\n",
    "print(hashtag)"
   ]
  },
  {
   "cell_type": "code",
   "execution_count": 15,
   "id": "238f0427",
   "metadata": {},
   "outputs": [
    {
     "data": {
      "text/plain": [
       "str"
      ]
     },
     "execution_count": 15,
     "metadata": {},
     "output_type": "execute_result"
    }
   ],
   "source": [
    "type(hashtag)"
   ]
  },
  {
   "cell_type": "code",
   "execution_count": 17,
   "id": "bb9a2014",
   "metadata": {},
   "outputs": [
    {
     "data": {
      "text/plain": [
       "'Calculus'"
      ]
     },
     "execution_count": 17,
     "metadata": {},
     "output_type": "execute_result"
    }
   ],
   "source": [
    "# Note that we can't output multiple strings with only write string\n",
    "'Linear Algebra'\n",
    "'Calculus'"
   ]
  },
  {
   "cell_type": "code",
   "execution_count": 18,
   "id": "61b7d607",
   "metadata": {},
   "outputs": [
    {
     "name": "stdout",
     "output_type": "stream",
     "text": [
      "Use \n",
      " to print a new line\n"
     ]
    }
   ],
   "source": [
    "print('Use \\n to print a new line')"
   ]
  },
  {
   "cell_type": "markdown",
   "id": "0b6a71b6",
   "metadata": {},
   "source": [
    "* bold text We can also use a function called <code>len()</code> to check the length of a string!"
   ]
  },
  {
   "cell_type": "code",
   "execution_count": 19,
   "id": "4c3e41f6",
   "metadata": {},
   "outputs": [
    {
     "data": {
      "text/plain": [
       "12"
      ]
     },
     "execution_count": 19,
     "metadata": {},
     "output_type": "execute_result"
    }
   ],
   "source": [
    "algo = 'regres sion '\n",
    "len(algo)"
   ]
  },
  {
   "cell_type": "markdown",
   "id": "ff9d7d07",
   "metadata": {},
   "source": [
    "Python's built-in len() function counts all of the characters in the string, including spaces and punctuation."
   ]
  },
  {
   "cell_type": "markdown",
   "id": "18a71fd1",
   "metadata": {},
   "source": [
    "### <u> String Indexing </u>\n",
    "\n",
    "* We know strings are a sequence, which means Python can use indexes to call parts of the sequence.\n",
    "\n",
    "\n",
    "* A string index refers to the location of an element present in a string.\n",
    "\n",
    "\n",
    "* The indexing begins from 0 in Python. \n",
    "\n",
    "\n",
    "* The first element is assigned an index 0, the second element is assigned an index of 1 and so on and so forth.\n",
    "\n",
    "\n",
    "* In Python, we use brackets <code>[]</code> after an object to call its index."
   ]
  },
  {
   "cell_type": "code",
   "execution_count": 2,
   "id": "c475f0eb",
   "metadata": {},
   "outputs": [],
   "source": [
    "string  = 'Principal Component Analysis!'"
   ]
  },
  {
   "cell_type": "code",
   "execution_count": 21,
   "id": "7b7cea35",
   "metadata": {},
   "outputs": [
    {
     "name": "stdout",
     "output_type": "stream",
     "text": [
      "i\n"
     ]
    }
   ],
   "source": [
    "print(string[5])"
   ]
  },
  {
   "cell_type": "code",
   "execution_count": 22,
   "id": "48e6c621",
   "metadata": {},
   "outputs": [
    {
     "data": {
      "text/plain": [
       "29"
      ]
     },
     "execution_count": 22,
     "metadata": {},
     "output_type": "execute_result"
    }
   ],
   "source": [
    "len(string)"
   ]
  },
  {
   "cell_type": "markdown",
   "id": "5580e446",
   "metadata": {},
   "source": [
    "* We can use a <code>:</code> to perform *slicing* which grabs everything up to a designated point. \n",
    "\n",
    "\n",
    "* The starting index is specified on the left of the <code>:</code> and the ending index is specified on the right of the <code>:</code>. \n",
    "\n",
    "\n",
    "* Remember the element located at the right index is not included."
   ]
  },
  {
   "cell_type": "code",
   "execution_count": 24,
   "id": "0b0010ee",
   "metadata": {},
   "outputs": [
    {
     "name": "stdout",
     "output_type": "stream",
     "text": [
      "Principal Component Analysis!\n",
      "Principal Com\n"
     ]
    }
   ],
   "source": [
    "print(string)\n",
    "print(string[:13])"
   ]
  },
  {
   "cell_type": "code",
   "execution_count": 3,
   "id": "5ef50278",
   "metadata": {},
   "outputs": [
    {
     "name": "stdout",
     "output_type": "stream",
     "text": [
      "Pr\n"
     ]
    }
   ],
   "source": [
    "print(string[:2])"
   ]
  },
  {
   "cell_type": "code",
   "execution_count": 28,
   "id": "75e2dfb2",
   "metadata": {},
   "outputs": [
    {
     "name": "stdout",
     "output_type": "stream",
     "text": [
      "Principal Component Analysis!\n"
     ]
    }
   ],
   "source": [
    "print(string[::1])"
   ]
  },
  {
   "cell_type": "code",
   "execution_count": 32,
   "id": "9d38902b",
   "metadata": {},
   "outputs": [
    {
     "data": {
      "text/plain": [
       "'Principal Component Analysis!'"
      ]
     },
     "execution_count": 32,
     "metadata": {},
     "output_type": "execute_result"
    }
   ],
   "source": [
    "string[::1]"
   ]
  },
  {
   "cell_type": "code",
   "execution_count": 29,
   "id": "ec4e9cef",
   "metadata": {},
   "outputs": [
    {
     "name": "stdout",
     "output_type": "stream",
     "text": [
      "Pnp mntnys\n"
     ]
    }
   ],
   "source": [
    "print(string[::3])"
   ]
  },
  {
   "cell_type": "code",
   "execution_count": 31,
   "id": "df4b7694",
   "metadata": {},
   "outputs": [
    {
     "name": "stdout",
     "output_type": "stream",
     "text": [
      "!sisylanA tnenopmoC lapicnirP\n"
     ]
    }
   ],
   "source": [
    "print(string[::-1])"
   ]
  },
  {
   "cell_type": "markdown",
   "id": "ad8a5ca5",
   "metadata": {},
   "source": [
    "## String Properties\n",
    "\n",
    "* It's important to note that strings have an important property known as *immutability*. \n",
    "\n",
    "\n",
    "* This means that once a string is created, the elements within it can not be changed or replaced via item assignment. We will see how we can do such operation using string methods"
   ]
  },
  {
   "cell_type": "code",
   "execution_count": 33,
   "id": "15c5d186",
   "metadata": {},
   "outputs": [
    {
     "ename": "TypeError",
     "evalue": "'str' object does not support item assignment",
     "output_type": "error",
     "traceback": [
      "\u001b[1;31m---------------------------------------------------------------------------\u001b[0m",
      "\u001b[1;31mTypeError\u001b[0m                                 Traceback (most recent call last)",
      "\u001b[1;32m~\\AppData\\Local\\Temp\\ipykernel_9404\\4266378584.py\u001b[0m in \u001b[0;36m<module>\u001b[1;34m\u001b[0m\n\u001b[0;32m      1\u001b[0m \u001b[1;31m# Can we change our string 'Hello' to 'Cello'? Lets try replacing the first letter H with C\u001b[0m\u001b[1;33m\u001b[0m\u001b[1;33m\u001b[0m\u001b[0m\n\u001b[0;32m      2\u001b[0m \u001b[0mstring\u001b[0m\u001b[1;33m=\u001b[0m\u001b[1;34m'Hello'\u001b[0m\u001b[1;33m\u001b[0m\u001b[1;33m\u001b[0m\u001b[0m\n\u001b[1;32m----> 3\u001b[1;33m \u001b[0mstring\u001b[0m\u001b[1;33m[\u001b[0m\u001b[1;36m0\u001b[0m\u001b[1;33m]\u001b[0m \u001b[1;33m=\u001b[0m \u001b[1;34m'C'\u001b[0m\u001b[1;33m\u001b[0m\u001b[1;33m\u001b[0m\u001b[0m\n\u001b[0m",
      "\u001b[1;31mTypeError\u001b[0m: 'str' object does not support item assignment"
     ]
    }
   ],
   "source": [
    "# Can we change our string 'Hello' to 'Cello'? Lets try replacing the first letter H with C\n",
    "string='Hello'\n",
    "string[0] = 'C'"
   ]
  },
  {
   "cell_type": "code",
   "execution_count": 37,
   "id": "1254b84a",
   "metadata": {},
   "outputs": [
    {
     "ename": "TypeError",
     "evalue": "can only concatenate str (not \"int\") to str",
     "output_type": "error",
     "traceback": [
      "\u001b[1;31m---------------------------------------------------------------------------\u001b[0m",
      "\u001b[1;31mTypeError\u001b[0m                                 Traceback (most recent call last)",
      "\u001b[1;32m~\\AppData\\Local\\Temp\\ipykernel_9404\\1897704460.py\u001b[0m in \u001b[0;36m<module>\u001b[1;34m\u001b[0m\n\u001b[0;32m      1\u001b[0m \u001b[0mstring1\u001b[0m \u001b[1;33m=\u001b[0m \u001b[1;34m\"Ajit\"\u001b[0m\u001b[1;33m\u001b[0m\u001b[1;33m\u001b[0m\u001b[0m\n\u001b[0;32m      2\u001b[0m \u001b[0mstring2\u001b[0m \u001b[1;33m=\u001b[0m \u001b[1;34m\"Padole\"\u001b[0m\u001b[1;33m\u001b[0m\u001b[1;33m\u001b[0m\u001b[0m\n\u001b[1;32m----> 3\u001b[1;33m \u001b[0mprint\u001b[0m\u001b[1;33m(\u001b[0m\u001b[0mstring1\u001b[0m \u001b[1;33m+\u001b[0m \u001b[1;36m4\u001b[0m \u001b[1;33m+\u001b[0m \u001b[0mstring2\u001b[0m\u001b[1;33m)\u001b[0m\u001b[1;33m\u001b[0m\u001b[1;33m\u001b[0m\u001b[0m\n\u001b[0m",
      "\u001b[1;31mTypeError\u001b[0m: can only concatenate str (not \"int\") to str"
     ]
    }
   ],
   "source": [
    "string1 = \"Ajit\"\n",
    "string2 = \"Padole\"\n",
    "print(string1 + 4 + string2)"
   ]
  },
  {
   "cell_type": "markdown",
   "id": "b890e909",
   "metadata": {},
   "source": [
    "To convert an integer into a string, you can use the str() function or you can simply write the number in quotes"
   ]
  },
  {
   "cell_type": "code",
   "execution_count": 38,
   "id": "173b7d30",
   "metadata": {},
   "outputs": [
    {
     "name": "stdout",
     "output_type": "stream",
     "text": [
      "abc4def\n"
     ]
    }
   ],
   "source": [
    "# Concatenate strings!\n",
    "\n",
    "string1='abc'\n",
    "string2='def'\n",
    "num = 4\n",
    "print(string1 + str(4) + string2)"
   ]
  },
  {
   "cell_type": "code",
   "execution_count": 39,
   "id": "852a2378",
   "metadata": {},
   "outputs": [
    {
     "name": "stdout",
     "output_type": "stream",
     "text": [
      "Hello concatenate me!\n"
     ]
    }
   ],
   "source": [
    "# We can reassign string completely though!\n",
    "string = string + ' concatenate me!'\n",
    "print(string)"
   ]
  },
  {
   "cell_type": "code",
   "execution_count": 41,
   "id": "5dc116df",
   "metadata": {},
   "outputs": [
    {
     "data": {
      "text/plain": [
       "16"
      ]
     },
     "execution_count": 41,
     "metadata": {},
     "output_type": "execute_result"
    }
   ],
   "source": [
    "#len\n",
    "algorithm = \"Machine Learning\"\n",
    "len(algorithm)"
   ]
  },
  {
   "cell_type": "code",
   "execution_count": 42,
   "id": "ee83a02b",
   "metadata": {},
   "outputs": [
    {
     "data": {
      "text/plain": [
       "'machine learning'"
      ]
     },
     "execution_count": 42,
     "metadata": {},
     "output_type": "execute_result"
    }
   ],
   "source": [
    "#lower\n",
    "algorithm.lower()"
   ]
  },
  {
   "cell_type": "code",
   "execution_count": 43,
   "id": "1042a96f",
   "metadata": {},
   "outputs": [
    {
     "data": {
      "text/plain": [
       "'MACHINE LEARNING'"
      ]
     },
     "execution_count": 43,
     "metadata": {},
     "output_type": "execute_result"
    }
   ],
   "source": [
    "#upper\n",
    "algorithm.upper()"
   ]
  },
  {
   "cell_type": "code",
   "execution_count": 45,
   "id": "f0ff057c",
   "metadata": {},
   "outputs": [
    {
     "data": {
      "text/plain": [
       "2"
      ]
     },
     "execution_count": 45,
     "metadata": {},
     "output_type": "execute_result"
    }
   ],
   "source": [
    "#Count\n",
    "algorithm.count(\"a\")"
   ]
  },
  {
   "cell_type": "code",
   "execution_count": 47,
   "id": "0f780f68",
   "metadata": {},
   "outputs": [
    {
     "data": {
      "text/plain": [
       "-1"
      ]
     },
     "execution_count": 47,
     "metadata": {},
     "output_type": "execute_result"
    }
   ],
   "source": [
    "#Find\n",
    "algorithm.find(\"la\")"
   ]
  },
  {
   "cell_type": "code",
   "execution_count": 48,
   "id": "ab27b2c0",
   "metadata": {},
   "outputs": [
    {
     "data": {
      "text/plain": [
       "'Machine-Learning'"
      ]
     },
     "execution_count": 48,
     "metadata": {},
     "output_type": "execute_result"
    }
   ],
   "source": [
    "#replace \n",
    "algorithm.replace(' ','-')"
   ]
  },
  {
   "cell_type": "code",
   "execution_count": 49,
   "id": "0550bba3",
   "metadata": {},
   "outputs": [
    {
     "data": {
      "text/plain": [
       "'Lachine Learning'"
      ]
     },
     "execution_count": 49,
     "metadata": {},
     "output_type": "execute_result"
    }
   ],
   "source": [
    "algorithm.replace('M','L')"
   ]
  },
  {
   "cell_type": "code",
   "execution_count": 50,
   "id": "fb1b1915",
   "metadata": {},
   "outputs": [
    {
     "name": "stdout",
     "output_type": "stream",
     "text": [
      "Left plus right makes Rahul  Modi\n"
     ]
    }
   ],
   "source": [
    "first_name = 'Rahul'\n",
    "last_name = 'Modi'\n",
    "\n",
    "full_name = f'Left plus right makes {first_name}  {last_name}'  # Use {} to print the variable you want to\n",
    "print(full_name)"
   ]
  },
  {
   "cell_type": "code",
   "execution_count": 52,
   "id": "0976a57b",
   "metadata": {},
   "outputs": [
    {
     "name": "stdout",
     "output_type": "stream",
     "text": [
      "Full name is and first is Rahul and last Modi\n"
     ]
    }
   ],
   "source": [
    "name = \"Full name is and first is {} and last {}\".format(first_name,last_name)\n",
    "print(name)"
   ]
  },
  {
   "cell_type": "markdown",
   "id": "ebc22fd1",
   "metadata": {},
   "source": [
    "Check if a string contains a particular word or character"
   ]
  },
  {
   "cell_type": "code",
   "execution_count": 53,
   "id": "28c6b3c1",
   "metadata": {},
   "outputs": [],
   "source": [
    "my_string = 'Albert Einstein'"
   ]
  },
  {
   "cell_type": "code",
   "execution_count": 54,
   "id": "199fee60",
   "metadata": {},
   "outputs": [
    {
     "data": {
      "text/plain": [
       "True"
      ]
     },
     "execution_count": 54,
     "metadata": {},
     "output_type": "execute_result"
    }
   ],
   "source": [
    "'Albert' in my_string"
   ]
  },
  {
   "cell_type": "markdown",
   "id": "6f8aa1a9",
   "metadata": {},
   "source": [
    "#  2 Introduction to Lists"
   ]
  },
  {
   "cell_type": "markdown",
   "id": "c29af84a",
   "metadata": {},
   "source": [
    "\n",
    "* Unlike strings, they are mutable, meaning the elements inside a list can be changed! \n",
    "\n",
    "\n",
    "* Lists are constructed with brackets <code>[]</code> and commas separating every element in the list."
   ]
  },
  {
   "cell_type": "code",
   "execution_count": 2,
   "id": "260e416e",
   "metadata": {},
   "outputs": [],
   "source": [
    "# Assign a list to an variable named my_list\n",
    "my_list = [1,2,3,4]"
   ]
  },
  {
   "cell_type": "code",
   "execution_count": 3,
   "id": "b9cb8f19",
   "metadata": {},
   "outputs": [
    {
     "name": "stdout",
     "output_type": "stream",
     "text": [
      "[1, 2, 3, 4]\n"
     ]
    }
   ],
   "source": [
    "print(my_list)"
   ]
  },
  {
   "cell_type": "code",
   "execution_count": 4,
   "id": "40bc0c8a",
   "metadata": {},
   "outputs": [
    {
     "data": {
      "text/plain": [
       "list"
      ]
     },
     "execution_count": 4,
     "metadata": {},
     "output_type": "execute_result"
    }
   ],
   "source": [
    "type(my_list)"
   ]
  },
  {
   "cell_type": "markdown",
   "id": "c795381a",
   "metadata": {},
   "source": [
    "* We just created a list of integers, but lists can actually hold different object types. For example:"
   ]
  },
  {
   "cell_type": "code",
   "execution_count": 5,
   "id": "8f9a97fc",
   "metadata": {},
   "outputs": [],
   "source": [
    "my_list = ['A string',23,100.232,'o',True]"
   ]
  },
  {
   "cell_type": "code",
   "execution_count": 6,
   "id": "68bb2ca8",
   "metadata": {},
   "outputs": [
    {
     "data": {
      "text/plain": [
       "['A string', 23, 100.232, 'o', True]"
      ]
     },
     "execution_count": 6,
     "metadata": {},
     "output_type": "execute_result"
    }
   ],
   "source": [
    "my_list"
   ]
  },
  {
   "cell_type": "markdown",
   "id": "f0813c67",
   "metadata": {},
   "source": [
    "## List Slicing\n",
    "\n",
    "* We can use a <code>:</code> to perform *slicing* which grabs everything up to a designated point. \n",
    "\n",
    "\n",
    "* The starting index is specified on the left of the <code>:</code> and the ending index is specified on the right of the <code>:</code>. \n",
    "\n",
    "\n",
    "* Remember the element located at the right index is not included."
   ]
  },
  {
   "cell_type": "code",
   "execution_count": 8,
   "id": "e3c3204b",
   "metadata": {},
   "outputs": [
    {
     "name": "stdout",
     "output_type": "stream",
     "text": [
      "['Mean Absolute Error', 'Mean Squared Error', 'Huber Loss', 'Log Loss', 'Hinge Loss']\n"
     ]
    }
   ],
   "source": [
    "# Consider a list of strings\n",
    "loss_functions = ['Mean Absolute Error','Mean Squared Error','Huber Loss','Log Loss','Hinge Loss']\n",
    "print(loss_functions)"
   ]
  },
  {
   "cell_type": "code",
   "execution_count": 9,
   "id": "b039c4da",
   "metadata": {},
   "outputs": [
    {
     "data": {
      "text/plain": [
       "['Mean Squared Error', 'Huber Loss', 'Log Loss']"
      ]
     },
     "execution_count": 9,
     "metadata": {},
     "output_type": "execute_result"
    }
   ],
   "source": [
    "loss_functions[1:4]"
   ]
  },
  {
   "cell_type": "code",
   "execution_count": 10,
   "id": "f961953d",
   "metadata": {},
   "outputs": [
    {
     "data": {
      "text/plain": [
       "['Mean Squared Error', 'Huber Loss', 'Log Loss', 'Hinge Loss']"
      ]
     },
     "execution_count": 10,
     "metadata": {},
     "output_type": "execute_result"
    }
   ],
   "source": [
    "# Grab the LAST FOUR elements of the list\n",
    "loss_functions[-4:]"
   ]
  },
  {
   "cell_type": "markdown",
   "id": "4ff43e9e",
   "metadata": {},
   "source": [
    "## List Operations\n",
    "* Remember we said that lists are mutable as opposed to strings. Lets see how can we change the elements of a list"
   ]
  },
  {
   "cell_type": "code",
   "execution_count": 12,
   "id": "9bcf3d89",
   "metadata": {},
   "outputs": [
    {
     "name": "stdout",
     "output_type": "stream",
     "text": [
      "['Mean Absolute Error', 'Mean Squared Error', 'Huber Loss', 'Log Loss', 'Hinge Loss']\n"
     ]
    }
   ],
   "source": [
    "print(loss_functions)"
   ]
  },
  {
   "cell_type": "code",
   "execution_count": 13,
   "id": "e6bc939b",
   "metadata": {},
   "outputs": [
    {
     "data": {
      "text/plain": [
       "['Mean Absolute Error',\n",
       " 'Mean Squared Error',\n",
       " 'Huber Loss',\n",
       " 'Log Loss',\n",
       " 'Hinge Loss',\n",
       " 'Kullback-Leibler']"
      ]
     },
     "execution_count": 13,
     "metadata": {},
     "output_type": "execute_result"
    }
   ],
   "source": [
    "loss_functions + ['Kullback-Leibler']"
   ]
  },
  {
   "cell_type": "markdown",
   "id": "73da0b8e",
   "metadata": {},
   "source": [
    "::* Note: This doesn't actually change the original list!"
   ]
  },
  {
   "cell_type": "markdown",
   "id": "14c6e665",
   "metadata": {},
   "source": [
    "## List Functions"
   ]
  },
  {
   "cell_type": "markdown",
   "id": "043644fb",
   "metadata": {},
   "source": [
    "### <code>min()</code>\n",
    "\n",
    "\n",
    "* <code>min()</code> function returns the minimum element of the list\n",
    "\n",
    "\n",
    "* <code>min()</code> function only works with lists of similar data types"
   ]
  },
  {
   "cell_type": "code",
   "execution_count": 16,
   "id": "bd11b311",
   "metadata": {},
   "outputs": [],
   "source": [
    "new_list = [6, 9, 1, 3, 5.5]"
   ]
  },
  {
   "cell_type": "code",
   "execution_count": 17,
   "id": "3fce1f49",
   "metadata": {},
   "outputs": [
    {
     "data": {
      "text/plain": [
       "1"
      ]
     },
     "execution_count": 17,
     "metadata": {},
     "output_type": "execute_result"
    }
   ],
   "source": [
    "min(new_list)"
   ]
  },
  {
   "cell_type": "code",
   "execution_count": 18,
   "id": "1fa020f9",
   "metadata": {},
   "outputs": [],
   "source": [
    "my_new_list = ['a','b', 'z' ,'y' , 'm']"
   ]
  },
  {
   "cell_type": "code",
   "execution_count": 19,
   "id": "0682aac7",
   "metadata": {},
   "outputs": [
    {
     "data": {
      "text/plain": [
       "'a'"
      ]
     },
     "execution_count": 19,
     "metadata": {},
     "output_type": "execute_result"
    }
   ],
   "source": [
    "min(my_new_list)"
   ]
  },
  {
   "cell_type": "markdown",
   "id": "c69f4215",
   "metadata": {},
   "source": [
    "### <code>max()</code>\n",
    "\n",
    "\n",
    "* <code>max()</code> function returns the maximum element of the list\n",
    "\n",
    "\n",
    "* <code>max()</code> function only works with lists of similar data types"
   ]
  },
  {
   "cell_type": "code",
   "execution_count": 20,
   "id": "a4e60502",
   "metadata": {},
   "outputs": [],
   "source": [
    "new_list = ['Argue','Burglar','Parent','Linear','shape']"
   ]
  },
  {
   "cell_type": "code",
   "execution_count": 21,
   "id": "98183b6a",
   "metadata": {},
   "outputs": [
    {
     "data": {
      "text/plain": [
       "'shape'"
      ]
     },
     "execution_count": 21,
     "metadata": {},
     "output_type": "execute_result"
    }
   ],
   "source": [
    "max(new_list)"
   ]
  },
  {
   "cell_type": "markdown",
   "id": "e49fa6a7",
   "metadata": {},
   "source": [
    "### <code>sum()</code>\n",
    "\n",
    "\n",
    "* <code>sum()</code> function returns the sum of the elements of the list\n",
    "\n",
    "\n",
    "* <code>sum()</code> function only works with lists of numeric data types"
   ]
  },
  {
   "cell_type": "code",
   "execution_count": 23,
   "id": "a222ed91",
   "metadata": {},
   "outputs": [],
   "source": [
    "new_list = [6, 9, 1, 3, 5.5]"
   ]
  },
  {
   "cell_type": "code",
   "execution_count": 24,
   "id": "6212096a",
   "metadata": {},
   "outputs": [
    {
     "data": {
      "text/plain": [
       "24.5"
      ]
     },
     "execution_count": 24,
     "metadata": {},
     "output_type": "execute_result"
    }
   ],
   "source": [
    "sum(new_list)"
   ]
  },
  {
   "cell_type": "markdown",
   "id": "295c6328",
   "metadata": {},
   "source": [
    "### <code>sorted()</code>\n",
    "\n",
    "\n",
    "* <code>sorted()</code> function returns the sorted list \n",
    "\n",
    "\n",
    "* <code>sorted()</code> function takes reverse boolean as an argument\n",
    "\n",
    "\n",
    "* <code>sorted()</code> function only works on a list with similar data types"
   ]
  },
  {
   "cell_type": "code",
   "execution_count": 26,
   "id": "35305890",
   "metadata": {},
   "outputs": [
    {
     "data": {
      "text/plain": [
       "[6, 9, 1, 3, 5.5]"
      ]
     },
     "execution_count": 26,
     "metadata": {},
     "output_type": "execute_result"
    }
   ],
   "source": [
    "new_list"
   ]
  },
  {
   "cell_type": "code",
   "execution_count": 27,
   "id": "1c1b0eec",
   "metadata": {},
   "outputs": [
    {
     "data": {
      "text/plain": [
       "[1, 3, 5.5, 6, 9]"
      ]
     },
     "execution_count": 27,
     "metadata": {},
     "output_type": "execute_result"
    }
   ],
   "source": [
    "sorted(new_list)"
   ]
  },
  {
   "cell_type": "code",
   "execution_count": 28,
   "id": "6a341135",
   "metadata": {},
   "outputs": [],
   "source": [
    "new_list = ['Argue','Burglar','Parent','Linear','shape']"
   ]
  },
  {
   "cell_type": "code",
   "execution_count": 29,
   "id": "0c95076b",
   "metadata": {},
   "outputs": [
    {
     "data": {
      "text/plain": [
       "['Argue', 'Burglar', 'Linear', 'Parent', 'shape']"
      ]
     },
     "execution_count": 29,
     "metadata": {},
     "output_type": "execute_result"
    }
   ],
   "source": [
    "sorted(new_list)"
   ]
  },
  {
   "cell_type": "code",
   "execution_count": 30,
   "id": "8a713dc2",
   "metadata": {},
   "outputs": [
    {
     "name": "stdout",
     "output_type": "stream",
     "text": [
      "['Argue', 'Burglar', 'Parent', 'Linear', 'shape']\n"
     ]
    }
   ],
   "source": [
    "print(new_list)"
   ]
  },
  {
   "cell_type": "code",
   "execution_count": 32,
   "id": "2cbc712a",
   "metadata": {},
   "outputs": [
    {
     "data": {
      "text/plain": [
       "['shape', 'Parent', 'Linear', 'Burglar', 'Argue']"
      ]
     },
     "execution_count": 32,
     "metadata": {},
     "output_type": "execute_result"
    }
   ],
   "source": [
    "sorted(new_list,reverse=True) #REVERSE LIST"
   ]
  },
  {
   "cell_type": "markdown",
   "id": "16dd4b9e",
   "metadata": {},
   "source": [
    "## List Methods\n",
    "\n",
    "* If you are familiar with another programming language, you might start to draw parallels between arrays in another language and lists in Python. Lists in Python however, tend to be more flexible than arrays in other languages for a two good reasons: they have no fixed size (meaning we don't have to specify how big a list will be), and they have no fixed type constraint (like we've seen above).\n",
    "\n",
    "\n",
    "* Let's go ahead and explore some more special methods for lists:"
   ]
  },
  {
   "cell_type": "code",
   "execution_count": 34,
   "id": "a00a2ce5",
   "metadata": {},
   "outputs": [],
   "source": [
    "# Create a new list\n",
    "my_list = [1,2,3,1,1,1,3,10,5,8]"
   ]
  },
  {
   "cell_type": "markdown",
   "id": "c54b9882",
   "metadata": {},
   "source": [
    "### <code>append()</code> \n",
    "\n",
    "* Use the <code>append()</code> method to permanently add an item to the end of a list.\n",
    "\n",
    "\n",
    "* <code>append()</code> method takes the element which you want to add to the list as an argument"
   ]
  },
  {
   "cell_type": "code",
   "execution_count": 36,
   "id": "31656357",
   "metadata": {},
   "outputs": [
    {
     "data": {
      "text/plain": [
       "[1, 2, 3, 1, 1, 1, 3, 10, 5, 8]"
      ]
     },
     "execution_count": 36,
     "metadata": {},
     "output_type": "execute_result"
    }
   ],
   "source": [
    "# Print the list\n",
    "my_list"
   ]
  },
  {
   "cell_type": "code",
   "execution_count": 37,
   "id": "7936508b",
   "metadata": {},
   "outputs": [
    {
     "data": {
      "text/plain": [
       "10"
      ]
     },
     "execution_count": 37,
     "metadata": {},
     "output_type": "execute_result"
    }
   ],
   "source": [
    "len(my_list)"
   ]
  },
  {
   "cell_type": "code",
   "execution_count": 38,
   "id": "569ad0f9",
   "metadata": {},
   "outputs": [],
   "source": [
    "# Append to the end of the list\n",
    "my_list.append('Append me!')"
   ]
  },
  {
   "cell_type": "code",
   "execution_count": 39,
   "id": "3665445f",
   "metadata": {},
   "outputs": [
    {
     "name": "stdout",
     "output_type": "stream",
     "text": [
      "[1, 2, 3, 1, 1, 1, 3, 10, 5, 8, 'Append me!']\n"
     ]
    }
   ],
   "source": [
    "print(my_list)"
   ]
  },
  {
   "cell_type": "code",
   "execution_count": 40,
   "id": "febf3aed",
   "metadata": {},
   "outputs": [
    {
     "data": {
      "text/plain": [
       "11"
      ]
     },
     "execution_count": 40,
     "metadata": {},
     "output_type": "execute_result"
    }
   ],
   "source": [
    "len(my_list)"
   ]
  },
  {
   "cell_type": "markdown",
   "id": "f359e5ae",
   "metadata": {},
   "source": [
    "* Woah! Calling the <code>append()</code> method changed my list? Yes, the <code>append()</code>  method changes your original list!"
   ]
  },
  {
   "cell_type": "code",
   "execution_count": 41,
   "id": "d481f733",
   "metadata": {},
   "outputs": [],
   "source": [
    "# Show\n",
    "my_list.append(2.73)"
   ]
  },
  {
   "cell_type": "code",
   "execution_count": 42,
   "id": "bb1eba95",
   "metadata": {},
   "outputs": [
    {
     "name": "stdout",
     "output_type": "stream",
     "text": [
      "[1, 2, 3, 1, 1, 1, 3, 10, 5, 8, 'Append me!', 2.73]\n"
     ]
    }
   ],
   "source": [
    "print(my_list)"
   ]
  },
  {
   "cell_type": "markdown",
   "id": "c292af35",
   "metadata": {},
   "source": [
    "### <code>extend()</code>\n",
    "\n",
    "* Use the <code> extend()</code> method to merge a list to an existing list\n",
    "\n",
    "\n",
    "* <code> extend()</code> method takes a list or any iterable(don't worry about it now) as an argument.\n",
    "\n",
    "\n",
    "* Quite helpful when you have two or more lists and you want to merge them together"
   ]
  },
  {
   "cell_type": "code",
   "execution_count": 43,
   "id": "ae67abdd",
   "metadata": {},
   "outputs": [
    {
     "name": "stdout",
     "output_type": "stream",
     "text": [
      "[1, 2, 3, 1, 1, 1, 3, 10, 5, 8, 'Append me!', 2.73]\n"
     ]
    }
   ],
   "source": [
    "print(my_list)"
   ]
  },
  {
   "cell_type": "code",
   "execution_count": 44,
   "id": "903237cd",
   "metadata": {},
   "outputs": [],
   "source": [
    "my_list.extend(['Wubba','Lubba','Dub Dub'])"
   ]
  },
  {
   "cell_type": "code",
   "execution_count": 45,
   "id": "0a08e14e",
   "metadata": {},
   "outputs": [
    {
     "name": "stdout",
     "output_type": "stream",
     "text": [
      "[1, 2, 3, 1, 1, 1, 3, 10, 5, 8, 'Append me!', 2.73, 'Wubba', 'Lubba', 'Dub Dub']\n"
     ]
    }
   ],
   "source": [
    "print(my_list)"
   ]
  },
  {
   "cell_type": "code",
   "execution_count": 46,
   "id": "5dd1fbf5",
   "metadata": {},
   "outputs": [
    {
     "data": {
      "text/plain": [
       "15"
      ]
     },
     "execution_count": 46,
     "metadata": {},
     "output_type": "execute_result"
    }
   ],
   "source": [
    "len(my_list)"
   ]
  },
  {
   "cell_type": "markdown",
   "id": "b326b44c",
   "metadata": {},
   "source": [
    "### <code>pop()</code>\n",
    "\n",
    "* Use <code>pop()</code> to \"pop off\" an item from the list. \n",
    "\n",
    "\n",
    "* By default <code>pop()</code> takes off the element at the last index, but you can also specify which index to pop off. \n",
    "\n",
    "\n",
    "* <code>pop()</code> takes the index as an argument and returns the elenent which was popped off."
   ]
  },
  {
   "cell_type": "code",
   "execution_count": 47,
   "id": "5b34d491",
   "metadata": {},
   "outputs": [
    {
     "name": "stdout",
     "output_type": "stream",
     "text": [
      "[1, 2, 3, 1, 1, 1, 3, 10, 5, 8, 'Append me!', 2.73, 'Wubba', 'Lubba', 'Dub Dub']\n"
     ]
    }
   ],
   "source": [
    "# Print the list\n",
    "print(my_list)"
   ]
  },
  {
   "cell_type": "code",
   "execution_count": 48,
   "id": "bafeae81",
   "metadata": {},
   "outputs": [
    {
     "data": {
      "text/plain": [
       "'Dub Dub'"
      ]
     },
     "execution_count": 48,
     "metadata": {},
     "output_type": "execute_result"
    }
   ],
   "source": [
    "# Pop off the 0 indexed item\n",
    "my_list.pop()"
   ]
  },
  {
   "cell_type": "markdown",
   "id": "7536f342",
   "metadata": {},
   "source": [
    "\\* <code>pop()</code> method changes the list by popping off the element at the specified index"
   ]
  },
  {
   "cell_type": "code",
   "execution_count": 49,
   "id": "4bfbcf92",
   "metadata": {},
   "outputs": [
    {
     "name": "stdout",
     "output_type": "stream",
     "text": [
      "[1, 2, 3, 1, 1, 1, 3, 10, 5, 8, 'Append me!', 2.73, 'Wubba', 'Lubba']\n"
     ]
    }
   ],
   "source": [
    "print(my_list)"
   ]
  },
  {
   "cell_type": "code",
   "execution_count": 50,
   "id": "312d93d3",
   "metadata": {},
   "outputs": [
    {
     "data": {
      "text/plain": [
       "'Lubba'"
      ]
     },
     "execution_count": 50,
     "metadata": {},
     "output_type": "execute_result"
    }
   ],
   "source": [
    "# Assign the popped element, remember default popped index is -1\n",
    "my_list.pop(-1)"
   ]
  },
  {
   "cell_type": "code",
   "execution_count": 51,
   "id": "910ef1b9",
   "metadata": {},
   "outputs": [
    {
     "data": {
      "text/plain": [
       "13"
      ]
     },
     "execution_count": 51,
     "metadata": {},
     "output_type": "execute_result"
    }
   ],
   "source": [
    "len(my_list)"
   ]
  },
  {
   "cell_type": "markdown",
   "id": "32e71ca0",
   "metadata": {},
   "source": [
    "### <code>remove()</code>\n",
    "\n",
    "* Use <code>remove()</code> to remove an item/element from the list. \n",
    "\n",
    "\n",
    "* By default <code>remove()</code> removes the specified element from the list.\n",
    "\n",
    "\n",
    "* <code>remove()</code> takes the element as an argument."
   ]
  },
  {
   "cell_type": "code",
   "execution_count": 57,
   "id": "da990a6f",
   "metadata": {},
   "outputs": [
    {
     "name": "stdout",
     "output_type": "stream",
     "text": [
      "[1, 2, 3, 1, 1, 1, 3, 5, 8, 'Append me!', 2.73, 'Wubba']\n"
     ]
    }
   ],
   "source": [
    "# Print the list\n",
    "print(my_list)"
   ]
  },
  {
   "cell_type": "code",
   "execution_count": 58,
   "id": "e91481a7",
   "metadata": {
    "scrolled": true
   },
   "outputs": [
    {
     "ename": "TypeError",
     "evalue": "list.remove() takes exactly one argument (3 given)",
     "output_type": "error",
     "traceback": [
      "\u001b[1;31m---------------------------------------------------------------------------\u001b[0m",
      "\u001b[1;31mTypeError\u001b[0m                                 Traceback (most recent call last)",
      "\u001b[1;32m~\\AppData\\Local\\Temp\\ipykernel_9472\\1320370633.py\u001b[0m in \u001b[0;36m<module>\u001b[1;34m\u001b[0m\n\u001b[0;32m      1\u001b[0m \u001b[1;31m# Remove the element which you want to\u001b[0m\u001b[1;33m\u001b[0m\u001b[1;33m\u001b[0m\u001b[0m\n\u001b[1;32m----> 2\u001b[1;33m \u001b[0mmy_list\u001b[0m\u001b[1;33m.\u001b[0m\u001b[0mremove\u001b[0m\u001b[1;33m(\u001b[0m\u001b[1;36m10\u001b[0m\u001b[1;33m,\u001b[0m\u001b[1;36m5\u001b[0m\u001b[1;33m,\u001b[0m\u001b[1;36m8\u001b[0m\u001b[1;33m)\u001b[0m\u001b[1;33m\u001b[0m\u001b[1;33m\u001b[0m\u001b[0m\n\u001b[0m",
      "\u001b[1;31mTypeError\u001b[0m: list.remove() takes exactly one argument (3 given)"
     ]
    }
   ],
   "source": [
    "# Remove the element which you want to \n",
    "my_list.remove(10,5,8)"
   ]
  },
  {
   "cell_type": "code",
   "execution_count": 60,
   "id": "303c12b2",
   "metadata": {},
   "outputs": [],
   "source": [
    "# Remove the element which you want to \n",
    "my_list.remove(8)"
   ]
  },
  {
   "cell_type": "code",
   "execution_count": 62,
   "id": "f04cd2b3",
   "metadata": {},
   "outputs": [
    {
     "name": "stdout",
     "output_type": "stream",
     "text": [
      "[1, 2, 3, 1, 1, 1, 3, 5, 'Append me!', 2.73, 'Wubba']\n"
     ]
    }
   ],
   "source": [
    "# Show\n",
    "print(my_list)"
   ]
  },
  {
   "cell_type": "markdown",
   "id": "eaea1ea5",
   "metadata": {},
   "source": [
    "### <code>count()</code>\n",
    "\n",
    "\n",
    "* The <code>count()</code> method returns the total occurrence of a specified element in the list"
   ]
  },
  {
   "cell_type": "code",
   "execution_count": 63,
   "id": "3e7362eb",
   "metadata": {},
   "outputs": [
    {
     "name": "stdout",
     "output_type": "stream",
     "text": [
      "[1, 2, 3, 1, 1, 1, 3, 5, 'Append me!', 2.73, 'Wubba']\n"
     ]
    }
   ],
   "source": [
    "print(my_list)"
   ]
  },
  {
   "cell_type": "code",
   "execution_count": 64,
   "id": "a8c51769",
   "metadata": {},
   "outputs": [
    {
     "data": {
      "text/plain": [
       "1"
      ]
     },
     "execution_count": 64,
     "metadata": {},
     "output_type": "execute_result"
    }
   ],
   "source": [
    "# Count the number of times element 1 occurs in my_list\n",
    "my_list.count('Wubba')"
   ]
  },
  {
   "cell_type": "code",
   "execution_count": 65,
   "id": "8ff908bf",
   "metadata": {},
   "outputs": [
    {
     "data": {
      "text/plain": [
       "4"
      ]
     },
     "execution_count": 65,
     "metadata": {},
     "output_type": "execute_result"
    }
   ],
   "source": [
    "my_list.count(1)"
   ]
  },
  {
   "cell_type": "markdown",
   "id": "d9a80b2f",
   "metadata": {},
   "source": [
    "### <code>index()</code>\n",
    "\n",
    "\n",
    "* The <code>index()</code> method returns the index of a specified element."
   ]
  },
  {
   "cell_type": "code",
   "execution_count": 66,
   "id": "6014d8d1",
   "metadata": {},
   "outputs": [
    {
     "name": "stdout",
     "output_type": "stream",
     "text": [
      "[1, 2, 3, 1, 1, 1, 3, 5, 'Append me!', 2.73, 'Wubba']\n"
     ]
    }
   ],
   "source": [
    "print(my_list)"
   ]
  },
  {
   "cell_type": "code",
   "execution_count": 67,
   "id": "7ac0dba4",
   "metadata": {},
   "outputs": [
    {
     "data": {
      "text/plain": [
       "10"
      ]
     },
     "execution_count": 67,
     "metadata": {},
     "output_type": "execute_result"
    }
   ],
   "source": [
    "my_list.index('Wubba')"
   ]
  },
  {
   "cell_type": "code",
   "execution_count": 68,
   "id": "712cfc14",
   "metadata": {},
   "outputs": [
    {
     "data": {
      "text/plain": [
       "2"
      ]
     },
     "execution_count": 68,
     "metadata": {},
     "output_type": "execute_result"
    }
   ],
   "source": [
    "my_list.index(3)"
   ]
  },
  {
   "cell_type": "markdown",
   "id": "e0905c1d",
   "metadata": {},
   "source": [
    "### <code>sort()</code>\n",
    "\n",
    "* Use <code>sort()</code> to sort the list in either ascending/descending order\n",
    "\n",
    "\n",
    "* The sorting is done in ascending order by default\n",
    "\n",
    "\n",
    "* <code>sort()</code> method takes the reverse boolean as an argument\n",
    "\n",
    "\n",
    "* <code>sort()</code> method only works on a list with elements of same data type"
   ]
  },
  {
   "cell_type": "code",
   "execution_count": 69,
   "id": "59dbbeab",
   "metadata": {},
   "outputs": [],
   "source": [
    "new_list = [6, 9, 1, 3, 5]"
   ]
  },
  {
   "cell_type": "code",
   "execution_count": 70,
   "id": "faa0f022",
   "metadata": {},
   "outputs": [],
   "source": [
    "# Use sort to sort the list (this is permanent!)\n",
    "new_list.sort()"
   ]
  },
  {
   "cell_type": "code",
   "execution_count": 71,
   "id": "a55711ef",
   "metadata": {},
   "outputs": [
    {
     "name": "stdout",
     "output_type": "stream",
     "text": [
      "[1, 3, 5, 6, 9]\n"
     ]
    }
   ],
   "source": [
    "print(new_list)"
   ]
  },
  {
   "cell_type": "code",
   "execution_count": 72,
   "id": "89bd30d8",
   "metadata": {},
   "outputs": [
    {
     "name": "stdout",
     "output_type": "stream",
     "text": [
      "[9, 6, 5, 3, 1]\n"
     ]
    }
   ],
   "source": [
    "# Use the reverse boolean to set the ascending or descending order\n",
    "new_list.sort(reverse=True)\n",
    "print(new_list)"
   ]
  },
  {
   "cell_type": "markdown",
   "id": "c99f3ea1",
   "metadata": {},
   "source": [
    "### <code>reverse()</code>\n",
    "\n",
    "* <code>reverse()</code> method reverses the list"
   ]
  },
  {
   "cell_type": "code",
   "execution_count": 73,
   "id": "d94bc803",
   "metadata": {},
   "outputs": [],
   "source": [
    "my_list = [1, 1, 1, 1, 1.43, 2, 3, 3, 5, 8, 10, 'Lubba', 'Dub Dub']"
   ]
  },
  {
   "cell_type": "code",
   "execution_count": 74,
   "id": "980072fd",
   "metadata": {},
   "outputs": [
    {
     "name": "stdout",
     "output_type": "stream",
     "text": [
      "[1, 1, 1, 1, 1.43, 2, 3, 3, 5, 8, 10, 'Lubba', 'Dub Dub']\n"
     ]
    }
   ],
   "source": [
    "print(my_list)"
   ]
  },
  {
   "cell_type": "code",
   "execution_count": 75,
   "id": "e72f4bcd",
   "metadata": {},
   "outputs": [],
   "source": [
    "my_list.reverse()"
   ]
  },
  {
   "cell_type": "code",
   "execution_count": 76,
   "id": "fc9c4d6b",
   "metadata": {},
   "outputs": [
    {
     "name": "stdout",
     "output_type": "stream",
     "text": [
      "['Dub Dub', 'Lubba', 10, 8, 5, 3, 3, 2, 1.43, 1, 1, 1, 1]\n"
     ]
    }
   ],
   "source": [
    "print(my_list)"
   ]
  },
  {
   "cell_type": "markdown",
   "id": "99a523e9",
   "metadata": {},
   "source": [
    "## Nested Lists\n",
    "\n",
    "* A great feature of of Python data structures is that they support *nesting*. This means we can have data structures within data structures. For example: A list inside a list."
   ]
  },
  {
   "cell_type": "code",
   "execution_count": 78,
   "id": "e239d04f",
   "metadata": {},
   "outputs": [],
   "source": [
    "# Let's make three lists\n",
    "lst_1=[1,2,3]\n",
    "lst_2=['b','a','d']\n",
    "lst_3=[7,8,9]\n",
    "\n",
    "# Make a list of lists to form a matrix\n",
    "list_of_lists = [lst_1,lst_2,lst_3]"
   ]
  },
  {
   "cell_type": "code",
   "execution_count": 79,
   "id": "ef679920",
   "metadata": {},
   "outputs": [
    {
     "name": "stdout",
     "output_type": "stream",
     "text": [
      "[[1, 2, 3], ['b', 'a', 'd'], [7, 8, 9]]\n"
     ]
    }
   ],
   "source": [
    "print(list_of_lists)"
   ]
  },
  {
   "cell_type": "code",
   "execution_count": 80,
   "id": "46de995b",
   "metadata": {},
   "outputs": [
    {
     "data": {
      "text/plain": [
       "list"
      ]
     },
     "execution_count": 80,
     "metadata": {},
     "output_type": "execute_result"
    }
   ],
   "source": [
    "# Show\n",
    "type(list_of_lists)"
   ]
  },
  {
   "cell_type": "code",
   "execution_count": 81,
   "id": "7033ad5f",
   "metadata": {},
   "outputs": [
    {
     "data": {
      "text/plain": [
       "['b', 'a', 'd']"
      ]
     },
     "execution_count": 81,
     "metadata": {},
     "output_type": "execute_result"
    }
   ],
   "source": [
    "# Grab first item in matrix object\n",
    "list_of_lists[1]"
   ]
  },
  {
   "cell_type": "code",
   "execution_count": 84,
   "id": "5570d02c",
   "metadata": {},
   "outputs": [
    {
     "data": {
      "text/plain": [
       "['b', 'a', 'd']"
      ]
     },
     "execution_count": 84,
     "metadata": {},
     "output_type": "execute_result"
    }
   ],
   "source": [
    "list_of_lists[1]"
   ]
  },
  {
   "cell_type": "markdown",
   "id": "76dcee36",
   "metadata": {},
   "source": [
    "#  3 Tuples, Sets & Dictionaries"
   ]
  },
  {
   "cell_type": "markdown",
   "id": "ae4f826b",
   "metadata": {},
   "source": [
    "# Tuples\n",
    "\n",
    "* In Python tuples are very similar to lists, however, unlike lists they are *immutable* meaning they can not be changed. \n",
    "\n",
    "\n",
    "* You would use tuples to present things that shouldn't be changed, such as days of the week, or dates on a calendar. \n",
    "\n",
    "\n",
    "* You'll have an intuition of how to use tuples based on what you've learned about lists. We can treat them very similarly with the <u>major distinction being that tuples are immutable</u>.\n",
    "\n",
    "\n",
    "## Constructing Tuples\n",
    "\n",
    "* The construction of a tuples use <code>()</code> with elements separated by commas."
   ]
  },
  {
   "cell_type": "code",
   "execution_count": 1,
   "id": "169f6882",
   "metadata": {},
   "outputs": [],
   "source": [
    "# Create a tuple\n",
    "my_tuple = (1,'a',3)"
   ]
  },
  {
   "cell_type": "code",
   "execution_count": 2,
   "id": "ae7cf1f4",
   "metadata": {},
   "outputs": [
    {
     "name": "stdout",
     "output_type": "stream",
     "text": [
      "(1, 'a', 3)\n"
     ]
    }
   ],
   "source": [
    "print(my_tuple)"
   ]
  },
  {
   "cell_type": "code",
   "execution_count": 3,
   "id": "c373e719",
   "metadata": {},
   "outputs": [
    {
     "data": {
      "text/plain": [
       "('one', 2, 4.53, 'asbc')"
      ]
     },
     "execution_count": 3,
     "metadata": {},
     "output_type": "execute_result"
    }
   ],
   "source": [
    "# Can also mix object types \n",
    "another_tuple = ('one',2, 4.53, 'asbc')\n",
    "\n",
    "# Show\n",
    "another_tuple"
   ]
  },
  {
   "cell_type": "code",
   "execution_count": 4,
   "id": "0fd71639",
   "metadata": {},
   "outputs": [],
   "source": [
    "my_list = [1]"
   ]
  },
  {
   "cell_type": "code",
   "execution_count": 5,
   "id": "438aec27",
   "metadata": {},
   "outputs": [
    {
     "data": {
      "text/plain": [
       "list"
      ]
     },
     "execution_count": 5,
     "metadata": {},
     "output_type": "execute_result"
    }
   ],
   "source": [
    "type(my_list)"
   ]
  },
  {
   "cell_type": "code",
   "execution_count": 9,
   "id": "8b3d1800",
   "metadata": {},
   "outputs": [],
   "source": [
    "my_tuple = (1,)"
   ]
  },
  {
   "cell_type": "code",
   "execution_count": 10,
   "id": "94663bb0",
   "metadata": {},
   "outputs": [
    {
     "data": {
      "text/plain": [
       "tuple"
      ]
     },
     "execution_count": 10,
     "metadata": {},
     "output_type": "execute_result"
    }
   ],
   "source": [
    "type(my_tuple)"
   ]
  },
  {
   "cell_type": "markdown",
   "id": "6385a7e1",
   "metadata": {},
   "source": [
    "## Tuple Indexing\n",
    "\n",
    "* Indexing work just like in lists.\n",
    "\n",
    "\n",
    "* A tuple index refers to the location of an element in a tuple.\n",
    "\n",
    "\n",
    "* Remember the indexing begins from 0 in Python. \n",
    "\n",
    "\n",
    "* The first element is assigned an index 0, the second element is assigned an index of 1 and so on and so forth."
   ]
  },
  {
   "cell_type": "code",
   "execution_count": 11,
   "id": "da90d98a",
   "metadata": {},
   "outputs": [
    {
     "name": "stdout",
     "output_type": "stream",
     "text": [
      "('one', 2, 4.53, 'asbc')\n"
     ]
    }
   ],
   "source": [
    "print(another_tuple)"
   ]
  },
  {
   "cell_type": "code",
   "execution_count": 12,
   "id": "bdcee80f",
   "metadata": {},
   "outputs": [
    {
     "data": {
      "text/plain": [
       "'one'"
      ]
     },
     "execution_count": 12,
     "metadata": {},
     "output_type": "execute_result"
    }
   ],
   "source": [
    "# Grab the element at index 0, which is the FIRST element\n",
    "another_tuple[0] "
   ]
  },
  {
   "cell_type": "code",
   "execution_count": 13,
   "id": "6f61b356",
   "metadata": {},
   "outputs": [
    {
     "data": {
      "text/plain": [
       "'asbc'"
      ]
     },
     "execution_count": 13,
     "metadata": {},
     "output_type": "execute_result"
    }
   ],
   "source": [
    "# Grab the element at index 3, which is the FOURTH element\n",
    "another_tuple[3]  "
   ]
  },
  {
   "cell_type": "code",
   "execution_count": 14,
   "id": "84bca9c6",
   "metadata": {},
   "outputs": [
    {
     "data": {
      "text/plain": [
       "2"
      ]
     },
     "execution_count": 14,
     "metadata": {},
     "output_type": "execute_result"
    }
   ],
   "source": [
    "# Grab the element at the index -3, which is the THIRD LAST element\n",
    "another_tuple[-3]"
   ]
  },
  {
   "cell_type": "markdown",
   "id": "e8cb91b2",
   "metadata": {},
   "source": [
    "## Tuple Slicing\n",
    "\n",
    "* We can use a <code>:</code> to perform *slicing* which grabs everything up to a designated point. \n",
    "\n",
    "\n",
    "* The starting index is specified on the left of the <code>:</code> and the ending index is specified on the right of the <code>:</code>. \n",
    "\n",
    "\n",
    "* Remember the element located at the right index is not included."
   ]
  },
  {
   "cell_type": "markdown",
   "id": "d17ab549",
   "metadata": {},
   "source": [
    "## Tuple Methods\n",
    "\n",
    "* Tuples have built-in methods, but not as many as lists do."
   ]
  },
  {
   "cell_type": "markdown",
   "id": "efc30779",
   "metadata": {},
   "source": [
    "### <code>index()</code>\n",
    "\n",
    "\n",
    "* The <code>index()</code> method returns the index of a specified element."
   ]
  },
  {
   "cell_type": "code",
   "execution_count": 16,
   "id": "fe43744c",
   "metadata": {},
   "outputs": [],
   "source": [
    "my_tuple =(1,2,3,4,5,6,1,1,2)"
   ]
  },
  {
   "cell_type": "code",
   "execution_count": 17,
   "id": "7c8f4a65",
   "metadata": {},
   "outputs": [
    {
     "data": {
      "text/plain": [
       "1"
      ]
     },
     "execution_count": 17,
     "metadata": {},
     "output_type": "execute_result"
    }
   ],
   "source": [
    "# Use .index to enter a value and return the index\n",
    "my_tuple.index(2)"
   ]
  },
  {
   "cell_type": "markdown",
   "id": "a27e74dc",
   "metadata": {},
   "source": [
    "### <code>count()</code>\n",
    "\n",
    "\n",
    "* The <code>count()</code> method returns the total occurrence of a specified element in a tuple"
   ]
  },
  {
   "cell_type": "code",
   "execution_count": 19,
   "id": "9f03afbe",
   "metadata": {},
   "outputs": [
    {
     "data": {
      "text/plain": [
       "2"
      ]
     },
     "execution_count": 19,
     "metadata": {},
     "output_type": "execute_result"
    }
   ],
   "source": [
    "# Use .count to count the number of times a value appears\n",
    "my_tuple.count(2)"
   ]
  },
  {
   "cell_type": "code",
   "execution_count": 20,
   "id": "20dfd270",
   "metadata": {},
   "outputs": [],
   "source": [
    "my_list = [1,2,3,4]"
   ]
  },
  {
   "cell_type": "code",
   "execution_count": 21,
   "id": "6173a141",
   "metadata": {},
   "outputs": [
    {
     "ename": "SyntaxError",
     "evalue": "invalid syntax (156127718.py, line 1)",
     "output_type": "error",
     "traceback": [
      "\u001b[1;36m  File \u001b[1;32m\"C:\\Users\\admin\\AppData\\Local\\Temp\\ipykernel_14880\\156127718.py\"\u001b[1;36m, line \u001b[1;32m1\u001b[0m\n\u001b[1;33m    my_list.\u001b[0m\n\u001b[1;37m            ^\u001b[0m\n\u001b[1;31mSyntaxError\u001b[0m\u001b[1;31m:\u001b[0m invalid syntax\n"
     ]
    }
   ],
   "source": [
    "my_list."
   ]
  },
  {
   "cell_type": "markdown",
   "id": "2e8ef407",
   "metadata": {},
   "source": [
    "## Immutability\n",
    "\n",
    "* It can't be stressed enough that tuples are immutable."
   ]
  },
  {
   "cell_type": "code",
   "execution_count": 22,
   "id": "89b95663",
   "metadata": {},
   "outputs": [
    {
     "name": "stdout",
     "output_type": "stream",
     "text": [
      "(1, 2, 3, 4, 5, 6, 1, 1, 2)\n"
     ]
    }
   ],
   "source": [
    "print(my_tuple)"
   ]
  },
  {
   "cell_type": "code",
   "execution_count": 23,
   "id": "392f8018",
   "metadata": {},
   "outputs": [
    {
     "ename": "TypeError",
     "evalue": "'tuple' object does not support item assignment",
     "output_type": "error",
     "traceback": [
      "\u001b[1;31m---------------------------------------------------------------------------\u001b[0m",
      "\u001b[1;31mTypeError\u001b[0m                                 Traceback (most recent call last)",
      "\u001b[1;32m~\\AppData\\Local\\Temp\\ipykernel_14880\\2206961586.py\u001b[0m in \u001b[0;36m<module>\u001b[1;34m\u001b[0m\n\u001b[1;32m----> 1\u001b[1;33m \u001b[0mmy_tuple\u001b[0m\u001b[1;33m[\u001b[0m\u001b[1;36m0\u001b[0m\u001b[1;33m]\u001b[0m \u001b[1;33m=\u001b[0m \u001b[1;34m'change'\u001b[0m\u001b[1;33m\u001b[0m\u001b[1;33m\u001b[0m\u001b[0m\n\u001b[0m",
      "\u001b[1;31mTypeError\u001b[0m: 'tuple' object does not support item assignment"
     ]
    }
   ],
   "source": [
    "my_tuple[0] = 'change'"
   ]
  },
  {
   "cell_type": "markdown",
   "id": "38c89a7a",
   "metadata": {},
   "source": [
    "* Because of this immutability, tuples can't grow. Once a tuple is made we can not add to it."
   ]
  },
  {
   "cell_type": "markdown",
   "id": "1d1a7731",
   "metadata": {},
   "source": [
    "* Let us consider a list and lets see if we can do this operation on them"
   ]
  },
  {
   "cell_type": "code",
   "execution_count": 25,
   "id": "1d63aff9",
   "metadata": {},
   "outputs": [],
   "source": [
    "# Create a list\n",
    "my_list = [5,7,9,3,2]"
   ]
  },
  {
   "cell_type": "code",
   "execution_count": 29,
   "id": "c739095c",
   "metadata": {},
   "outputs": [],
   "source": [
    "# Replace the FIRST element with the value 1\n",
    "my_list[0] = \"Ajit\""
   ]
  },
  {
   "cell_type": "code",
   "execution_count": 30,
   "id": "19d5d74a",
   "metadata": {},
   "outputs": [
    {
     "data": {
      "text/plain": [
       "['Ajit', 7, 9, 3, 2]"
      ]
     },
     "execution_count": 30,
     "metadata": {},
     "output_type": "execute_result"
    }
   ],
   "source": [
    "# Our modified list\n",
    "my_list"
   ]
  },
  {
   "cell_type": "markdown",
   "id": "6020ab52",
   "metadata": {},
   "source": [
    "* Tuple does not support methods such as <code>append()</code>, <code>extend()</code>, <code>remove()</code>, <code>pop()</code>"
   ]
  },
  {
   "cell_type": "code",
   "execution_count": 31,
   "id": "3f7b6191",
   "metadata": {},
   "outputs": [
    {
     "ename": "AttributeError",
     "evalue": "'tuple' object has no attribute 'append'",
     "output_type": "error",
     "traceback": [
      "\u001b[1;31m---------------------------------------------------------------------------\u001b[0m",
      "\u001b[1;31mAttributeError\u001b[0m                            Traceback (most recent call last)",
      "\u001b[1;32m~\\AppData\\Local\\Temp\\ipykernel_14880\\2143535512.py\u001b[0m in \u001b[0;36m<module>\u001b[1;34m\u001b[0m\n\u001b[1;32m----> 1\u001b[1;33m \u001b[0mmy_tuple\u001b[0m\u001b[1;33m.\u001b[0m\u001b[0mappend\u001b[0m\u001b[1;33m(\u001b[0m\u001b[1;34m'Great!'\u001b[0m\u001b[1;33m)\u001b[0m\u001b[1;33m\u001b[0m\u001b[1;33m\u001b[0m\u001b[0m\n\u001b[0m",
      "\u001b[1;31mAttributeError\u001b[0m: 'tuple' object has no attribute 'append'"
     ]
    }
   ],
   "source": [
    "my_tuple.append('Great!')"
   ]
  },
  {
   "cell_type": "markdown",
   "id": "5e5aca28",
   "metadata": {},
   "source": [
    "### <code>zip()</code>\n",
    "\n",
    "\n",
    "* <code>zip()</code> function takes multiple lists as arguments and zips them together \n",
    "\n",
    "\n",
    "* This function returns a list of n-paired tuples where n is the number of lists being zipped"
   ]
  },
  {
   "cell_type": "code",
   "execution_count": 32,
   "id": "e1dc5864",
   "metadata": {},
   "outputs": [],
   "source": [
    "city_list = ['Delhi','Patna','Cuttack','Guwahati']\n",
    "river_list = ['Yamuna','Ganga','Mahanadi','Brahmaputra']"
   ]
  },
  {
   "cell_type": "code",
   "execution_count": 33,
   "id": "6f5289fb",
   "metadata": {},
   "outputs": [
    {
     "data": {
      "text/plain": [
       "<zip at 0x1bbd23a2180>"
      ]
     },
     "execution_count": 33,
     "metadata": {},
     "output_type": "execute_result"
    }
   ],
   "source": [
    "zip(city_list, river_list)"
   ]
  },
  {
   "cell_type": "code",
   "execution_count": 34,
   "id": "bdc1aeae",
   "metadata": {},
   "outputs": [],
   "source": [
    "city_and_their_rivers = list(zip(city_list,river_list))"
   ]
  },
  {
   "cell_type": "code",
   "execution_count": 35,
   "id": "f3309253",
   "metadata": {},
   "outputs": [
    {
     "data": {
      "text/plain": [
       "[('Delhi', 'Yamuna'),\n",
       " ('Patna', 'Ganga'),\n",
       " ('Cuttack', 'Mahanadi'),\n",
       " ('Guwahati', 'Brahmaputra')]"
      ]
     },
     "execution_count": 35,
     "metadata": {},
     "output_type": "execute_result"
    }
   ],
   "source": [
    "city_and_their_rivers"
   ]
  },
  {
   "cell_type": "markdown",
   "id": "e04a5128",
   "metadata": {},
   "source": [
    "## When to use Tuples\n",
    "\n",
    "* You may be wondering, \"Why bother using tuples when they have fewer available methods?\" To be honest, tuples are not used as often as lists in programming, but are used when immutability is necessary. If in your program you are passing around an object and need to make sure it does not get changed, then a tuple becomes your solution. It provides a convenient source of data integrity.\n",
    "\n",
    "\n",
    "* You will find them often in functions when you are returning some values\n",
    "\n",
    "\n",
    "* You should now be able to create and use tuples in your programming as well as have an understanding of their immutability."
   ]
  },
  {
   "cell_type": "markdown",
   "id": "dd7e093a",
   "metadata": {},
   "source": [
    "# Sets\n",
    "\n",
    "* Sets are an unordered collection of *unique* elements. We can construct them by using the <code>set()</code> function.\n",
    "\n",
    "\n",
    "* Sets cannot have duplicates.\n",
    "\n",
    "\n",
    "* Sets are mutable just like lists.\n",
    "\n",
    "\n",
    "* You can create a non-empty set with curly braces by specifying elements separated by a comma."
   ]
  },
  {
   "cell_type": "code",
   "execution_count": 37,
   "id": "64f2cfaa",
   "metadata": {},
   "outputs": [],
   "source": [
    "# Create an empty set \n",
    "empty_set = set()"
   ]
  },
  {
   "cell_type": "code",
   "execution_count": 38,
   "id": "697400ea",
   "metadata": {},
   "outputs": [
    {
     "data": {
      "text/plain": [
       "set"
      ]
     },
     "execution_count": 38,
     "metadata": {},
     "output_type": "execute_result"
    }
   ],
   "source": [
    "type(empty_set)"
   ]
  },
  {
   "cell_type": "code",
   "execution_count": 42,
   "id": "93a687ce",
   "metadata": {},
   "outputs": [
    {
     "name": "stdout",
     "output_type": "stream",
     "text": [
      "{1, 4, 6, 'abc'}\n"
     ]
    }
   ],
   "source": [
    "# Create a non-empty set within curly braces\n",
    "non_empty_set = {1,1,6,4,'abc'}\n",
    "print(non_empty_set)"
   ]
  },
  {
   "cell_type": "code",
   "execution_count": 40,
   "id": "97b09c51",
   "metadata": {},
   "outputs": [
    {
     "data": {
      "text/plain": [
       "set"
      ]
     },
     "execution_count": 40,
     "metadata": {},
     "output_type": "execute_result"
    }
   ],
   "source": [
    "type(non_empty_set)"
   ]
  },
  {
   "cell_type": "markdown",
   "id": "3549b335",
   "metadata": {},
   "source": [
    "## A Time for Caution\n",
    "\n",
    "* An empty set cannot be represented as <code>{}</code>, which is reserved for an <u>empty dictionary</u> which we will get to know in a short while"
   ]
  },
  {
   "cell_type": "code",
   "execution_count": 43,
   "id": "920ec5f3",
   "metadata": {},
   "outputs": [],
   "source": [
    "my_object = {}"
   ]
  },
  {
   "cell_type": "code",
   "execution_count": 44,
   "id": "a539d0ae",
   "metadata": {},
   "outputs": [
    {
     "data": {
      "text/plain": [
       "dict"
      ]
     },
     "execution_count": 44,
     "metadata": {},
     "output_type": "execute_result"
    }
   ],
   "source": [
    "type(my_object)"
   ]
  },
  {
   "cell_type": "code",
   "execution_count": 45,
   "id": "2e5234a1",
   "metadata": {},
   "outputs": [],
   "source": [
    "my_set = set()"
   ]
  },
  {
   "cell_type": "code",
   "execution_count": 46,
   "id": "41139979",
   "metadata": {},
   "outputs": [
    {
     "data": {
      "text/plain": [
       "set"
      ]
     },
     "execution_count": 46,
     "metadata": {},
     "output_type": "execute_result"
    }
   ],
   "source": [
    "type(my_set)"
   ]
  },
  {
   "cell_type": "code",
   "execution_count": 47,
   "id": "df952325",
   "metadata": {},
   "outputs": [],
   "source": [
    "# Create a list with repeats\n",
    "my_list = [1,1,2,2,3,4,5,6,1,1]"
   ]
  },
  {
   "cell_type": "code",
   "execution_count": 48,
   "id": "b329b644",
   "metadata": {},
   "outputs": [],
   "source": [
    "# Cast as set to get unique values\n",
    "my_set = set(my_list)"
   ]
  },
  {
   "cell_type": "code",
   "execution_count": 49,
   "id": "1819e16a",
   "metadata": {},
   "outputs": [
    {
     "data": {
      "text/plain": [
       "{1, 2, 3, 4, 5, 6}"
      ]
     },
     "execution_count": 49,
     "metadata": {},
     "output_type": "execute_result"
    }
   ],
   "source": [
    "my_set"
   ]
  },
  {
   "cell_type": "code",
   "execution_count": 50,
   "id": "68cd4965",
   "metadata": {},
   "outputs": [],
   "source": [
    "# A set cannot have mutable items\n",
    "my_set = {1, 2, (3, 4)}"
   ]
  },
  {
   "cell_type": "markdown",
   "id": "c504347a",
   "metadata": {},
   "source": [
    "* We cannot create a set whose any of the elements is a list"
   ]
  },
  {
   "cell_type": "markdown",
   "id": "65e680c4",
   "metadata": {},
   "source": [
    "# But we can have tuples as set elements, they are immutable\n",
    "my_set = {1, 2, (2,3)}"
   ]
  },
  {
   "cell_type": "code",
   "execution_count": 52,
   "id": "cccc5ed2",
   "metadata": {},
   "outputs": [
    {
     "ename": "TypeError",
     "evalue": "unhashable type: 'set'",
     "output_type": "error",
     "traceback": [
      "\u001b[1;31m---------------------------------------------------------------------------\u001b[0m",
      "\u001b[1;31mTypeError\u001b[0m                                 Traceback (most recent call last)",
      "\u001b[1;32m~\\AppData\\Local\\Temp\\ipykernel_14880\\1646729827.py\u001b[0m in \u001b[0;36m<module>\u001b[1;34m\u001b[0m\n\u001b[1;32m----> 1\u001b[1;33m \u001b[0mmy_set\u001b[0m \u001b[1;33m=\u001b[0m \u001b[1;33m{\u001b[0m\u001b[1;36m1\u001b[0m\u001b[1;33m,\u001b[0m\u001b[1;36m2\u001b[0m\u001b[1;33m,\u001b[0m \u001b[1;33m{\u001b[0m\u001b[1;36m3\u001b[0m\u001b[1;33m,\u001b[0m\u001b[1;36m5\u001b[0m\u001b[1;33m}\u001b[0m\u001b[1;33m}\u001b[0m\u001b[1;33m\u001b[0m\u001b[1;33m\u001b[0m\u001b[0m\n\u001b[0m",
      "\u001b[1;31mTypeError\u001b[0m: unhashable type: 'set'"
     ]
    }
   ],
   "source": [
    "my_set = {1,2, {3,5}}"
   ]
  },
  {
   "cell_type": "code",
   "execution_count": 53,
   "id": "551a2a16",
   "metadata": {},
   "outputs": [
    {
     "data": {
      "text/plain": [
       "{(3, 4), 1, 2}"
      ]
     },
     "execution_count": 53,
     "metadata": {},
     "output_type": "execute_result"
    }
   ],
   "source": [
    "my_set"
   ]
  },
  {
   "cell_type": "markdown",
   "id": "c2ccb2d8",
   "metadata": {},
   "source": [
    "### <code>add()</code> \n",
    "\n",
    "\n",
    "*  <code>add()</code> method adds an element to a set\n",
    "\n",
    "\n",
    "* This method takes the element to be added as an argument"
   ]
  },
  {
   "cell_type": "code",
   "execution_count": 55,
   "id": "2348411b",
   "metadata": {},
   "outputs": [],
   "source": [
    "# We add to sets with the add() method\n",
    "my_set = set()\n",
    "my_set.add('a')"
   ]
  },
  {
   "cell_type": "code",
   "execution_count": 56,
   "id": "7671fdc4",
   "metadata": {},
   "outputs": [
    {
     "data": {
      "text/plain": [
       "{'a'}"
      ]
     },
     "execution_count": 56,
     "metadata": {},
     "output_type": "execute_result"
    }
   ],
   "source": [
    "#Show\n",
    "my_set"
   ]
  },
  {
   "cell_type": "code",
   "execution_count": 57,
   "id": "61eb9ddf",
   "metadata": {},
   "outputs": [],
   "source": [
    "# Add a different element\n",
    "my_set.add(2)"
   ]
  },
  {
   "cell_type": "code",
   "execution_count": 58,
   "id": "a5f407aa",
   "metadata": {},
   "outputs": [
    {
     "name": "stdout",
     "output_type": "stream",
     "text": [
      "{2, 'a'}\n"
     ]
    }
   ],
   "source": [
    "#Show\n",
    "print(my_set)"
   ]
  },
  {
   "cell_type": "code",
   "execution_count": 61,
   "id": "79249cad",
   "metadata": {},
   "outputs": [],
   "source": [
    "# Lets add another element 1\n",
    "my_set.add(1)"
   ]
  },
  {
   "cell_type": "code",
   "execution_count": 62,
   "id": "0adeacbc",
   "metadata": {},
   "outputs": [
    {
     "data": {
      "text/plain": [
       "{1, 2, 'a'}"
      ]
     },
     "execution_count": 62,
     "metadata": {},
     "output_type": "execute_result"
    }
   ],
   "source": [
    "#Show\n",
    "my_set"
   ]
  },
  {
   "cell_type": "code",
   "execution_count": 65,
   "id": "26562fdd",
   "metadata": {},
   "outputs": [],
   "source": [
    "# Try to add the same element 1 again\n",
    "my_set.add(1)"
   ]
  },
  {
   "cell_type": "code",
   "execution_count": 67,
   "id": "e11bef16",
   "metadata": {},
   "outputs": [
    {
     "data": {
      "text/plain": [
       "{1, 2, 'a'}"
      ]
     },
     "execution_count": 67,
     "metadata": {},
     "output_type": "execute_result"
    }
   ],
   "source": [
    "# Try to add the same element 1 again\n",
    "\n",
    "my_set"
   ]
  },
  {
   "cell_type": "markdown",
   "id": "75af0a4d",
   "metadata": {},
   "source": [
    "* Notice how it won't place another 1 there. That's because a set is only \n",
    "concerned with unique elements!"
   ]
  },
  {
   "cell_type": "markdown",
   "id": "9574e81f",
   "metadata": {},
   "source": [
    "### <code>update()</code>\n",
    "\n",
    "* <code>update()</code> method helps to add multiple elements to a set"
   ]
  },
  {
   "cell_type": "code",
   "execution_count": 70,
   "id": "cd2f71e2",
   "metadata": {},
   "outputs": [
    {
     "name": "stdout",
     "output_type": "stream",
     "text": [
      "{1, 2, 3, 4, 'a'}\n"
     ]
    }
   ],
   "source": [
    "# add multiple elements\n",
    "my_set.update([2, 3, 4])\n",
    "print(my_set)"
   ]
  },
  {
   "cell_type": "markdown",
   "id": "779d6c8c",
   "metadata": {},
   "source": [
    "### <code>remove()</code>\n",
    "\n",
    "* Use <code>remove()</code> to remove an item/element from the set. \n",
    "\n",
    "\n",
    "* By default <code>remove()</code> removes the specified element from the set.\n",
    "\n",
    "\n",
    "* <code>remove()</code> takes the element as an argument."
   ]
  },
  {
   "cell_type": "code",
   "execution_count": 72,
   "id": "7077c461",
   "metadata": {},
   "outputs": [],
   "source": [
    "non_empty_set = {1,5,6,73,2}"
   ]
  },
  {
   "cell_type": "code",
   "execution_count": 73,
   "id": "6071e508",
   "metadata": {},
   "outputs": [],
   "source": [
    "non_empty_set.remove(5)"
   ]
  },
  {
   "cell_type": "code",
   "execution_count": 74,
   "id": "015f2804",
   "metadata": {},
   "outputs": [
    {
     "data": {
      "text/plain": [
       "{1, 2, 6, 73}"
      ]
     },
     "execution_count": 74,
     "metadata": {},
     "output_type": "execute_result"
    }
   ],
   "source": [
    "non_empty_set"
   ]
  },
  {
   "cell_type": "code",
   "execution_count": 75,
   "id": "472ac782",
   "metadata": {},
   "outputs": [
    {
     "ename": "KeyError",
     "evalue": "45",
     "output_type": "error",
     "traceback": [
      "\u001b[1;31m---------------------------------------------------------------------------\u001b[0m",
      "\u001b[1;31mKeyError\u001b[0m                                  Traceback (most recent call last)",
      "\u001b[1;32m~\\AppData\\Local\\Temp\\ipykernel_14880\\261421333.py\u001b[0m in \u001b[0;36m<module>\u001b[1;34m\u001b[0m\n\u001b[1;32m----> 1\u001b[1;33m \u001b[0mnon_empty_set\u001b[0m\u001b[1;33m.\u001b[0m\u001b[0mremove\u001b[0m\u001b[1;33m(\u001b[0m\u001b[1;36m45\u001b[0m\u001b[1;33m)\u001b[0m\u001b[1;33m\u001b[0m\u001b[1;33m\u001b[0m\u001b[0m\n\u001b[0m",
      "\u001b[1;31mKeyError\u001b[0m: 45"
     ]
    }
   ],
   "source": [
    "non_empty_set.remove(45)"
   ]
  },
  {
   "cell_type": "markdown",
   "id": "9bcbb549",
   "metadata": {},
   "source": [
    "* <code>remove()</code> throws an error when we try to remove an element which is not present in the set"
   ]
  },
  {
   "cell_type": "markdown",
   "id": "7a3d3f1e",
   "metadata": {},
   "source": [
    "### <code>union()</code>\n",
    "\n",
    "\n",
    "* <code>union()</code> method returns the union of two sets\n",
    "\n",
    "\n",
    "* Also denoted by the operator <code>|</code>"
   ]
  },
  {
   "cell_type": "code",
   "execution_count": 77,
   "id": "7fcbd6e1",
   "metadata": {},
   "outputs": [],
   "source": [
    "# Initialize sets A and B\n",
    "A = {1, 2, 3, 4, 5}\n",
    "B = {4, 5, 6, 7, 8}"
   ]
  },
  {
   "cell_type": "code",
   "execution_count": 78,
   "id": "c919fc65",
   "metadata": {},
   "outputs": [
    {
     "data": {
      "text/plain": [
       "{1, 2, 3, 4, 5, 6, 7, 8}"
      ]
     },
     "execution_count": 78,
     "metadata": {},
     "output_type": "execute_result"
    }
   ],
   "source": [
    "A.union(B)"
   ]
  },
  {
   "cell_type": "code",
   "execution_count": 79,
   "id": "f689f7b4",
   "metadata": {},
   "outputs": [
    {
     "data": {
      "text/plain": [
       "{1, 2, 3, 4, 5, 6, 7, 8}"
      ]
     },
     "execution_count": 79,
     "metadata": {},
     "output_type": "execute_result"
    }
   ],
   "source": [
    "# Also denoted by the operator |\n",
    "A | B"
   ]
  },
  {
   "cell_type": "markdown",
   "id": "f2c6d867",
   "metadata": {},
   "source": [
    "### <code>intersection()</code>\n",
    "\n",
    "\n",
    "* <code>intersection()</code> method returns the intersection of two sets\n",
    "\n",
    "\n",
    "* Also denoted by the operator <code>&</code>"
   ]
  },
  {
   "cell_type": "code",
   "execution_count": 81,
   "id": "53c13ac2",
   "metadata": {},
   "outputs": [],
   "source": [
    "A = {1, 2, 3, 4, 5}\n",
    "B = {4, 5, 6, 7, 8}"
   ]
  },
  {
   "cell_type": "code",
   "execution_count": 82,
   "id": "545b1611",
   "metadata": {},
   "outputs": [
    {
     "data": {
      "text/plain": [
       "{4, 5}"
      ]
     },
     "execution_count": 82,
     "metadata": {},
     "output_type": "execute_result"
    }
   ],
   "source": [
    "A.intersection(B)"
   ]
  },
  {
   "cell_type": "code",
   "execution_count": 83,
   "id": "32ebd12f",
   "metadata": {},
   "outputs": [
    {
     "data": {
      "text/plain": [
       "{4, 5}"
      ]
     },
     "execution_count": 83,
     "metadata": {},
     "output_type": "execute_result"
    }
   ],
   "source": [
    "# Also denoted by the operator &\n",
    "A & B"
   ]
  },
  {
   "cell_type": "markdown",
   "id": "99eebb6b",
   "metadata": {},
   "source": [
    "### <code>difference()</code>\n",
    "\n",
    "\n",
    "* <code>difference()</code> method returns the difference of two sets\n",
    "\n",
    "\n",
    "* Difference of the set <code>B</code> from set <code>A</code> i.e, <code>(A - B)</code> is a set of elements that are only in <code>A</code> but not in <code>B</code>\n",
    "\n",
    "\n",
    "* Also denoted by the operator <code>-</code>"
   ]
  },
  {
   "cell_type": "code",
   "execution_count": 85,
   "id": "1707f95c",
   "metadata": {},
   "outputs": [],
   "source": [
    "A = {1, 2, 3, 4, 5}\n",
    "B = {4, 5, 6, 7, 8}"
   ]
  },
  {
   "cell_type": "code",
   "execution_count": 86,
   "id": "e0155763",
   "metadata": {},
   "outputs": [
    {
     "data": {
      "text/plain": [
       "{1, 2, 3}"
      ]
     },
     "execution_count": 86,
     "metadata": {},
     "output_type": "execute_result"
    }
   ],
   "source": [
    "A.difference(B)"
   ]
  },
  {
   "cell_type": "code",
   "execution_count": 87,
   "id": "9e08db3e",
   "metadata": {},
   "outputs": [
    {
     "data": {
      "text/plain": [
       "{1, 2, 3}"
      ]
     },
     "execution_count": 87,
     "metadata": {},
     "output_type": "execute_result"
    }
   ],
   "source": [
    "# Also denoted by the operator -\n",
    "A - B"
   ]
  },
  {
   "cell_type": "code",
   "execution_count": 88,
   "id": "a78674ab",
   "metadata": {},
   "outputs": [
    {
     "data": {
      "text/plain": [
       "{6, 7, 8}"
      ]
     },
     "execution_count": 88,
     "metadata": {},
     "output_type": "execute_result"
    }
   ],
   "source": [
    "B.difference(A)"
   ]
  },
  {
   "cell_type": "code",
   "execution_count": 89,
   "id": "9ce81250",
   "metadata": {},
   "outputs": [
    {
     "data": {
      "text/plain": [
       "{6, 7, 8}"
      ]
     },
     "execution_count": 89,
     "metadata": {},
     "output_type": "execute_result"
    }
   ],
   "source": [
    "B - A"
   ]
  },
  {
   "cell_type": "markdown",
   "id": "d4d42834",
   "metadata": {},
   "source": [
    "### <code>symmetric_difference()</code>\n",
    "\n",
    "\n",
    "* <code>symmetric_difference()</code> method returns the set of elements in A and B but not in both (excluding the intersection)\n",
    "\n",
    "\n",
    "* Also denoted by the operator <code>^</code>"
   ]
  },
  {
   "cell_type": "code",
   "execution_count": 91,
   "id": "3966873e",
   "metadata": {},
   "outputs": [],
   "source": [
    "A = {1, 2, 3, 4, 5}\n",
    "B = {4, 5, 6, 7, 8}"
   ]
  },
  {
   "cell_type": "code",
   "execution_count": 92,
   "id": "fcfbcf3f",
   "metadata": {},
   "outputs": [
    {
     "data": {
      "text/plain": [
       "{1, 2, 3, 6, 7, 8}"
      ]
     },
     "execution_count": 92,
     "metadata": {},
     "output_type": "execute_result"
    }
   ],
   "source": [
    "A.symmetric_difference(B)"
   ]
  },
  {
   "cell_type": "code",
   "execution_count": 93,
   "id": "b8be5f86",
   "metadata": {},
   "outputs": [
    {
     "data": {
      "text/plain": [
       "{1, 2, 3, 6, 7, 8}"
      ]
     },
     "execution_count": 93,
     "metadata": {},
     "output_type": "execute_result"
    }
   ],
   "source": [
    "A^B"
   ]
  },
  {
   "cell_type": "markdown",
   "id": "077761c0",
   "metadata": {},
   "source": [
    "# Dictionaries\n",
    "\n",
    "* We've been learning about *sequences* in Python but now we're going to switch gears and learn about *mappings* in Python. \n",
    "\n",
    "\n",
    "* If you're familiar with other languages you can think of these Dictionaries as hash tables. \n",
    "\n",
    "\n",
    "* So what are mappings? Mappings are a collection of objects that are stored by a *key*, unlike a sequence that stored objects by their relative position. This is an important distinction, since mappings won't retain order since they have objects defined by a key.\n",
    "\n",
    "\n",
    "* A Python dictionary consists of a key and then an associated value. That value can be almost any Python object. So a dictionary object always has elements as key-value pairs\n",
    "\n",
    "\n",
    "## Constructing a Dictionary\n",
    "\n",
    "\n",
    "* A dictionary object is constructed using curly braces <code>{key1:value1,key2:value2,key3:value3}</code>"
   ]
  },
  {
   "cell_type": "code",
   "execution_count": 94,
   "id": "e923b87f",
   "metadata": {},
   "outputs": [],
   "source": [
    "# Make a dictionary with {} and : to signify a key and a value\n",
    "marvel_dict = {'Name':'Thor','Place':'Asgard','Weapon' : 'Hammer', 1:2, 3 : 'power', 'alibies' : ['Ironman','Captain America'], 'abc' : {1:2, 4:5}}"
   ]
  },
  {
   "cell_type": "code",
   "execution_count": 95,
   "id": "01f10db3",
   "metadata": {},
   "outputs": [
    {
     "data": {
      "text/plain": [
       "'Asgard'"
      ]
     },
     "execution_count": 95,
     "metadata": {},
     "output_type": "execute_result"
    }
   ],
   "source": [
    "# Call values by their key\n",
    "marvel_dict['Place']"
   ]
  },
  {
   "cell_type": "code",
   "execution_count": 96,
   "id": "ecdf7da7",
   "metadata": {},
   "outputs": [
    {
     "data": {
      "text/plain": [
       "dict"
      ]
     },
     "execution_count": 96,
     "metadata": {},
     "output_type": "execute_result"
    }
   ],
   "source": [
    "type(marvel_dict)"
   ]
  },
  {
   "cell_type": "code",
   "execution_count": 97,
   "id": "67420030",
   "metadata": {},
   "outputs": [
    {
     "data": {
      "text/plain": [
       "'Thor'"
      ]
     },
     "execution_count": 97,
     "metadata": {},
     "output_type": "execute_result"
    }
   ],
   "source": [
    "marvel_dict['Name']"
   ]
  },
  {
   "cell_type": "code",
   "execution_count": 98,
   "id": "c0c802d1",
   "metadata": {},
   "outputs": [
    {
     "data": {
      "text/plain": [
       "dict"
      ]
     },
     "execution_count": 98,
     "metadata": {},
     "output_type": "execute_result"
    }
   ],
   "source": [
    "type(marvel_dict['abc'])"
   ]
  },
  {
   "cell_type": "markdown",
   "id": "e12cbe07",
   "metadata": {},
   "source": [
    "# Dictionary Methods"
   ]
  },
  {
   "cell_type": "markdown",
   "id": "eafb37d4",
   "metadata": {},
   "source": [
    "### <code>keys()</code>\n",
    "\n",
    "\n",
    "* <code>keys()</code> method returns the list of keys in the dictionary object"
   ]
  },
  {
   "cell_type": "code",
   "execution_count": 100,
   "id": "56a1600e",
   "metadata": {},
   "outputs": [
    {
     "data": {
      "text/plain": [
       "dict_keys(['Name', 'Place', 'Weapon', 1, 3, 'alibies', 'abc'])"
      ]
     },
     "execution_count": 100,
     "metadata": {},
     "output_type": "execute_result"
    }
   ],
   "source": [
    "marvel_dict.keys()"
   ]
  },
  {
   "cell_type": "code",
   "execution_count": 101,
   "id": "7afafdca",
   "metadata": {},
   "outputs": [
    {
     "data": {
      "text/plain": [
       "['Name', 'Place', 'Weapon', 1, 3, 'alibies', 'abc']"
      ]
     },
     "execution_count": 101,
     "metadata": {},
     "output_type": "execute_result"
    }
   ],
   "source": [
    "list(marvel_dict.keys())"
   ]
  },
  {
   "cell_type": "markdown",
   "id": "dfa26526",
   "metadata": {},
   "source": [
    "### <code>values()</code>\n",
    "\n",
    "* <code>values()</code> method returns the list of values in the dictionary object"
   ]
  },
  {
   "cell_type": "code",
   "execution_count": 102,
   "id": "4ad9fc13",
   "metadata": {},
   "outputs": [
    {
     "data": {
      "text/plain": [
       "['Thor',\n",
       " 'Asgard',\n",
       " 'Hammer',\n",
       " 2,\n",
       " 'power',\n",
       " ['Ironman', 'Captain America'],\n",
       " {1: 2, 4: 5}]"
      ]
     },
     "execution_count": 102,
     "metadata": {},
     "output_type": "execute_result"
    }
   ],
   "source": [
    "list(marvel_dict.values())"
   ]
  },
  {
   "cell_type": "markdown",
   "id": "ac344005",
   "metadata": {},
   "source": [
    "### <code>items()</code>\n",
    "\n",
    "\n",
    "* <code>items()</code> method returns the list of the keys and values "
   ]
  },
  {
   "cell_type": "code",
   "execution_count": 104,
   "id": "bd6f5787",
   "metadata": {},
   "outputs": [
    {
     "data": {
      "text/plain": [
       "[('Name', 'Thor'),\n",
       " ('Place', 'Asgard'),\n",
       " ('Weapon', 'Hammer'),\n",
       " (1, 2),\n",
       " (3, 'power'),\n",
       " ('alibies', ['Ironman', 'Captain America']),\n",
       " ('abc', {1: 2, 4: 5})]"
      ]
     },
     "execution_count": 104,
     "metadata": {},
     "output_type": "execute_result"
    }
   ],
   "source": [
    "# Get the keys and their corresponding values\n",
    "list(marvel_dict.items())"
   ]
  },
  {
   "cell_type": "markdown",
   "id": "0a58c566",
   "metadata": {},
   "source": [
    "* We can also use the <code>get()</code> method to extract a particular value of key-value pair. \n"
   ]
  },
  {
   "cell_type": "code",
   "execution_count": 106,
   "id": "8d0ba099",
   "metadata": {},
   "outputs": [
    {
     "data": {
      "text/plain": [
       "'Asgard'"
      ]
     },
     "execution_count": 106,
     "metadata": {},
     "output_type": "execute_result"
    }
   ],
   "source": [
    "marvel_dict.get('Place')"
   ]
  },
  {
   "cell_type": "markdown",
   "id": "5beb2792",
   "metadata": {},
   "source": [
    "### <code>get()</code>\n",
    "* <code>get()</code> method takes the key as an argument and returns None if the key is not found in the dictionary.\n",
    "\n",
    "\n",
    "* We can also set the value to return if a key is not found. This will be passed as the second argument in <code>get()</code>"
   ]
  },
  {
   "cell_type": "code",
   "execution_count": 107,
   "id": "f6275800",
   "metadata": {},
   "outputs": [
    {
     "data": {
      "text/plain": [
       "'Asgard'"
      ]
     },
     "execution_count": 107,
     "metadata": {},
     "output_type": "execute_result"
    }
   ],
   "source": [
    "marvel_dict.get('Place')"
   ]
  },
  {
   "cell_type": "markdown",
   "id": "51460258",
   "metadata": {},
   "source": [
    "Its important to note that dictionaries are very flexible in the data types they can hold. For example:"
   ]
  },
  {
   "cell_type": "code",
   "execution_count": 108,
   "id": "393df42e",
   "metadata": {},
   "outputs": [],
   "source": [
    "employee_dict = {'Name':'Sanket','Skills':['Python','Machine Learning','Deep Learning'],'Band':6.0,'Promotion Year':[2016,2018,2020]}"
   ]
  },
  {
   "cell_type": "code",
   "execution_count": 109,
   "id": "d92c3ee0",
   "metadata": {},
   "outputs": [
    {
     "data": {
      "text/plain": [
       "4"
      ]
     },
     "execution_count": 109,
     "metadata": {},
     "output_type": "execute_result"
    }
   ],
   "source": [
    "len(employee_dict.keys())"
   ]
  },
  {
   "cell_type": "code",
   "execution_count": 110,
   "id": "7fc6c20b",
   "metadata": {},
   "outputs": [
    {
     "data": {
      "text/plain": [
       "['Python', 'Machine Learning', 'Deep Learning']"
      ]
     },
     "execution_count": 110,
     "metadata": {},
     "output_type": "execute_result"
    }
   ],
   "source": [
    "# Let's call items from the dictionary\n",
    "employee_dict['Skills']"
   ]
  },
  {
   "cell_type": "code",
   "execution_count": 111,
   "id": "c672eafb",
   "metadata": {},
   "outputs": [
    {
     "data": {
      "text/plain": [
       "'Python'"
      ]
     },
     "execution_count": 111,
     "metadata": {},
     "output_type": "execute_result"
    }
   ],
   "source": [
    "employee_dict['Skills'][0]"
   ]
  },
  {
   "cell_type": "code",
   "execution_count": 112,
   "id": "762ae2e2",
   "metadata": {},
   "outputs": [
    {
     "data": {
      "text/plain": [
       "'PYTHON'"
      ]
     },
     "execution_count": 112,
     "metadata": {},
     "output_type": "execute_result"
    }
   ],
   "source": [
    "# Can then even call methods on that value\n",
    "employee_dict['Skills'][0].upper()"
   ]
  },
  {
   "cell_type": "code",
   "execution_count": 113,
   "id": "56ec7160",
   "metadata": {},
   "outputs": [],
   "source": [
    "# Add a new key\n",
    "\n",
    "employee_dict['Designation'] ='Senior Data Scientist'"
   ]
  },
  {
   "cell_type": "markdown",
   "id": "b4d65e00",
   "metadata": {},
   "source": [
    "### <code>update()</code>\n",
    "\n",
    "* You can add an element which is a key-value pair using the <code>update()</code> method \n",
    "\n",
    "* This method takes a dictionary as an argument"
   ]
  },
  {
   "cell_type": "code",
   "execution_count": 115,
   "id": "e69c2c94",
   "metadata": {},
   "outputs": [],
   "source": [
    "employee_dict.update({'Salary':'2,000,000'})"
   ]
  },
  {
   "cell_type": "code",
   "execution_count": 116,
   "id": "8ba9e365",
   "metadata": {},
   "outputs": [
    {
     "data": {
      "text/plain": [
       "{'Name': 'Sanket',\n",
       " 'Skills': ['Python', 'Machine Learning', 'Deep Learning'],\n",
       " 'Band': 6.0,\n",
       " 'Promotion Year': [2016, 2018, 2020],\n",
       " 'Designation': 'Senior Data Scientist',\n",
       " 'Salary': '2,000,000'}"
      ]
     },
     "execution_count": 116,
     "metadata": {},
     "output_type": "execute_result"
    }
   ],
   "source": [
    "employee_dict"
   ]
  },
  {
   "cell_type": "code",
   "execution_count": 117,
   "id": "873edeb0",
   "metadata": {},
   "outputs": [],
   "source": [
    "# Subtract 123 from the value\n",
    "employee_dict['Name'] = employee_dict['Name'] + ' ' + 'Raj'"
   ]
  },
  {
   "cell_type": "code",
   "execution_count": 118,
   "id": "1c6babfc",
   "metadata": {},
   "outputs": [
    {
     "data": {
      "text/plain": [
       "{'Name': 'Sanket Raj',\n",
       " 'Skills': ['Python', 'Machine Learning', 'Deep Learning'],\n",
       " 'Band': 6.0,\n",
       " 'Promotion Year': [2016, 2018, 2020],\n",
       " 'Designation': 'Senior Data Scientist',\n",
       " 'Salary': '2,000,000'}"
      ]
     },
     "execution_count": 118,
     "metadata": {},
     "output_type": "execute_result"
    }
   ],
   "source": [
    "#Check\n",
    "employee_dict"
   ]
  },
  {
   "cell_type": "markdown",
   "id": "9fe6ae3c",
   "metadata": {},
   "source": [
    "### <code>dict()</code>\n",
    "\n",
    "\n",
    "* We can also create dictionary objects from sequence of items which are pairs. This is done using the <code>dict()</code>method\n",
    "\n",
    "\n",
    "*  <code>dict()</code> function takes the list of paired elements as argument"
   ]
  },
  {
   "cell_type": "code",
   "execution_count": 119,
   "id": "4c1234f6",
   "metadata": {},
   "outputs": [],
   "source": [
    "country_list = ['India','Australia','United States','England']\n",
    "city_list = ['New Delhi', 'Canberra' , 'Washington DC','London']"
   ]
  },
  {
   "cell_type": "code",
   "execution_count": 120,
   "id": "7e449f9d",
   "metadata": {},
   "outputs": [],
   "source": [
    "country_city_list = list(zip(country_list,city_list))"
   ]
  },
  {
   "cell_type": "code",
   "execution_count": 121,
   "id": "574543e2",
   "metadata": {},
   "outputs": [
    {
     "data": {
      "text/plain": [
       "[('India', 'New Delhi'),\n",
       " ('Australia', 'Canberra'),\n",
       " ('United States', 'Washington DC'),\n",
       " ('England', 'London')]"
      ]
     },
     "execution_count": 121,
     "metadata": {},
     "output_type": "execute_result"
    }
   ],
   "source": [
    "country_city_list"
   ]
  },
  {
   "cell_type": "code",
   "execution_count": 122,
   "id": "88c68d80",
   "metadata": {},
   "outputs": [
    {
     "data": {
      "text/plain": [
       "{'India': 'New Delhi',\n",
       " 'Australia': 'Canberra',\n",
       " 'United States': 'Washington DC',\n",
       " 'England': 'London'}"
      ]
     },
     "execution_count": 122,
     "metadata": {},
     "output_type": "execute_result"
    }
   ],
   "source": [
    "dict(country_city_list)"
   ]
  },
  {
   "cell_type": "markdown",
   "id": "eecc2bd7",
   "metadata": {},
   "source": [
    "### <code>pop()</code>\n",
    "\n",
    "\n",
    "* <code>pop()</code> method removes and returns an element from a dictionary having the given key.\n",
    "\n",
    "* This method takes two arguments/parameters (i) key - key which is to be searched for removal, (ii) default - value which is to be returned when the key is not in the dictionary"
   ]
  },
  {
   "cell_type": "code",
   "execution_count": 125,
   "id": "5a07c9b6",
   "metadata": {},
   "outputs": [],
   "source": [
    "# Let us create a list of paired tuples\n",
    "country_city_tuples = [('India','New Delhi'),('Australia','Canberra'),('United States','Washington DC'),('England','London')]"
   ]
  },
  {
   "cell_type": "code",
   "execution_count": 126,
   "id": "9b05956b",
   "metadata": {},
   "outputs": [
    {
     "data": {
      "text/plain": [
       "'London'"
      ]
     },
     "execution_count": 126,
     "metadata": {},
     "output_type": "execute_result"
    }
   ],
   "source": [
    "country_city_dict = dict(country_city_tuples)\n",
    "country_city_dict.pop('England')"
   ]
  },
  {
   "cell_type": "code",
   "execution_count": 127,
   "id": "0ca4d266",
   "metadata": {},
   "outputs": [
    {
     "data": {
      "text/plain": [
       "{'India': 'New Delhi',\n",
       " 'Australia': 'Canberra',\n",
       " 'United States': 'Washington DC'}"
      ]
     },
     "execution_count": 127,
     "metadata": {},
     "output_type": "execute_result"
    }
   ],
   "source": [
    "country_city_dict"
   ]
  },
  {
   "cell_type": "markdown",
   "id": "5e6343b3",
   "metadata": {},
   "source": [
    "### We can use the <code>zip()</code> and <code>dict()</code> methods to create \n",
    "\n",
    "---\n",
    "\n",
    "a dictionary object from two lists"
   ]
  },
  {
   "cell_type": "code",
   "execution_count": 128,
   "id": "7caff9ef",
   "metadata": {},
   "outputs": [],
   "source": [
    "name = [\"Manjeet\", \"Nikhil\", \"Shambhavi\"]\n",
    "marks = [40, 50, 60]"
   ]
  },
  {
   "cell_type": "code",
   "execution_count": 129,
   "id": "dc2ea7f6",
   "metadata": {},
   "outputs": [],
   "source": [
    "mapped = zip(name, marks)"
   ]
  },
  {
   "cell_type": "code",
   "execution_count": 130,
   "id": "e612a62d",
   "metadata": {},
   "outputs": [
    {
     "data": {
      "text/plain": [
       "<zip at 0x1bbd241cc80>"
      ]
     },
     "execution_count": 130,
     "metadata": {},
     "output_type": "execute_result"
    }
   ],
   "source": [
    "mapped"
   ]
  },
  {
   "cell_type": "code",
   "execution_count": 131,
   "id": "f24293d7",
   "metadata": {},
   "outputs": [
    {
     "name": "stdout",
     "output_type": "stream",
     "text": [
      "{'Manjeet': 40, 'Nikhil': 50, 'Shambhavi': 60}\n"
     ]
    }
   ],
   "source": [
    "print(dict(mapped))"
   ]
  },
  {
   "cell_type": "code",
   "execution_count": 132,
   "id": "ab712f25",
   "metadata": {},
   "outputs": [],
   "source": [
    "name = [\"Manjeet\", \"Nikhil\", \"Shambhavi\"]\n",
    "marks = [40, 50, 60,80]"
   ]
  },
  {
   "cell_type": "code",
   "execution_count": 133,
   "id": "8e0e7ae5",
   "metadata": {},
   "outputs": [],
   "source": [
    "mapped = zip(name, marks)"
   ]
  },
  {
   "cell_type": "code",
   "execution_count": 134,
   "id": "8058eb36",
   "metadata": {},
   "outputs": [
    {
     "name": "stdout",
     "output_type": "stream",
     "text": [
      "{'Manjeet': 40, 'Nikhil': 50, 'Shambhavi': 60}\n"
     ]
    }
   ],
   "source": [
    "print(dict(mapped))"
   ]
  },
  {
   "cell_type": "code",
   "execution_count": null,
   "id": "d11e2b7e",
   "metadata": {},
   "outputs": [],
   "source": []
  }
 ],
 "metadata": {
  "kernelspec": {
   "display_name": "Python 3 (ipykernel)",
   "language": "python",
   "name": "python3"
  },
  "language_info": {
   "codemirror_mode": {
    "name": "ipython",
    "version": 3
   },
   "file_extension": ".py",
   "mimetype": "text/x-python",
   "name": "python",
   "nbconvert_exporter": "python",
   "pygments_lexer": "ipython3",
   "version": "3.9.13"
  }
 },
 "nbformat": 4,
 "nbformat_minor": 5
}
