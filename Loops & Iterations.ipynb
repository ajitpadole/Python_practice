{
 "cells": [
  {
   "cell_type": "markdown",
   "id": "9be4be85",
   "metadata": {},
   "source": [
    "Loops are important in Python or in any other programming language as they help you to execute a block of code repeatedly. You will often come face to face with situations where you would need to use a piece of code over and over but you don't want to write the same line of code multiple times."
   ]
  },
  {
   "cell_type": "markdown",
   "id": "7347b46e",
   "metadata": {},
   "source": [
    "In Python we have mainly two different types of loops :\n",
    "\n",
    "for loop : \n",
    "In the context of most data science work, Python for loops are used to loop through an iterable object (like a list, tuple, set, etc.) and perform the same action for each entry. For example, a for loop would allow us to iterate through a list, performing the same action on each item in the list.\n",
    "\n",
    "while loop : \n",
    "The while loop is somewhat similar to an if statement, it executes the code inside, if the condition is True. However, as opposed to the if statement, the while loop continues to execute the code repeatedly as long as the condition is True."
   ]
  },
  {
   "cell_type": "markdown",
   "id": "ea07d055",
   "metadata": {},
   "source": [
    "# for loops"
   ]
  },
  {
   "cell_type": "markdown",
   "id": "749b1c34",
   "metadata": {},
   "source": [
    "\n",
    "A for loop acts as an iterator in Python; it goes through items that are in a sequence or any other iterable item. Iterable is an object, which one can iterate over. Objects that we've learned about that we can iterate over include strings, lists, tuples, and even built-in iterables for dictionaries, such as keys or values.\n",
    "\n",
    "Here's the general format for a for loop in Python:"
   ]
  },
  {
   "cell_type": "raw",
   "id": "aa2a4216",
   "metadata": {},
   "source": [
    "for item in object:\n",
    "    statements to do stuff"
   ]
  },
  {
   "cell_type": "markdown",
   "id": "344487ef",
   "metadata": {},
   "source": [
    "### <u> Example 1</u>\n",
    "\n",
    "\n",
    "#### Let us print each element of our list of strings using a for loop statement\n",
    "\n",
    "\n"
   ]
  },
  {
   "cell_type": "code",
   "execution_count": 1,
   "id": "ce8c34a4",
   "metadata": {},
   "outputs": [],
   "source": [
    "# Consider a list of strings \n",
    "\n",
    "got_houses = ['Stark', 'Arryn', 'Baratheon', 'Tully', 'Greyjoy', 'Lannister', 'Tyrell', 'Martell', 'Targaryen']"
   ]
  },
  {
   "cell_type": "code",
   "execution_count": 2,
   "id": "d0163c71",
   "metadata": {},
   "outputs": [
    {
     "name": "stdout",
     "output_type": "stream",
     "text": [
      "House Targaryen\n",
      "House Martell\n",
      "House Tyrell\n",
      "House Lannister\n",
      "House Greyjoy\n",
      "House Tully\n",
      "House Baratheon\n",
      "House Arryn\n",
      "House Stark\n"
     ]
    }
   ],
   "source": [
    "# A simple for loop to print the houses of GOT universe\n",
    "for house in got_houses[::-1]:\n",
    "  print(f\"House {house}\")"
   ]
  },
  {
   "cell_type": "markdown",
   "id": "b7873169",
   "metadata": {},
   "source": [
    "### Another interesting way to loop through the elements of a list is to use the <code>enumerate()</code> function. Using enumerate requires us two iterators index and element"
   ]
  },
  {
   "cell_type": "code",
   "execution_count": 3,
   "id": "ad6b5954",
   "metadata": {},
   "outputs": [
    {
     "data": {
      "text/plain": [
       "['Stark',\n",
       " 'Arryn',\n",
       " 'Baratheon',\n",
       " 'Tully',\n",
       " 'Greyjoy',\n",
       " 'Lannister',\n",
       " 'Tyrell',\n",
       " 'Martell',\n",
       " 'Targaryen']"
      ]
     },
     "execution_count": 3,
     "metadata": {},
     "output_type": "execute_result"
    }
   ],
   "source": [
    "got_houses"
   ]
  },
  {
   "cell_type": "code",
   "execution_count": 7,
   "id": "69d3154a",
   "metadata": {},
   "outputs": [
    {
     "name": "stdout",
     "output_type": "stream",
     "text": [
      "the house name is Stark and number is 1\n",
      "the house name is Arryn and number is 2\n",
      "the house name is Baratheon and number is 3\n",
      "the house name is Tully and number is 4\n",
      "the house name is Greyjoy and number is 5\n",
      "the house name is Lannister and number is 6\n",
      "the house name is Tyrell and number is 7\n",
      "the house name is Martell and number is 8\n",
      "the house name is Targaryen and number is 9\n"
     ]
    }
   ],
   "source": [
    "for number,house in enumerate(got_houses):\n",
    "    print(f\"the house name is {house} and number is {number+1}\")"
   ]
  },
  {
   "cell_type": "code",
   "execution_count": 9,
   "id": "b2cba15e",
   "metadata": {},
   "outputs": [
    {
     "data": {
      "text/plain": [
       "[(0, 'Stark'),\n",
       " (1, 'Arryn'),\n",
       " (2, 'Baratheon'),\n",
       " (3, 'Tully'),\n",
       " (4, 'Greyjoy'),\n",
       " (5, 'Lannister'),\n",
       " (6, 'Tyrell'),\n",
       " (7, 'Martell'),\n",
       " (8, 'Targaryen')]"
      ]
     },
     "execution_count": 9,
     "metadata": {},
     "output_type": "execute_result"
    }
   ],
   "source": [
    "list(enumerate(got_houses))"
   ]
  },
  {
   "cell_type": "markdown",
   "id": "aed60aeb",
   "metadata": {},
   "source": [
    "Example 2\n",
    "Suppose you are given a list of numbers. You need to find the corresponding squares of these numbers and zip them together in a dictionary"
   ]
  },
  {
   "cell_type": "code",
   "execution_count": 10,
   "id": "15a639d1",
   "metadata": {},
   "outputs": [],
   "source": [
    "# The list of numbers\n",
    "list_of_numbers = [1, 2, 4, 6, 11, 14, 17, 20]"
   ]
  },
  {
   "cell_type": "code",
   "execution_count": 12,
   "id": "a4049b68",
   "metadata": {},
   "outputs": [
    {
     "name": "stdout",
     "output_type": "stream",
     "text": [
      "the number 1 is squree 1\n",
      "the number 2 is squree 4\n",
      "the number 4 is squree 16\n",
      "the number 6 is squree 36\n",
      "the number 11 is squree 121\n",
      "the number 14 is squree 196\n",
      "the number 17 is squree 289\n",
      "the number 20 is squree 400\n"
     ]
    }
   ],
   "source": [
    "for number in list_of_numbers:\n",
    "    squree_of_number = number**2\n",
    "    print(f\"the number {number} is squree {squree_of_number}\")\n",
    "    \n",
    "    "
   ]
  },
  {
   "cell_type": "markdown",
   "id": "3d8302ad",
   "metadata": {},
   "source": [
    "### So this was a pretty straight forward way to print out these squares.\n",
    "\n",
    "### <u>Example 3</u>\n",
    "#### Imagine a scenario where we not only needed to print these numbers for each iteration but also we need to store these elements somewhere else"
   ]
  },
  {
   "cell_type": "code",
   "execution_count": 13,
   "id": "c58496bb",
   "metadata": {},
   "outputs": [
    {
     "data": {
      "text/plain": [
       "[1, 2, 4, 6, 11, 14, 17, 20]"
      ]
     },
     "execution_count": 13,
     "metadata": {},
     "output_type": "execute_result"
    }
   ],
   "source": [
    "list_of_numbers"
   ]
  },
  {
   "cell_type": "code",
   "execution_count": 14,
   "id": "d93bd054",
   "metadata": {},
   "outputs": [
    {
     "name": "stdout",
     "output_type": "stream",
     "text": [
      "The list of squared numbers is [1, 4, 16, 36, 121, 196, 289, 400]\n"
     ]
    }
   ],
   "source": [
    "# Let us first initialize a list where we will be appending the squares in each iteration\n",
    "\n",
    "squared_numbers = []\n",
    "\n",
    "for number in list_of_numbers:\n",
    "  square = number**2\n",
    "  # Use the append method to add the numbers one by one to our list\n",
    "  squared_numbers.append(square)\n",
    "  # print(squared_numbers)\n",
    "\n",
    "print(f\"The list of squared numbers is {squared_numbers}\")"
   ]
  },
  {
   "cell_type": "code",
   "execution_count": 15,
   "id": "86f63045",
   "metadata": {},
   "outputs": [
    {
     "name": "stdout",
     "output_type": "stream",
     "text": [
      "[1, 2, 4, 6, 11, 14, 17, 20]\n",
      "[1, 4, 16, 36, 121, 196, 289, 400]\n"
     ]
    }
   ],
   "source": [
    "print(list_of_numbers)\n",
    "print(squared_numbers)"
   ]
  },
  {
   "cell_type": "code",
   "execution_count": 19,
   "id": "42efd628",
   "metadata": {},
   "outputs": [],
   "source": [
    "list1 = list(zip(list_of_numbers,squared_numbers))"
   ]
  },
  {
   "cell_type": "code",
   "execution_count": 20,
   "id": "004159a0",
   "metadata": {},
   "outputs": [
    {
     "name": "stdout",
     "output_type": "stream",
     "text": [
      "[(1, 1), (2, 4), (4, 16), (6, 36), (11, 121), (14, 196), (17, 289), (20, 400)]\n"
     ]
    }
   ],
   "source": [
    "print(list1)"
   ]
  },
  {
   "cell_type": "code",
   "execution_count": 22,
   "id": "a9a783b0",
   "metadata": {},
   "outputs": [],
   "source": [
    "list11 = dict(zip(list_of_numbers,squared_numbers))"
   ]
  },
  {
   "cell_type": "code",
   "execution_count": 23,
   "id": "f3804c4d",
   "metadata": {},
   "outputs": [
    {
     "name": "stdout",
     "output_type": "stream",
     "text": [
      "{1: 1, 2: 4, 4: 16, 6: 36, 11: 121, 14: 196, 17: 289, 20: 400}\n"
     ]
    }
   ],
   "source": [
    "print(list11)"
   ]
  },
  {
   "cell_type": "markdown",
   "id": "bf866c3a",
   "metadata": {},
   "source": [
    "### <u> Example 4</u>\n",
    "####  Now suppose we only want to print the squares of those numbers which are even. Let us see how we can do this"
   ]
  },
  {
   "cell_type": "code",
   "execution_count": 24,
   "id": "49304e22",
   "metadata": {},
   "outputs": [
    {
     "name": "stdout",
     "output_type": "stream",
     "text": [
      "[1, 2, 4, 6, 11, 14, 17, 20]\n"
     ]
    }
   ],
   "source": [
    "print(list_of_numbers)"
   ]
  },
  {
   "cell_type": "code",
   "execution_count": 28,
   "id": "efcef827",
   "metadata": {},
   "outputs": [
    {
     "name": "stdout",
     "output_type": "stream",
     "text": [
      "the number is 1 and squree is odd\n",
      "the number is 2 and squree is 4\n",
      "the number is 4 and squree is 16\n",
      "the number is 6 and squree is 36\n",
      "the number is 11 and squree is odd\n",
      "the number is 14 and squree is 196\n",
      "the number is 17 and squree is odd\n",
      "the number is 20 and squree is 400\n"
     ]
    }
   ],
   "source": [
    "for number in list_of_numbers:\n",
    "    if number%2 == 0:\n",
    "        squree_num = number**2\n",
    "        print(f\"the number is {number} and squree is {squree_num}\")\n",
    "    else:\n",
    "        print(f\"the number is {number} and squree is odd Number\")"
   ]
  },
  {
   "cell_type": "markdown",
   "id": "28912acd",
   "metadata": {},
   "source": [
    "### <code>range()</code> function is a pretty useful function to get a sequence of numbers. It takes three arguments : start, stop, step"
   ]
  },
  {
   "cell_type": "code",
   "execution_count": 29,
   "id": "75a66066",
   "metadata": {},
   "outputs": [
    {
     "data": {
      "text/plain": [
       "[0, 1, 2, 3, 4, 5, 6, 7, 8, 9]"
      ]
     },
     "execution_count": 29,
     "metadata": {},
     "output_type": "execute_result"
    }
   ],
   "source": [
    "list(range(10))"
   ]
  },
  {
   "cell_type": "code",
   "execution_count": 30,
   "id": "e2ad1608",
   "metadata": {},
   "outputs": [
    {
     "name": "stdout",
     "output_type": "stream",
     "text": [
      "The square of 0 is 0\n",
      "The square of 2 is 4\n",
      "The square of 4 is 16\n",
      "The square of 6 is 36\n",
      "The square of 8 is 64\n"
     ]
    }
   ],
   "source": [
    "# Let us first print the squares\n",
    "for number in range(0,10,2):\n",
    "  squared_number = number**2\n",
    "  print(f\"The square of {number} is {squared_number}\")"
   ]
  },
  {
   "cell_type": "code",
   "execution_count": 31,
   "id": "0632cdc9",
   "metadata": {},
   "outputs": [
    {
     "name": "stdout",
     "output_type": "stream",
     "text": [
      "2\n",
      "4\n",
      "6\n",
      "8\n",
      "10\n",
      "12\n",
      "14\n",
      "16\n",
      "18\n",
      "20\n"
     ]
    }
   ],
   "source": [
    "for i in range(2,21,2):\n",
    "  print(i)"
   ]
  },
  {
   "cell_type": "markdown",
   "id": "25c9f8cc",
   "metadata": {},
   "source": [
    "### <u> Example 5<u>\n",
    "#### Next suppose we wanted to find the sum of the squares of our numbers in the list"
   ]
  },
  {
   "cell_type": "code",
   "execution_count": 32,
   "id": "e7ba7fd5",
   "metadata": {},
   "outputs": [
    {
     "name": "stdout",
     "output_type": "stream",
     "text": [
      "1\n",
      "3\n",
      "6\n",
      "10\n",
      "15\n",
      "21\n",
      "28\n",
      "36\n",
      "45\n",
      "55\n",
      "The sum of the squares of our list of numbers is 55\n"
     ]
    }
   ],
   "source": [
    "# Let us the initialize the sum of the squares with 0. This makes sense right!\n",
    "sum_squares = 0\n",
    "\n",
    "for number in range(1,11):\n",
    "  sum_squares = sum_squares + number\n",
    "  print(sum_squares)\n",
    "\n",
    "# Now we have added the squares of all the numbers in our list\n",
    "print(f\"The sum of the squares of our list of numbers is {sum_squares}\")"
   ]
  },
  {
   "cell_type": "markdown",
   "id": "ce4cc972",
   "metadata": {},
   "source": [
    "### Up till now, we have only implemented for loops for list objects. From the last week, we know that there are other objects in Python which are sequence of elements such as strings, tuples etc. Let us try and apply for loop to iterate over their elements.\n",
    "\n",
    "### <u> Example 6</u>\n",
    "##### We are given a sentence : \"I am the one who knocks!\""
   ]
  },
  {
   "cell_type": "code",
   "execution_count": 34,
   "id": "4bbf3620",
   "metadata": {},
   "outputs": [],
   "source": [
    "# Let us first store the sentence in a string variable \n",
    "heisenberg_quote =  \"I am the one who knocks!\""
   ]
  },
  {
   "cell_type": "code",
   "execution_count": 35,
   "id": "5bff27e9",
   "metadata": {},
   "outputs": [
    {
     "name": "stdout",
     "output_type": "stream",
     "text": [
      " The character is I\n",
      " The character is  \n",
      " The character is a\n",
      " The character is m\n",
      " The character is  \n",
      " The character is t\n",
      " The character is h\n",
      " The character is e\n",
      " The character is  \n",
      " The character is o\n",
      " The character is n\n",
      " The character is e\n",
      " The character is  \n",
      " The character is w\n",
      " The character is h\n",
      " The character is o\n",
      " The character is  \n",
      " The character is k\n",
      " The character is n\n",
      " The character is o\n",
      " The character is c\n",
      " The character is k\n",
      " The character is s\n",
      " The character is !\n"
     ]
    }
   ],
   "source": [
    "for char in heisenberg_quote:\n",
    "  print(f\" The character is {char}\")"
   ]
  },
  {
   "cell_type": "code",
   "execution_count": 38,
   "id": "91432d0f",
   "metadata": {},
   "outputs": [
    {
     "name": "stdout",
     "output_type": "stream",
     "text": [
      " The index is 0 and the character is I\n",
      " The index is 1 and the character is  \n",
      " The index is 2 and the character is a\n",
      " The index is 3 and the character is m\n",
      " The index is 4 and the character is  \n",
      " The index is 5 and the character is t\n",
      " The index is 6 and the character is h\n",
      " The index is 7 and the character is e\n",
      " The index is 8 and the character is  \n",
      " The index is 9 and the character is o\n",
      " The index is 10 and the character is n\n",
      " The index is 11 and the character is e\n",
      " The index is 12 and the character is  \n",
      " The index is 13 and the character is w\n",
      " The index is 14 and the character is h\n",
      " The index is 15 and the character is o\n",
      " The index is 16 and the character is  \n",
      " The index is 17 and the character is k\n",
      " The index is 18 and the character is n\n",
      " The index is 19 and the character is o\n",
      " The index is 20 and the character is c\n",
      " The index is 21 and the character is k\n",
      " The index is 22 and the character is s\n",
      " The index is 23 and the character is !\n"
     ]
    }
   ],
   "source": [
    "# Lets apply a for loop to do the above task\n",
    "\n",
    "for index,char  in enumerate(heisenberg_quote):\n",
    "  print(f\" The index is {index} and the character is {char}\")"
   ]
  },
  {
   "cell_type": "markdown",
   "id": "9bf75e34",
   "metadata": {},
   "source": [
    "### We saw how we can iterate through each element of our string. What if you wanted to iterate through each word of the sentence and not each element. There is an important method available with strings known as <code>split()</code> method. \n",
    "\n",
    "#### This method returns the list of words separated by the character we want to separate them by.\n",
    "\n",
    "### <u> Example 7</u>"
   ]
  },
  {
   "cell_type": "markdown",
   "id": "b4f22655",
   "metadata": {},
   "source": [
    "heisenberg_quote = \"It ceases to exist without me. No, you clearly don't know who you're talking to, so let me clue you in. I am not in danger, Skyler. I am the danger.\""
   ]
  },
  {
   "cell_type": "code",
   "execution_count": 40,
   "id": "c110dcf4",
   "metadata": {},
   "outputs": [
    {
     "name": "stdout",
     "output_type": "stream",
     "text": [
      "['It', 'ceases', 'to', 'exist', 'without', 'me.', 'No,', 'you', 'clearly', \"don't\", 'know', 'who', \"you're\", 'talking', 'to,', 'so', 'let', 'me', 'clue', 'you', 'in.', 'I', 'am', 'not', 'in', 'danger,', 'Skyler.', 'I', 'am', 'the', 'danger.']\n"
     ]
    }
   ],
   "source": [
    "words_by_walter = heisenberg_quote.split(' ')\n",
    "print(words_by_walter)"
   ]
  },
  {
   "cell_type": "code",
   "execution_count": 41,
   "id": "9f430b79",
   "metadata": {},
   "outputs": [
    {
     "name": "stdout",
     "output_type": "stream",
     "text": [
      "The word is It\n",
      "The word is ceases\n",
      "The word is to\n",
      "The word is exist\n",
      "The word is without\n",
      "The word is me.\n",
      "The word is No,\n",
      "The word is clearly\n",
      "The word is don't\n",
      "The word is know\n",
      "The word is who\n",
      "The word is you're\n",
      "The word is talking\n",
      "The word is to,\n",
      "The word is so\n",
      "The word is let\n",
      "The word is me\n",
      "The word is clue\n",
      "The word is in.\n",
      "The word is am\n",
      "The word is not\n",
      "The word is in\n",
      "The word is danger,\n",
      "The word is Skyler.\n",
      "The word is am\n",
      "The word is the\n",
      "The word is danger.\n"
     ]
    }
   ],
   "source": [
    "# Now we can print each word by iterating through this list\n",
    "for word in words_by_walter:\n",
    "  if word not in ['I','you']:\n",
    "    print(f\"The word is {word}\")"
   ]
  },
  {
   "cell_type": "markdown",
   "id": "37392e1c",
   "metadata": {},
   "source": [
    "### We can also iterate through each element of tuple as well. \n",
    "\n",
    "### <u> Example 8 </u>"
   ]
  },
  {
   "cell_type": "code",
   "execution_count": 42,
   "id": "7bb3680d",
   "metadata": {},
   "outputs": [
    {
     "name": "stdout",
     "output_type": "stream",
     "text": [
      "Today is Monday\n",
      "Today is Tuesday\n",
      "Today is Wednesday\n",
      "Today is Thursday\n",
      "Today is Friday\n",
      "Today is Saturday\n",
      "Today is Sunday\n"
     ]
    }
   ],
   "source": [
    "# Suppose we have a tuple of days\n",
    "days = ('Monday' ,'Tuesday' ,'Wednesday' ,'Thursday' ,'Friday','Saturday','Sunday')\n",
    "\n",
    "for day in days:\n",
    "  print(f\"Today is {day}\")"
   ]
  },
  {
   "cell_type": "markdown",
   "id": "b8f4d1ab",
   "metadata": {},
   "source": [
    "#### Tuples have a special quality when it comes to <code>for</code> loops. If you are iterating through a sequence that contains tuples, the item can actually be the tuple itself, this is an example of *tuple unpacking*. During the <code>for</code> loop we will be unpacking the tuple inside of a sequence and we can access the individual items inside that tuple!"
   ]
  },
  {
   "cell_type": "markdown",
   "id": "2752b270",
   "metadata": {},
   "source": [
    "#### Remember from earlier we had a list of tuples of country-city\n",
    "\n",
    "### <u> Example 9</u>"
   ]
  },
  {
   "cell_type": "code",
   "execution_count": 43,
   "id": "09504a10",
   "metadata": {},
   "outputs": [],
   "source": [
    "country_city_river_list = [('India','New Delhi','Ganga'),('Australia','Canberra','Rovers'),('United States','Washington DC','Missouri'),('England','London','Thames')]"
   ]
  },
  {
   "cell_type": "code",
   "execution_count": 44,
   "id": "e209cd19",
   "metadata": {},
   "outputs": [
    {
     "name": "stdout",
     "output_type": "stream",
     "text": [
      "The capital of the country India is New Delhi and it also has the river Ganga.\n",
      "The capital of the country Australia is Canberra and it also has the river Rovers.\n",
      "The capital of the country United States is Washington DC and it also has the river Missouri.\n",
      "The capital of the country England is London and it also has the river Thames.\n"
     ]
    }
   ],
   "source": [
    "# Let us iterate through each tuple element of this list and unpack each item\n",
    "\n",
    "for country,city,river in country_city_river_list:\n",
    "  # print(country_city)\n",
    "  print(f\"The capital of the country {country} is {city} and it also has the river {river}.\")"
   ]
  },
  {
   "cell_type": "markdown",
   "id": "bf57bace",
   "metadata": {},
   "source": [
    "### Finally we can iterate through the items of a dictionary as well. \n",
    "\n",
    "### <u> Example 10 </u>"
   ]
  },
  {
   "cell_type": "code",
   "execution_count": 52,
   "id": "192ef24d",
   "metadata": {},
   "outputs": [],
   "source": [
    "country_city_list = {'India': 'New Delhi', 'Australia': 'Canberra', 'United States': 'Washington DC', 'England': 'London'}"
   ]
  },
  {
   "cell_type": "code",
   "execution_count": 53,
   "id": "61cf350a",
   "metadata": {},
   "outputs": [
    {
     "name": "stdout",
     "output_type": "stream",
     "text": [
      "{'India': 'New Delhi', 'Australia': 'Canberra', 'United States': 'Washington DC', 'England': 'London'}\n"
     ]
    }
   ],
   "source": [
    "# Lets convert the list of tuples to a dictionary\n",
    "country_city_dict = dict(country_city_list)\n",
    "print(country_city_dict)"
   ]
  },
  {
   "cell_type": "code",
   "execution_count": 54,
   "id": "24a57e31",
   "metadata": {},
   "outputs": [
    {
     "name": "stdout",
     "output_type": "stream",
     "text": [
      "India\n",
      "Australia\n",
      "United States\n",
      "England\n"
     ]
    }
   ],
   "source": [
    "for item in country_city_dict:\n",
    "  print(item)"
   ]
  },
  {
   "cell_type": "code",
   "execution_count": 55,
   "id": "d884af2d",
   "metadata": {},
   "outputs": [
    {
     "data": {
      "text/plain": [
       "dict_items([('India', 'New Delhi'), ('Australia', 'Canberra'), ('United States', 'Washington DC'), ('England', 'London')])"
      ]
     },
     "execution_count": 55,
     "metadata": {},
     "output_type": "execute_result"
    }
   ],
   "source": [
    "country_city_dict.items()"
   ]
  },
  {
   "cell_type": "markdown",
   "id": "5739d955",
   "metadata": {},
   "source": [
    "#### This just prints the keys of the dictionary\n",
    "\n",
    "#### Next we can iterate through the key-value pairs using the <code>items()</code> method which you should remember from earlier\n",
    "\n",
    "#### Since the <code>items()</code> method supports iteration, we can perform *dictionary unpacking* to separate keys and values "
   ]
  },
  {
   "cell_type": "markdown",
   "id": "9d7a4ec5",
   "metadata": {},
   "source": [
    "# While Loop"
   ]
  },
  {
   "cell_type": "markdown",
   "id": "624a0831",
   "metadata": {},
   "source": [
    "### The <code>while</code> statement in Python is one of the most general ways to perform iteration. A <code>while</code> statement will repeatedly execute a single statement or group of statements as long as the condition is true. The reason it is called a 'loop' is because the code statements are looped through over and over again until the condition is no longer met.\n",
    "\n",
    "### The general format of a while loop is:\n",
    "\n",
    "    while test:\n",
    "        code statements\n",
    "    else:\n",
    "        final code statements\n",
    "\n",
    "### Let’s look at a few simple <code>while</code> loops in action."
   ]
  },
  {
   "cell_type": "code",
   "execution_count": 1,
   "id": "91f748b9",
   "metadata": {},
   "outputs": [
    {
     "name": "stdout",
     "output_type": "stream",
     "text": [
      "x is currently:  0\n",
      "x is still less than 10, adding 1 to x\n",
      "x is currently:  1\n",
      "x is still less than 10, adding 1 to x\n",
      "x is currently:  2\n",
      "x is still less than 10, adding 1 to x\n",
      "x is currently:  3\n",
      "x is still less than 10, adding 1 to x\n",
      "x is currently:  4\n",
      "x is still less than 10, adding 1 to x\n",
      "x is currently:  5\n",
      "x is still less than 10, adding 1 to x\n",
      "x is currently:  6\n",
      "x is still less than 10, adding 1 to x\n",
      "x is currently:  7\n",
      "x is still less than 10, adding 1 to x\n",
      "x is currently:  8\n",
      "x is still less than 10, adding 1 to x\n",
      "x is currently:  9\n",
      "x is still less than 10, adding 1 to x\n"
     ]
    }
   ],
   "source": [
    "x = 0\n",
    "\n",
    "while x < 10:\n",
    "  print('x is currently: ',x)\n",
    "  print('x is still less than 10, adding 1 to x')\n",
    "  x=x+1"
   ]
  },
  {
   "cell_type": "markdown",
   "id": "33f17ca7",
   "metadata": {},
   "source": [
    "### Notice how many times the print statements occurred and how the <code>while</code> loop kept going until the False condition was met, which occurred once x==10. It's important to note that once this occurred the code stopped. Let's see how we could add an <code>else</code> statement:\n"
   ]
  },
  {
   "cell_type": "code",
   "execution_count": 3,
   "id": "76c26eec",
   "metadata": {},
   "outputs": [
    {
     "name": "stdout",
     "output_type": "stream",
     "text": [
      "x is currently:  0\n",
      " x is still less than 10, adding 1 to x\n",
      "x is currently:  1\n",
      " x is still less than 10, adding 1 to x\n",
      "x is currently:  2\n",
      " x is still less than 10, adding 1 to x\n",
      "x is currently:  3\n",
      " x is still less than 10, adding 1 to x\n",
      "x is currently:  4\n",
      " x is still less than 10, adding 1 to x\n",
      "All done\n",
      "I am done with the iterations\n"
     ]
    }
   ],
   "source": [
    "x = 0\n",
    "\n",
    "while x < 5:\n",
    "  print('x is currently: ',x)\n",
    "  print(' x is still less than 10, adding 1 to x')\n",
    "  x+=1\n",
    "  \n",
    "print(\"All done\")\n",
    "print(\"I am done with the iterations\")"
   ]
  },
  {
   "cell_type": "markdown",
   "id": "666c81c4",
   "metadata": {},
   "source": [
    "# break, continue, pass"
   ]
  },
  {
   "cell_type": "markdown",
   "id": "c782a593",
   "metadata": {},
   "source": [
    "\n",
    "\n",
    " We can use <code>break</code>, <code>continue</code>, and <code>pass</code> statements in our loops to add additional functionality for various cases. The three statements are defined by:\n",
    "\n",
    "    break: Breaks out of the current closest enclosing loop.\n",
    "    continue: Goes to the top of the closest enclosing loop.\n",
    "    pass: Does nothing at all.\n",
    "    \n",
    "    \n",
    "Thinking about <code>break</code> and <code>continue</code> statements, the general format of the <code>while</code> loop looks like this:\n",
    "\n",
    "    while test: \n",
    "        code statement\n",
    "        if test: \n",
    "            break\n",
    "        if test: \n",
    "            continue \n",
    "    else:\n",
    "\n",
    "<code>break</code> and <code>continue</code> statements can appear anywhere inside the loop’s body, but we will usually put them further nested in conjunction with an <code>if</code> statement to perform an action based on some condition.\n"
   ]
  },
  {
   "cell_type": "code",
   "execution_count": null,
   "id": "eda11603",
   "metadata": {},
   "outputs": [],
   "source": [
    "x = 0\n",
    "\n",
    "while x < 10:\n",
    "  print('x is currently: ',x)\n",
    "  print(' x is still less than 10, adding 1 to x')\n",
    "  # x+=1\n",
    "  if x==3:\n",
    "    print('x==3')\n",
    "    #break\n",
    "else:\n",
    "    print('continuing...')\n",
    "    #continue"
   ]
  },
  {
   "cell_type": "markdown",
   "id": "1d1ac02d",
   "metadata": {},
   "source": [
    "Note how we have a printed statement when x==3, and a continue being printed out as we continue through the outer while loop. Let's put in a break once x ==3 and see if the result makes sense:"
   ]
  },
  {
   "cell_type": "code",
   "execution_count": 1,
   "id": "143646bb",
   "metadata": {},
   "outputs": [
    {
     "name": "stdout",
     "output_type": "stream",
     "text": [
      "x is currently:  0\n",
      " x is still less than 10, adding 1 to x\n"
     ]
    }
   ],
   "source": [
    "\n",
    "x = 0\n",
    "\n",
    "while x < 10:\n",
    "  print('x is currently: ',x)\n",
    "  print(' x is still less than 10, adding 1 to x')\n",
    "  x+=1\n",
    "  break\n",
    "\n",
    "else:\n",
    "  print('continuing...')\n",
    "  "
   ]
  },
  {
   "cell_type": "markdown",
   "id": "b0874a41",
   "metadata": {},
   "source": [
    "\n",
    "\n",
    "#### After these brief but simple examples, you should feel comfortable using <code>while</code> statements in your code.\n",
    "\n",
    "#### **A word of caution however! It is possible to create an infinitely running loop with <code>while</code> statements.**"
   ]
  },
  {
   "cell_type": "code",
   "execution_count": 3,
   "id": "8497fcdb",
   "metadata": {},
   "outputs": [
    {
     "ename": "IndentationError",
     "evalue": "expected an indented block (766928523.py, line 5)",
     "output_type": "error",
     "traceback": [
      "\u001b[1;36m  File \u001b[1;32m\"C:\\Users\\admin\\AppData\\Local\\Temp\\ipykernel_18884\\766928523.py\"\u001b[1;36m, line \u001b[1;32m5\u001b[0m\n\u001b[1;33m    \u001b[0m\n\u001b[1;37m    ^\u001b[0m\n\u001b[1;31mIndentationError\u001b[0m\u001b[1;31m:\u001b[0m expected an indented block\n"
     ]
    }
   ],
   "source": [
    "for elem in list_of_numbers:\n",
    "  while elem > 3:\n",
    "    pass\n",
    "  else:"
   ]
  },
  {
   "cell_type": "code",
   "execution_count": 4,
   "id": "e1043c6f",
   "metadata": {},
   "outputs": [],
   "source": [
    "l = []\n",
    "for elem in l :\n",
    "  print(elem)"
   ]
  },
  {
   "cell_type": "code",
   "execution_count": null,
   "id": "89523201",
   "metadata": {},
   "outputs": [],
   "source": []
  }
 ],
 "metadata": {
  "kernelspec": {
   "display_name": "Python 3 (ipykernel)",
   "language": "python",
   "name": "python3"
  },
  "language_info": {
   "codemirror_mode": {
    "name": "ipython",
    "version": 3
   },
   "file_extension": ".py",
   "mimetype": "text/x-python",
   "name": "python",
   "nbconvert_exporter": "python",
   "pygments_lexer": "ipython3",
   "version": "3.9.13"
  }
 },
 "nbformat": 4,
 "nbformat_minor": 5
}
